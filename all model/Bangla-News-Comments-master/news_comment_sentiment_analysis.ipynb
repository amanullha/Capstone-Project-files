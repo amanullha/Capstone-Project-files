{
 "cells": [
  {
   "cell_type": "code",
   "execution_count": 5,
   "metadata": {
    "colab": {
     "base_uri": "https://localhost:8080/",
     "height": 128
    },
    "colab_type": "code",
    "executionInfo": {
     "elapsed": 33638,
     "status": "ok",
     "timestamp": 1596395659329,
     "user": {
      "displayName": "EFTEKHAR HOSSAIN 1308006",
      "photoUrl": "https://lh3.googleusercontent.com/a-/AOh14GhB_S2SahlIoGyzj581ugCWrrC6Yl1l6BBILkt0=s64",
      "userId": "05840817180100570187"
     },
     "user_tz": -360
    },
    "id": "5kLt0i11yqtU",
    "outputId": "e0c0274c-8cb5-4301-b415-cdfb5301da29"
   },
   "outputs": [],
   "source": [
    "# from google.colab import drive\n",
    "# drive.mount('/content/drive')"
   ]
  },
  {
   "cell_type": "code",
   "execution_count": 6,
   "metadata": {
    "colab": {},
    "colab_type": "code",
    "id": "hauMJQrZ4aIU"
   },
   "outputs": [],
   "source": [
    "import sys\n",
    "# sys.path.insert(0,'/content/drive/My Drive/Colab Notebooks/NLP Projects/Sentiment Analysis')\n",
    "#from utils import hello"
   ]
  },
  {
   "cell_type": "markdown",
   "metadata": {
    "colab_type": "text",
    "id": "8fowsr_BdpNO"
   },
   "source": [
    "#Libraries"
   ]
  },
  {
   "cell_type": "code",
   "execution_count": 7,
   "metadata": {
    "colab": {},
    "colab_type": "code",
    "executionInfo": {
     "elapsed": 940,
     "status": "ok",
     "timestamp": 1596397382606,
     "user": {
      "displayName": "EFTEKHAR HOSSAIN 1308006",
      "photoUrl": "https://lh3.googleusercontent.com/a-/AOh14GhB_S2SahlIoGyzj581ugCWrrC6Yl1l6BBILkt0=s64",
      "userId": "05840817180100570187"
     },
     "user_tz": -360
    },
    "id": "IT-FRKrbdrqz"
   },
   "outputs": [],
   "source": [
    "import numpy as np\n",
    "import pandas as pd\n",
    "import matplotlib.pyplot as plt\n",
    "%matplotlib inline\n",
    "import seaborn as sns\n",
    "import re,json,nltk\n",
    "from sklearn.preprocessing import LabelEncoder\n",
    "from sklearn.feature_extraction.text import TfidfVectorizer\n",
    "from sklearn.model_selection import train_test_split\n",
    "from sklearn.metrics import classification_report,accuracy_score,precision_score,recall_score,f1_score\n",
    "from tensorflow.keras.preprocessing.text import Tokenizer\n",
    "path ='/home/ubuntu/Desktop/ML/Coding/dataset/' \n",
    "stopwords_list = path+'bangla_stopwords.txt'\n",
    "class color: # Text style\n",
    "   PURPLE = '\\033[95m'\n",
    "   CYAN = '\\033[96m'\n",
    "   DARKCYAN = '\\033[36m'\n",
    "   BLUE = '\\033[94m'\n",
    "   GREEN = '\\033[92m'\n",
    "   YELLOW = '\\033[93m'\n",
    "   RED = '\\033[91m'\n",
    "   BOLD = '\\033[1m'\n",
    "   UNDERLINE = '\\033[4m'\n",
    "   END = '\\033[0m'"
   ]
  },
  {
   "cell_type": "markdown",
   "metadata": {
    "colab_type": "text",
    "id": "LbFfm0MPeG4Y"
   },
   "source": [
    "#Dataset Preparation"
   ]
  },
  {
   "cell_type": "code",
   "execution_count": 8,
   "metadata": {
    "colab": {
     "base_uri": "https://localhost:8080/",
     "height": 126
    },
    "colab_type": "code",
    "executionInfo": {
     "elapsed": 3332,
     "status": "ok",
     "timestamp": 1596395797009,
     "user": {
      "displayName": "EFTEKHAR HOSSAIN 1308006",
      "photoUrl": "https://lh3.googleusercontent.com/a-/AOh14GhB_S2SahlIoGyzj581ugCWrrC6Yl1l6BBILkt0=s64",
      "userId": "05840817180100570187"
     },
     "user_tz": -360
    },
    "id": "mGjQAUYxeKqv",
    "outputId": "f9a931bb-f61b-484a-fd3c-920e7f38598a"
   },
   "outputs": [
    {
     "name": "stdout",
     "output_type": "stream",
     "text": [
      "Total Reviews: 14161 \n",
      "Total Positive Reviews: 5119 \n",
      "Total Neutral Reviews: 5787 \n",
      "Total Negative Reviews: 3255\n"
     ]
    }
   ],
   "source": [
    "# Read the data and take only 1000 Reviews\n",
    "data = pd.read_csv(\"/home/ubuntu/Desktop/ML/Coding/dataset/SentNoB Dataset/Train.csv\",encoding='utf-8')\n",
    "df_t = pd.read_csv(\"/home/ubuntu/Desktop/ML/Coding/dataset/SentNoB Dataset/Test.csv\",encoding='utf-8')\n",
    "data=data.append(df_t);\n",
    "print(\"Total Reviews:\",len(data),\n",
    "      \"\\nTotal Positive Reviews:\",len(data[data.Label==2]),\n",
    "      \"\\nTotal Neutral Reviews:\",len(data[data.Label==1]),\n",
    "      \"\\nTotal Negative Reviews:\",len(data[data.Label==0]))"
   ]
  },
  {
   "cell_type": "code",
   "execution_count": 9,
   "metadata": {
    "colab": {
     "base_uri": "https://localhost:8080/",
     "height": 332
    },
    "colab_type": "code",
    "executionInfo": {
     "elapsed": 1166,
     "status": "ok",
     "timestamp": 1596396692460,
     "user": {
      "displayName": "EFTEKHAR HOSSAIN 1308006",
      "photoUrl": "https://lh3.googleusercontent.com/a-/AOh14GhB_S2SahlIoGyzj581ugCWrrC6Yl1l6BBILkt0=s64",
      "userId": "05840817180100570187"
     },
     "user_tz": -360
    },
    "id": "0LuAApeNmsF_",
    "outputId": "c92704d1-48ed-4bb2-d484-987b5ea22d49"
   },
   "outputs": [
    {
     "data": {
      "image/png": "[encoded data removed]",
      "text/plain": [
       "<Figure size 432x288 with 1 Axes>"
      ]
     },
     "metadata": {},
     "output_type": "display_data"
    }
   ],
   "source": [
    "sns.set(font_scale=1.4)\n",
    "data['Label'].value_counts().plot(kind='barh', figsize=(6, 4))\n",
    "plt.xlabel(\"Number of Comments\", labelpad=12)\n",
    "plt.ylabel(\"Sentiment Class\", labelpad=12)\n",
    "plt.yticks(rotation = 45)\n",
    "plt.title(\"Dataset Distribution\", y=1.02);"
   ]
  },
  {
   "cell_type": "code",
   "execution_count": 10,
   "metadata": {
    "colab": {
     "base_uri": "https://localhost:8080/",
     "height": 910
    },
    "colab_type": "code",
    "executionInfo": {
     "elapsed": 1411,
     "status": "ok",
     "timestamp": 1596063446791,
     "user": {
      "displayName": "EFTEKHAR HOSSAIN 1308006",
      "photoUrl": "https://lh3.googleusercontent.com/a-/AOh14GhB_S2SahlIoGyzj581ugCWrrC6Yl1l6BBILkt0=s64",
      "userId": "05840817180100570187"
     },
     "user_tz": -360
    },
    "id": "B_cQb9MOfIb4",
    "outputId": "6b89ebf6-3df8-4137-edc2-131631a89272"
   },
   "outputs": [
    {
     "name": "stdout",
     "output_type": "stream",
     "text": [
      "10    লেসবো মেয়েটার ফ্রেন্ড টা অনেক কিউট \n",
      "10        আমার পছন্দ সাদা ভা আর গরুর মাংস\n",
      "Name: Data, dtype: object \n",
      " Sentiment:--  10    2\n",
      "10    0\n",
      "Name: Label, dtype: int64 \n",
      "\n",
      "100    ভর দুপুরে এত খাবার দেখে ভীষণ লোভ লাগল দাদা , দ...\n",
      "100      না দা ভাগাড়ের মরা মুরগী বা পাঙ্গাস নয় আসল ভেটকী\n",
      "Name: Data, dtype: object \n",
      " Sentiment:--  100    1\n",
      "100    1\n",
      "Name: Label, dtype: int64 \n",
      "\n",
      "150    সাধারণ মানুষদের থেকে ও তারা এভাবে খাই । পুলিশ ...\n",
      "150            নাইফ তো কাচা বিফের ভিতর ও ইজিলি ঢুকে যাবে\n",
      "Name: Data, dtype: object \n",
      " Sentiment:--  150    2\n",
      "150    1\n",
      "Name: Label, dtype: int64 \n",
      "\n",
      "ভাই আপনাকে পাঞ্জাবিতে বেশি ভালো মানায় \n",
      " Sentiment:--  1 \n",
      "\n",
      "তোমার জন্য অনেক দোয়া এবং শুভ কামনা  \n",
      " Sentiment:--  1 \n",
      "\n",
      "ব্যাংকক ফুড টুর খুব ভাল লাগল । অাপনার প্রেজেনটেশন খুব এনারজেটিক হয়েছে \n",
      " Sentiment:--  1 \n",
      "\n",
      "রহস্যময় পৃথিবী ভদ্রভাবে কথা বলছি ভাল লাগছে না ? শুকর খাবি ? স্ট্যাক করে খাইতে পারবি । একদম সফট মিট । বোনলেস \n",
      " Sentiment:--  2 \n",
      "\n",
      "যারা প্রাণীজ আমিষ খায় না , শাক থেকে সবজি তাদের জন্য ঠিক আছে , এর বাইরে উপায়ও নেই কোন ! কিন্তু এসব শাক থেকে সবজি দিয়ে কাবাব থেকে বার্গার ও অন্যান্য মাংস থেকে নির্ভর সুস্বাদু খাওয়ার বিকল্প যা বানানো হয় , স্বাদে থেকে গন্ধে তা খুবই বিস্বাদ ও বিরক্তিকর   \n",
      " Sentiment:--  2 \n",
      "\n",
      "আমি ইত্যাদির হানিফ স্যার কে অনুরুধ করবো তাকে যে কোন একটা ইত্যাদিতে , দেখানো হয়  \n",
      " Sentiment:--  1 \n",
      "\n",
      "পিচ্ছির পার্ট টা 10বার দেখলাম এই পর্যন্ত \n",
      " Sentiment:--  1 \n",
      "\n",
      "বাপ মা ঠিক ঠিকানা আছে নাকি । কারো ধর্মকে ছোট করবি না । আর হ্যা বাজে কমেন্ট টা তোরই জাতিভাই মুসলিমই করছে । কিন্তু তুই শুধু শুধু হিন্দুদের এখানে বাজে কথা বললি । তোর বিচার হবেই হবে জাহান্নাম এ \n",
      " Sentiment:--  2 \n",
      "\n",
      "মাগো আপনার ছেলের জন্য ভাল দোয়া করেন , যাতে সে একজন ইমানদার লোক হয়ে সমাজে বসবাস করতে পারে  \n",
      " Sentiment:--  1 \n",
      "\n",
      "হুম অভিযোগ খতিয়ে দেখবেন । প্রমান থাকার পরেও এই অভিযোগ খতিয়ে দেখতে না জানি কত দিন সমইয় লাগবে \n",
      " Sentiment:--  2 \n",
      "\n",
      "অসাধারণ ভাইয়া , আপনি যেভাবে অন্য দেশের মানুষ হয়েও এতো সুন্দর উদ্যোগ নিয়ে ব্লগিং করছেন খুব ভালো লাগছে , আরো চাই এমন  \n",
      " Sentiment:--  1 \n",
      "\n",
      "হুম , চিন্তার কথা ! খাগড়াছড়ির শাপলা চত্তরে গেলে একটা ব্যবস্থা হয়ে যাবে ভাইয়া । আর একান্ত বেশী চিন্তায় পড়লে যাবার আগে আমাকে নক কইরেন , এক গাড়ির নাম্বার দিয়ে দিবোনে  \n",
      " Sentiment:--  1 \n",
      "\n",
      "আপনার সবগুলো ভিডিও আমি দেখি । ভিডিও গুলো ভালোই হয় । কিন্তুু খাবারের সময় খুব বিচ্ছিরি আওয়াজ করে আপনি খাবার খান । যা ভিডি ওর মান নস্ট হয়ে যায় \n",
      " Sentiment:--  2 \n",
      "\n"
     ]
    }
   ],
   "source": [
    "# print some unprocessed reviews\n",
    "sample_data = [10,100,150,2000,2500,4000,4500,5000,6000,6500,6660,6899,6400,7000,7500,8000]\n",
    "for i in sample_data:\n",
    "      print(data.Data[i],'\\n','Sentiment:-- ',data.Label[i],'\\n')  "
   ]
  },
  {
   "cell_type": "markdown",
   "metadata": {
    "colab_type": "text",
    "id": "P_9Dt_CRfdez"
   },
   "source": [
    "#Data Cleaning"
   ]
  },
  {
   "cell_type": "code",
   "execution_count": 11,
   "metadata": {
    "colab": {},
    "colab_type": "code",
    "executionInfo": {
     "elapsed": 942,
     "status": "ok",
     "timestamp": 1596396629556,
     "user": {
      "displayName": "EFTEKHAR HOSSAIN 1308006",
      "photoUrl": "https://lh3.googleusercontent.com/a-/AOh14GhB_S2SahlIoGyzj581ugCWrrC6Yl1l6BBILkt0=s64",
      "userId": "05840817180100570187"
     },
     "user_tz": -360
    },
    "id": "8-fQhDVnffoX"
   },
   "outputs": [],
   "source": [
    "# Data cleaning function\n",
    "def process_comments(comment): \n",
    "    comment = re.sub('[^\\u0980-\\u09FF]',' ',str(comment)) #removing unnecessary punctuation\n",
    "    return comment"
   ]
  },
  {
   "cell_type": "code",
   "execution_count": 12,
   "metadata": {
    "colab": {
     "base_uri": "https://localhost:8080/",
     "height": 1000
    },
    "colab_type": "code",
    "executionInfo": {
     "elapsed": 901,
     "status": "ok",
     "timestamp": 1596396653679,
     "user": {
      "displayName": "EFTEKHAR HOSSAIN 1308006",
      "photoUrl": "https://lh3.googleusercontent.com/a-/AOh14GhB_S2SahlIoGyzj581ugCWrrC6Yl1l6BBILkt0=s64",
      "userId": "05840817180100570187"
     },
     "user_tz": -360
    },
    "id": "5VSrSJ1zgPTv",
    "outputId": "219588fa-ae9d-4af4-afe9-e0679a40e3c1"
   },
   "outputs": [
    {
     "name": "stdout",
     "output_type": "stream",
     "text": [
      "Original:\n",
      " 10    লেসবো মেয়েটার ফ্রেন্ড টা অনেক কিউট \n",
      "10        আমার পছন্দ সাদা ভা আর গরুর মাংস\n",
      "Name: Data, dtype: object \n",
      "Cleaned:\n",
      " 10    লেসবো মেয়েটার ফ্রেন্ড টা অনেক কিউট \n",
      "10        আমার পছন্দ সাদা ভা আর গরুর মাংস\n",
      "Name: cleaned, dtype: object \n",
      " Sentiment:--  10    2\n",
      "10    0\n",
      "Name: Label, dtype: int64 \n",
      "\n",
      "Original:\n",
      " 100    ভর দুপুরে এত খাবার দেখে ভীষণ লোভ লাগল দাদা , দ...\n",
      "100      না দা ভাগাড়ের মরা মুরগী বা পাঙ্গাস নয় আসল ভেটকী\n",
      "Name: Data, dtype: object \n",
      "Cleaned:\n",
      " 100    ভর দুপুরে এত খাবার দেখে ভীষণ লোভ লাগল দাদা   দ...\n",
      "100      না দা ভাগাড়ের মরা মুরগী বা পাঙ্গাস নয় আসল ভেটকী\n",
      "Name: cleaned, dtype: object \n",
      " Sentiment:--  100    1\n",
      "100    1\n",
      "Name: Label, dtype: int64 \n",
      "\n",
      "Original:\n",
      " 150    সাধারণ মানুষদের থেকে ও তারা এভাবে খাই । পুলিশ ...\n",
      "150            নাইফ তো কাচা বিফের ভিতর ও ইজিলি ঢুকে যাবে\n",
      "Name: Data, dtype: object \n",
      "Cleaned:\n",
      " 150    সাধারণ মানুষদের থেকে ও তারা এভাবে খাই   পুলিশ ...\n",
      "150            নাইফ তো কাচা বিফের ভিতর ও ইজিলি ঢুকে যাবে\n",
      "Name: cleaned, dtype: object \n",
      " Sentiment:--  150    2\n",
      "150    1\n",
      "Name: Label, dtype: int64 \n",
      "\n",
      "Original:\n",
      " ভাই আপনাকে পাঞ্জাবিতে বেশি ভালো মানায় \n",
      "Cleaned:\n",
      " ভাই আপনাকে পাঞ্জাবিতে বেশি ভালো মানায় \n",
      " Sentiment:--  1 \n",
      "\n",
      "Original:\n",
      " তোমার জন্য অনেক দোয়া এবং শুভ কামনা  \n",
      "Cleaned:\n",
      " তোমার জন্য অনেক দোয়া এবং শুভ কামনা  \n",
      " Sentiment:--  1 \n",
      "\n",
      "Original:\n",
      " ব্যাংকক ফুড টুর খুব ভাল লাগল । অাপনার প্রেজেনটেশন খুব এনারজেটিক হয়েছে \n",
      "Cleaned:\n",
      " ব্যাংকক ফুড টুর খুব ভাল লাগল   অাপনার প্রেজেনটেশন খুব এনারজেটিক হয়েছে \n",
      " Sentiment:--  1 \n",
      "\n",
      "Original:\n",
      " রহস্যময় পৃথিবী ভদ্রভাবে কথা বলছি ভাল লাগছে না ? শুকর খাবি ? স্ট্যাক করে খাইতে পারবি । একদম সফট মিট । বোনলেস \n",
      "Cleaned:\n",
      " রহস্যময় পৃথিবী ভদ্রভাবে কথা বলছি ভাল লাগছে না   শুকর খাবি   স্ট্যাক করে খাইতে পারবি   একদম সফট মিট   বোনলেস \n",
      " Sentiment:--  2 \n",
      "\n",
      "Original:\n",
      " যারা প্রাণীজ আমিষ খায় না , শাক থেকে সবজি তাদের জন্য ঠিক আছে , এর বাইরে উপায়ও নেই কোন ! কিন্তু এসব শাক থেকে সবজি দিয়ে কাবাব থেকে বার্গার ও অন্যান্য মাংস থেকে নির্ভর সুস্বাদু খাওয়ার বিকল্প যা বানানো হয় , স্বাদে থেকে গন্ধে তা খুবই বিস্বাদ ও বিরক্তিকর   \n",
      "Cleaned:\n",
      " যারা প্রাণীজ আমিষ খায় না   শাক থেকে সবজি তাদের জন্য ঠিক আছে   এর বাইরে উপায়ও নেই কোন   কিন্তু এসব শাক থেকে সবজি দিয়ে কাবাব থেকে বার্গার ও অন্যান্য মাংস থেকে নির্ভর সুস্বাদু খাওয়ার বিকল্প যা বানানো হয়   স্বাদে থেকে গন্ধে তা খুবই বিস্বাদ ও বিরক্তিকর   \n",
      " Sentiment:--  2 \n",
      "\n",
      "Original:\n",
      " আমি ইত্যাদির হানিফ স্যার কে অনুরুধ করবো তাকে যে কোন একটা ইত্যাদিতে , দেখানো হয়  \n",
      "Cleaned:\n",
      " আমি ইত্যাদির হানিফ স্যার কে অনুরুধ করবো তাকে যে কোন একটা ইত্যাদিতে   দেখানো হয়  \n",
      " Sentiment:--  1 \n",
      "\n",
      "Original:\n",
      " পিচ্ছির পার্ট টা 10বার দেখলাম এই পর্যন্ত \n",
      "Cleaned:\n",
      " পিচ্ছির পার্ট টা   বার দেখলাম এই পর্যন্ত \n",
      " Sentiment:--  1 \n",
      "\n",
      "Original:\n",
      " বাপ মা ঠিক ঠিকানা আছে নাকি । কারো ধর্মকে ছোট করবি না । আর হ্যা বাজে কমেন্ট টা তোরই জাতিভাই মুসলিমই করছে । কিন্তু তুই শুধু শুধু হিন্দুদের এখানে বাজে কথা বললি । তোর বিচার হবেই হবে জাহান্নাম এ \n",
      "Cleaned:\n",
      " বাপ মা ঠিক ঠিকানা আছে নাকি   কারো ধর্মকে ছোট করবি না   আর হ্যা বাজে কমেন্ট টা তোরই জাতিভাই মুসলিমই করছে   কিন্তু তুই শুধু শুধু হিন্দুদের এখানে বাজে কথা বললি   তোর বিচার হবেই হবে জাহান্নাম এ \n",
      " Sentiment:--  2 \n",
      "\n",
      "Original:\n",
      " মাগো আপনার ছেলের জন্য ভাল দোয়া করেন , যাতে সে একজন ইমানদার লোক হয়ে সমাজে বসবাস করতে পারে  \n",
      "Cleaned:\n",
      " মাগো আপনার ছেলের জন্য ভাল দোয়া করেন   যাতে সে একজন ইমানদার লোক হয়ে সমাজে বসবাস করতে পারে  \n",
      " Sentiment:--  1 \n",
      "\n",
      "Original:\n",
      " হুম অভিযোগ খতিয়ে দেখবেন । প্রমান থাকার পরেও এই অভিযোগ খতিয়ে দেখতে না জানি কত দিন সমইয় লাগবে \n",
      "Cleaned:\n",
      " হুম অভিযোগ খতিয়ে দেখবেন   প্রমান থাকার পরেও এই অভিযোগ খতিয়ে দেখতে না জানি কত দিন সমইয় লাগবে \n",
      " Sentiment:--  2 \n",
      "\n",
      "Original:\n",
      " অসাধারণ ভাইয়া , আপনি যেভাবে অন্য দেশের মানুষ হয়েও এতো সুন্দর উদ্যোগ নিয়ে ব্লগিং করছেন খুব ভালো লাগছে , আরো চাই এমন  \n",
      "Cleaned:\n",
      " অসাধারণ ভাইয়া   আপনি যেভাবে অন্য দেশের মানুষ হয়েও এতো সুন্দর উদ্যোগ নিয়ে ব্লগিং করছেন খুব ভালো লাগছে   আরো চাই এমন  \n",
      " Sentiment:--  1 \n",
      "\n",
      "Original:\n",
      " হুম , চিন্তার কথা ! খাগড়াছড়ির শাপলা চত্তরে গেলে একটা ব্যবস্থা হয়ে যাবে ভাইয়া । আর একান্ত বেশী চিন্তায় পড়লে যাবার আগে আমাকে নক কইরেন , এক গাড়ির নাম্বার দিয়ে দিবোনে  \n",
      "Cleaned:\n",
      " হুম   চিন্তার কথা   খাগড়াছড়ির শাপলা চত্তরে গেলে একটা ব্যবস্থা হয়ে যাবে ভাইয়া   আর একান্ত বেশী চিন্তায় পড়লে যাবার আগে আমাকে নক কইরেন   এক গাড়ির নাম্বার দিয়ে দিবোনে  \n",
      " Sentiment:--  1 \n",
      "\n",
      "Original:\n",
      " আপনার সবগুলো ভিডিও আমি দেখি । ভিডিও গুলো ভালোই হয় । কিন্তুু খাবারের সময় খুব বিচ্ছিরি আওয়াজ করে আপনি খাবার খান । যা ভিডি ওর মান নস্ট হয়ে যায় \n",
      "Cleaned:\n",
      " আপনার সবগুলো ভিডিও আমি দেখি   ভিডিও গুলো ভালোই হয়   কিন্তুু খাবারের সময় খুব বিচ্ছিরি আওয়াজ করে আপনি খাবার খান   যা ভিডি ওর মান নস্ট হয়ে যায় \n",
      " Sentiment:--  2 \n",
      "\n"
     ]
    }
   ],
   "source": [
    "# Apply the function into the dataframe\n",
    "data['cleaned'] = data['Data'].apply(process_comments)  \n",
    "\n",
    "# print some cleaned reviews from the dataset\n",
    "sample_data = [10,100,150,2000,2500,4000,4500,5000,6000,6500,6660,6899,6400,7000,7500,8000]\n",
    "for i in sample_data:\n",
    "     print('Original:\\n',data.Data[i],'\\nCleaned:\\n',\n",
    "           data.cleaned[i],'\\n','Sentiment:-- ',data.Label[i],'\\n')"
   ]
  },
  {
   "cell_type": "markdown",
   "metadata": {
    "colab_type": "text",
    "id": "x_G4vHGsjyXt"
   },
   "source": [
    "##Remove Low lenght data"
   ]
  },
  {
   "cell_type": "code",
   "execution_count": 13,
   "metadata": {
    "colab": {
     "base_uri": "https://localhost:8080/",
     "height": 72
    },
    "colab_type": "code",
    "executionInfo": {
     "elapsed": 1068,
     "status": "ok",
     "timestamp": 1596396661006,
     "user": {
      "displayName": "EFTEKHAR HOSSAIN 1308006",
      "photoUrl": "https://lh3.googleusercontent.com/a-/AOh14GhB_S2SahlIoGyzj581ugCWrrC6Yl1l6BBILkt0=s64",
      "userId": "05840817180100570187"
     },
     "user_tz": -360
    },
    "id": "U_l7GWutj1gu",
    "outputId": "3224bb68-23d6-46ba-ce38-72e8c5f7243e"
   },
   "outputs": [
    {
     "name": "stdout",
     "output_type": "stream",
     "text": [
      "After Cleaning: \n",
      "Removed 8 Small Reviews \n",
      "Total Reviews: 14153\n"
     ]
    }
   ],
   "source": [
    "# Length of each Reveiws\n",
    "data['length'] = data['cleaned'].apply(lambda x:len(x.split()))\n",
    "# Remove the reviews with least words\n",
    "dataset = data.loc[data.length>2]\n",
    "dataset = dataset.reset_index(drop = True)\n",
    "print(\"After Cleaning:\",\"\\nRemoved {} Small Reviews\".format(len(data)-len(dataset)),\n",
    "      \"\\nTotal Reviews:\",len(dataset))"
   ]
  },
  {
   "cell_type": "markdown",
   "metadata": {
    "colab_type": "text",
    "id": "LDC0c6EHhnY2"
   },
   "source": [
    "#Dataset Summary"
   ]
  },
  {
   "cell_type": "code",
   "execution_count": 14,
   "metadata": {
    "colab": {
     "base_uri": "https://localhost:8080/",
     "height": 1000
    },
    "colab_type": "code",
    "executionInfo": {
     "elapsed": 1826,
     "status": "ok",
     "timestamp": 1596220284057,
     "user": {
      "displayName": "EFTEKHAR HOSSAIN 1308006",
      "photoUrl": "https://lh3.googleusercontent.com/a-/AOh14GhB_S2SahlIoGyzj581ugCWrrC6Yl1l6BBILkt0=s64",
      "userId": "05840817180100570187"
     },
     "user_tz": -360
    },
    "id": "0gvw8gwkhqPQ",
    "outputId": "dce039f9-fe95-41c6-8f44-b95dcd10050c"
   },
   "outputs": [
    {
     "name": "stdout",
     "output_type": "stream",
     "text": [
      "\n",
      "Class Name :  1\n",
      "Number of Documents:5786\n",
      "Number of Words:83035\n",
      "Number of Unique Words:13945\n",
      "Most Frequent Words:\n",
      "\n",
      "না\t1141\n",
      "ভাই\t1120\n",
      "আপনার\t865\n",
      "ভালো\t842\n",
      "অনেক\t827\n",
      "আর\t712\n",
      "করে\t682\n",
      "জন্য\t677\n",
      "আমি\t670\n",
      "এই\t637\n",
      "\n",
      "Class Name :  2\n",
      "Number of Documents:5119\n",
      "Number of Words:77180\n",
      "Number of Unique Words:13147\n",
      "Most Frequent Words:\n",
      "\n",
      "না\t2319\n",
      "আর\t887\n",
      "এই\t873\n",
      "করে\t860\n",
      "কি\t750\n",
      "পুলিশ\t567\n",
      "হয়\t490\n",
      "তো\t439\n",
      "ভাই\t410\n",
      "টাকা\t400\n",
      "\n",
      "Class Name :  0\n",
      "Number of Documents:3248\n",
      "Number of Words:38398\n",
      "Number of Unique Words:9214\n",
      "Most Frequent Words:\n",
      "\n",
      "না\t1293\n",
      "কি\t432\n",
      "ভাই\t421\n",
      "করে\t322\n",
      "আর\t317\n",
      "এই\t302\n",
      "থেকে\t258\n",
      "হয়\t248\n",
      "আমি\t244\n",
      "হবে\t217\n",
      "Total Number of Unique Words:25528\n"
     ]
    }
   ],
   "source": [
    "def data_summary(dataset):\n",
    "    \n",
    "    \"\"\"\n",
    "    This function will print the summary of the reviews and words distribution in the dataset. \n",
    "    \n",
    "    Args:\n",
    "        dataset: list of cleaned sentences   \n",
    "        \n",
    "    Returns:\n",
    "        Number of documnets per class: int \n",
    "        Number of words per class: int\n",
    "        Number of unique words per class: int\n",
    "    \"\"\"\n",
    "    documents = []\n",
    "    words = []\n",
    "    u_words = []\n",
    "    total_u_words = [word.strip().lower() for t in list(dataset.cleaned) for word in t.strip().split()]\n",
    "    class_label= [k for k,v in dataset.Label.value_counts().to_dict().items()]\n",
    "  # find word list\n",
    "    for label in class_label: \n",
    "        word_list = [word.strip().lower() for t in list(dataset[dataset.Label==label].cleaned) for word in t.strip().split()]\n",
    "        counts = dict()\n",
    "        for word in word_list:\n",
    "                counts[word] = counts.get(word, 0)+1\n",
    "        # sort the dictionary of word list  \n",
    "        ordered = sorted(counts.items(), key= lambda item: item[1],reverse = True)\n",
    "        # Documents per class\n",
    "        documents.append(len(list(dataset[dataset.Label==label].cleaned)))\n",
    "        # Total Word per class\n",
    "        words.append(len(word_list))\n",
    "        # Unique words per class \n",
    "        u_words.append(len(np.unique(word_list)))\n",
    "       \n",
    "        print(\"\\nClass Name : \",label)\n",
    "        print(\"Number of Documents:{}\".format(len(list(dataset[dataset.Label==label].cleaned))))  \n",
    "        print(\"Number of Words:{}\".format(len(word_list))) \n",
    "        print(\"Number of Unique Words:{}\".format(len(np.unique(word_list)))) \n",
    "        print(\"Most Frequent Words:\\n\")\n",
    "        for k,v in ordered[:10]:\n",
    "              print(\"{}\\t{}\".format(k,v))\n",
    "    print(\"Total Number of Unique Words:{}\".format(len(np.unique(total_u_words))))           \n",
    "   \n",
    "    return documents,words,u_words,class_label\n",
    "\n",
    "#call the fucntion\n",
    "documents,words,u_words,class_names = data_summary(dataset)    \n"
   ]
  },
  {
   "cell_type": "markdown",
   "metadata": {
    "colab_type": "text",
    "id": "HWKTj1zQjRPj"
   },
   "source": [
    "#Dataset Summary Visualization"
   ]
  },
  {
   "cell_type": "code",
   "execution_count": 15,
   "metadata": {
    "colab": {
     "base_uri": "https://localhost:8080/",
     "height": 342
    },
    "colab_type": "code",
    "executionInfo": {
     "elapsed": 1419,
     "status": "ok",
     "timestamp": 1596220290623,
     "user": {
      "displayName": "EFTEKHAR HOSSAIN 1308006",
      "photoUrl": "https://lh3.googleusercontent.com/a-/AOh14GhB_S2SahlIoGyzj581ugCWrrC6Yl1l6BBILkt0=s64",
      "userId": "05840817180100570187"
     },
     "user_tz": -360
    },
    "id": "SnjIpYyNjYJR",
    "outputId": "a4a3b66d-8d9e-4c30-c8ea-e211ce616af9"
   },
   "outputs": [
    {
     "data": {
      "image/png": "[encoded data removed]",
      "text/plain": [
       "<Figure size 864x432 with 1 Axes>"
      ]
     },
     "metadata": {},
     "output_type": "display_data"
    }
   ],
   "source": [
    "data_matrix = pd.DataFrame({'Total Documents':documents,\n",
    "                            'Total Words':words,\n",
    "                            'Unique Words':u_words,\n",
    "                            'Class Names':class_names})\n",
    "df = pd.melt(data_matrix, id_vars=\"Class Names\", var_name=\"Category\", value_name=\"Values\")\n",
    "plt.figure(figsize=(12, 6))\n",
    "ax = plt.subplot()\n",
    "\n",
    "sns.barplot(data=df,x='Class Names', y='Values' ,hue='Category')\n",
    "ax.set_xlabel('Class Names') \n",
    "ax.set_title('Data Statistics')\n",
    "\n",
    "ax.xaxis.set_ticklabels(class_names, rotation=45);"
   ]
  },
  {
   "cell_type": "markdown",
   "metadata": {
    "colab_type": "text",
    "id": "aFulAOWCjjIl"
   },
   "source": [
    "#Comment Lenght Distribution"
   ]
  },
  {
   "cell_type": "code",
   "execution_count": 16,
   "metadata": {
    "colab": {
     "base_uri": "https://localhost:8080/",
     "height": 349
    },
    "colab_type": "code",
    "executionInfo": {
     "elapsed": 1254,
     "status": "ok",
     "timestamp": 1596220295388,
     "user": {
      "displayName": "EFTEKHAR HOSSAIN 1308006",
      "photoUrl": "https://lh3.googleusercontent.com/a-/AOh14GhB_S2SahlIoGyzj581ugCWrrC6Yl1l6BBILkt0=s64",
      "userId": "05840817180100570187"
     },
     "user_tz": -360
    },
    "id": "y5J5qlgrjneI",
    "outputId": "3e8569c2-495c-4c2c-aae3-c2f5becb95ee"
   },
   "outputs": [
    {
     "data": {
      "image/png": "[encoded data removed]",
      "text/plain": [
       "<Figure size 432x288 with 1 Axes>"
      ]
     },
     "metadata": {},
     "output_type": "display_data"
    },
    {
     "name": "stdout",
     "output_type": "stream",
     "text": [
      "Maximum Length of a review: 57\n",
      "Minimum Length of a review: 3\n",
      "Average Length of a reviews: 14.0\n"
     ]
    }
   ],
   "source": [
    "# Calculate the Review of each of the Review\n",
    "dataset['ReviewLength'] = dataset.cleaned.apply(lambda x:len(x.split()))\n",
    "frequency = dict()\n",
    "for i in dataset.ReviewLength:\n",
    "    frequency[i] = frequency.get(i, 0)+1\n",
    "\n",
    "plt.bar(frequency.keys(), frequency.values(), color =\"b\")\n",
    "plt.xlim(1, 135)\n",
    "# in this notbook color is not working but it should work.\n",
    "plt.xlabel('Lenght of the Texts')\n",
    "plt.ylabel('Frequency')\n",
    "plt.title('Length-Frequency Distribution')\n",
    "plt.show()  \n",
    "print(f\"Maximum Length of a review: {max(dataset.ReviewLength)}\")\n",
    "print(f\"Minimum Length of a review: {min(dataset.ReviewLength)}\")\n",
    "print(f\"Average Length of a reviews: {round(np.mean(dataset.ReviewLength),0)}\")"
   ]
  },
  {
   "cell_type": "markdown",
   "metadata": {
    "colab_type": "text",
    "id": "MeIyz5P2rTvt"
   },
   "source": [
    "# Take only Positive and Negative Class for Model Building"
   ]
  },
  {
   "cell_type": "code",
   "execution_count": 17,
   "metadata": {
    "colab": {
     "base_uri": "https://localhost:8080/",
     "height": 72
    },
    "colab_type": "code",
    "executionInfo": {
     "elapsed": 915,
     "status": "ok",
     "timestamp": 1596397523633,
     "user": {
      "displayName": "EFTEKHAR HOSSAIN 1308006",
      "photoUrl": "https://lh3.googleusercontent.com/a-/AOh14GhB_S2SahlIoGyzj581ugCWrrC6Yl1l6BBILkt0=s64",
      "userId": "05840817180100570187"
     },
     "user_tz": -360
    },
    "id": "L5WNJuxFrbdO",
    "outputId": "ccc54e97-490d-4dd2-e558-04ceadc538a2"
   },
   "outputs": [
    {
     "data": {
      "text/plain": [
       "2    10905\n",
       "0     3248\n",
       "Name: Label, dtype: int64"
      ]
     },
     "execution_count": 17,
     "metadata": {},
     "output_type": "execute_result"
    }
   ],
   "source": [
    "# #dataset.Tag = dataset.Tag.replace({'Very Positive':'Positive','Very Negative':'Negative'})\n",
    "# positive = dataset[dataset.Label == 2]\n",
    "# #nuetral = dataset[dataset.Label == 1]\n",
    "# negative = dataset[dataset.Label == 0]\n",
    "# dataset = positive.append(negative,ignore_index=True)\n",
    "# #dataset = dataset.append(nuetral,ignore_index=True)\n",
    "# dataset.Label.value_counts()\n",
    "\n",
    "\n",
    "dataset.Label = dataset.Label.replace({1:2})\n",
    "dataset.Label.value_counts()\n"
   ]
  },
  {
   "cell_type": "markdown",
   "metadata": {
    "colab_type": "text",
    "id": "bPafojBokoaH"
   },
   "source": [
    "##Lable Encoding and Dataset Splitting"
   ]
  },
  {
   "cell_type": "code",
   "execution_count": 18,
   "metadata": {
    "colab": {},
    "colab_type": "code",
    "executionInfo": {
     "elapsed": 899,
     "status": "ok",
     "timestamp": 1596397463182,
     "user": {
      "displayName": "EFTEKHAR HOSSAIN 1308006",
      "photoUrl": "https://lh3.googleusercontent.com/a-/AOh14GhB_S2SahlIoGyzj581ugCWrrC6Yl1l6BBILkt0=s64",
      "userId": "05840817180100570187"
     },
     "user_tz": -360
    },
    "id": "UiuB4eZBktny"
   },
   "outputs": [],
   "source": [
    "                                      #==================================================\n",
    "                                       ################# Label Encoding Function #########\n",
    "                                       #==================================================\n",
    "\n",
    "def label_encoding(sentiment,bool):\n",
    "    \"\"\"\n",
    "    This function will return the encoded labels in array format. \n",
    "    \n",
    "    Args:\n",
    "        sentiment: series of class names(str)\n",
    "        bool: boolean (True or False)\n",
    "        \n",
    "    Returns:\n",
    "        labels: numpy array \n",
    "    \"\"\"\n",
    "    le = LabelEncoder()\n",
    "    le.fit(sentiment)\n",
    "    encoded_labels = le.transform(sentiment)\n",
    "    labels = np.array(encoded_labels) # Converting into numpy array\n",
    "    class_names =le.classes_ ## Define the class names again\n",
    "    if bool == True:\n",
    "        print(\"\\n\\t\\t\\t===== Label Encoding =====\",\"\\nClass Names:-->\",le.classes_)\n",
    "        for i in sample_data:\n",
    "            print(sentiment[i],' ', encoded_labels[i],'\\n')\n",
    "\n",
    "    return labels\n",
    "\n",
    "\n",
    "\n",
    "                           #===========================================================\n",
    "                           ################# Dataset Splitting Function ###############\n",
    "                           #=========================================================== \n",
    "\n",
    "def dataset_split(feature_space,sentiment):\n",
    "    \"\"\"\n",
    "    This function will return the splitted (80%-20%) feature vector . \n",
    "    \n",
    "    Args:\n",
    "        feature_space: calcuated feature vector (sparse matrix)\n",
    "        sentiment: encoded lables (array) \n",
    "        \n",
    "    Returns:\n",
    "        X_train: training feature vector (sparse matrix)\n",
    "        X_test : testing feature vector (sparse matrix)\n",
    "        y_train: training encoded labels (array) \n",
    "        y_test : testing encoded labels (array) \n",
    "    \"\"\"\n",
    "\n",
    "    X_train,X_test,y_train,y_test = train_test_split(feature_space,sentiment,train_size = 0.9,\n",
    "                                                  test_size = 0.1,random_state =0)\n",
    "    \n",
    "#     X_train=feature_space[:12570]\n",
    "#     X_test=sentiment[12570:]\n",
    "#     y_train=feature_space[:12570]\n",
    "#     y_test=sentiment[12570:]\n",
    "    \n",
    "    \n",
    "    print(\"Feature Size :======>\",X_train.shape[1])\n",
    "    print(\"\\nDataset Distribution:\\n\")\n",
    "    print(\"\\tSet Name\",\"\\t\\tSize\")\n",
    "    print(\"\\t========\\t\\t======\")\n",
    "\n",
    "    print(\"\\tFull\\t\\t\\t\",feature_space.shape[0],\n",
    "        \"\\n\\tTraining\\t\\t\",X_train.shape[0],\n",
    "        \"\\n\\tTest\\t\\t\\t\",X_test.shape[0])\n",
    "  \n",
    "    return X_train,X_test,y_train,y_test\n"
   ]
  },
  {
   "cell_type": "code",
   "execution_count": 19,
   "metadata": {
    "colab": {},
    "colab_type": "code",
    "id": "Gq0wplXVrfm0"
   },
   "outputs": [],
   "source": [
    "dataset.cleaned = dataset.cleaned.apply(lambda x:x.replace('\\n',' '))"
   ]
  },
  {
   "cell_type": "markdown",
   "metadata": {
    "colab_type": "text",
    "id": "0CL612JzczVo"
   },
   "source": [
    "#**Model Building Using Machine Learning**"
   ]
  },
  {
   "cell_type": "markdown",
   "metadata": {
    "colab_type": "text",
    "id": "UnEDFTd0kdzx"
   },
   "source": [
    "##Feature Extraction Using TF-IDF"
   ]
  },
  {
   "cell_type": "code",
   "execution_count": 20,
   "metadata": {
    "colab": {},
    "colab_type": "code",
    "id": "5XTcv1Uyui5Q"
   },
   "outputs": [],
   "source": [
    "                                            #======================================\n",
    "                                            ##### Unigram Tf-idf value calculation\n",
    "                                            #======================================\n",
    "            \n",
    "def calc_gram_tfidf(reviews,gram):\n",
    "    \"\"\"\n",
    "    This function will return the tf-idf value of the respective gram features . \n",
    "    \n",
    "    Args:\n",
    "        reviews: a list of cleaned reviews   \n",
    "        \n",
    "    Returns:\n",
    "        tfidf: a instance of TfidfVectorizer\n",
    "        X : Unigram Feature Vector (sparse matrix)\n",
    "    \"\"\"\n",
    "    tfidf = TfidfVectorizer(ngram_range=gram,use_idf=True,tokenizer=lambda x: x.split()) \n",
    "    X = tfidf.fit_transform(reviews)\n",
    "    \n",
    "    return tfidf,X\n"
   ]
  },
  {
   "cell_type": "code",
   "execution_count": 21,
   "metadata": {
    "colab": {},
    "colab_type": "code",
    "id": "p9MTZ5g7mUj3"
   },
   "outputs": [],
   "source": [
    "from sklearn.linear_model import LogisticRegression\n",
    "from sklearn.tree import DecisionTreeClassifier\n",
    "from sklearn.ensemble import RandomForestClassifier\n",
    "from sklearn.naive_bayes import MultinomialNB\n",
    "from sklearn.neighbors import KNeighborsClassifier\n",
    "from sklearn.svm import SVC\n",
    "from sklearn.linear_model import SGDClassifier\n",
    "from sklearn.metrics import classification_report,accuracy_score,precision_score,recall_score,f1_score\n",
    "from sklearn.metrics import roc_curve, roc_auc_score\n",
    "from sklearn.metrics import average_precision_score,roc_auc_score, roc_curve, precision_recall_curve\n"
   ]
  },
  {
   "cell_type": "code",
   "execution_count": 22,
   "metadata": {
    "colab": {},
    "colab_type": "code",
    "id": "Bv62bKnXmdkr"
   },
   "outputs": [],
   "source": [
    "                                              #============================================\n",
    "                                              #########  Classifiers Defination  #########\n",
    "                                              #============================================\n",
    "def ml_models_defination(): \n",
    "    \"\"\"\n",
    "    This function consists the models defination for All gram Features\n",
    "    \n",
    "    Retuns:\n",
    "        ml_models: list of models\n",
    "        model_names: list of model_names\n",
    "    \n",
    "    \"\"\"\n",
    "    \n",
    "    lr_model = LogisticRegression(random_state = 123)\n",
    "    dt_model = DecisionTreeClassifier(criterion = 'entropy', random_state = 0)\n",
    "    rf_model = RandomForestClassifier(n_estimators=100, criterion ='entropy', random_state = 0)\n",
    "    mnb_model = MultinomialNB(alpha=0.15)\n",
    "    knn_model = KNeighborsClassifier(n_neighbors=3, metric = 'minkowski')\n",
    "    lsvm_model = SVC(kernel = 'linear',C = 0.2, probability=True, random_state = 0)\n",
    "    ksvm_model = SVC(C= 1000,kernel = 'rbf',probability=True, gamma = 0.00015, random_state = 0)\n",
    "    model_names = ['Logistic Regression','Decision Tree','Random Forest','Naive Bayes','KNN','Linear SVM','Kernel SVM']\n",
    "    #model_names = ['Logistic Regression']\n",
    "    # Create list of models\n",
    "    ml_models = [lr_model,dt_model,rf_model,mnb_model,knn_model,lsvm_model,ksvm_model]\n",
    "    #ml_models = [lr_model]\n",
    "    return ml_models,model_names \n",
    "\n",
    "\n",
    "                                          #============================================\n",
    "                                           ####### Model Evaluation Function ############\n",
    "                                           #=============================================\n",
    "\n",
    "def model_performace(model,X_train,X_test,y_train,y_test):\n",
    "    \"\"\"\n",
    "    This function will return the performance parameter values of each ML models.\n",
    "    Performance parameters are Accuracy, F1-Score, Precision, Recall.\n",
    "    \n",
    "    Args:\n",
    "        model: a ML model instance\n",
    "        X_train: training feature vector (sparse matrix)\n",
    "        X_test : testing feature vector (sparse matrix)\n",
    "        y_train: training encoded labels (array) \n",
    "        y_test : testing encoded labels (array) \n",
    "        \n",
    "    Returns:\n",
    "        my_dict: a dictionary of all the parameters for each models\n",
    "    \"\"\"\n",
    "    my_dict = {}\n",
    "    model.fit(X_train,y_train)\n",
    "    # Prediction\n",
    "    pred_y = model.predict(X_test)\n",
    "    my_dict['Accuracy'] = round(accuracy_score(y_test, pred_y),4)*100 \n",
    "    my_dict['Precision'] = round(precision_score(y_test, pred_y),4)*100 \n",
    "    my_dict['Recall'] = round(recall_score(y_test, pred_y),4)*100 \n",
    "    my_dict['F1 Score'] = round(f1_score(y_test, pred_y),4)*100 \n",
    "    \n",
    "    return my_dict  \n",
    "\n",
    "                                        #========================================\n",
    "                                        #### Model Performane into Dataframe #####\n",
    "                                        #=========================================\n",
    "            \n",
    "def performance_table(performance_dict):\n",
    "    \"\"\"\n",
    "    This function will create a dataframe of all the performance parameters.\n",
    "    \n",
    "    Args:\n",
    "        performance_dict: a dictionary of all the parameters for each models\n",
    "        \n",
    "    Returns:\n",
    "        performance_df: a dataframe\n",
    "    \"\"\"\n",
    "\n",
    "    acc_list = []\n",
    "    pr_list = []\n",
    "    re_list = []\n",
    "    f1_list = []\n",
    "    for i in performance_dict.keys():\n",
    "        acc_list.append(performance_dict[i]['Accuracy'])\n",
    "        pr_list.append(performance_dict[i]['Precision'])\n",
    "        re_list.append(performance_dict[i]['Recall'])\n",
    "        f1_list.append(performance_dict[i]['F1 Score'])\n",
    "\n",
    "    # Create a dataframe\n",
    "    model_names = ['LR','DT','RF','MNB','KNN','Linear SVM','RBF SVM']\n",
    "    performance_df = pd.DataFrame({'Accuracy':acc_list,'Precision':pr_list,\n",
    "                                   'Recall':re_list,'F1 Score':f1_list,\n",
    "                                   'Model Name':model_names })\n",
    "    return performance_df    "
   ]
  },
  {
   "cell_type": "markdown",
   "metadata": {
    "colab_type": "text",
    "id": "Fprji1HsbcmG"
   },
   "source": [
    "##Model Training"
   ]
  },
  {
   "cell_type": "code",
   "execution_count": 23,
   "metadata": {
    "colab": {},
    "colab_type": "code",
    "id": "x1niAeoCvGE9"
   },
   "outputs": [
    {
     "name": "stdout",
     "output_type": "stream",
     "text": [
      "Feature Size :======> 25528\n",
      "\n",
      "Dataset Distribution:\n",
      "\n",
      "\tSet Name \t\tSize\n",
      "\t========\t\t======\n",
      "\tFull\t\t\t 14153 \n",
      "\tTraining\t\t 12737 \n",
      "\tTest\t\t\t 1416\n",
      "\n",
      "\n",
      " label:  [1 1 0 ... 1 1 1]\n",
      "\n",
      "l0 :  12737   l1:  9812   l2:  0 \n",
      "\n",
      "\n",
      "l0 :  1416   l1:  1093   l2:  0 \n",
      "\n",
      "Feature Size :======> 140104\n",
      "\n",
      "Dataset Distribution:\n",
      "\n",
      "\tSet Name \t\tSize\n",
      "\t========\t\t======\n",
      "\tFull\t\t\t 14153 \n",
      "\tTraining\t\t 12737 \n",
      "\tTest\t\t\t 1416\n",
      "\n",
      "\n",
      " label:  [1 1 0 ... 1 1 1]\n",
      "\n",
      "l0 :  12737   l1:  9812   l2:  0 \n",
      "\n",
      "\n",
      "l0 :  1416   l1:  1093   l2:  0 \n",
      "\n",
      "Feature Size :======> 277696\n",
      "\n",
      "Dataset Distribution:\n",
      "\n",
      "\tSet Name \t\tSize\n",
      "\t========\t\t======\n",
      "\tFull\t\t\t 14153 \n",
      "\tTraining\t\t 12737 \n",
      "\tTest\t\t\t 1416\n",
      "\n",
      "\n",
      " label:  [1 1 0 ... 1 1 1]\n",
      "\n",
      "l0 :  12737   l1:  9812   l2:  0 \n",
      "\n",
      "\n",
      "l0 :  1416   l1:  1093   l2:  0 \n",
      "\n"
     ]
    }
   ],
   "source": [
    "## save the performance of the model for each gram feature \n",
    "gram_names = ['Unigram','Bigram','Trigram']\n",
    "ngrams = [(1,1),(1,2),(1,3)]\n",
    "for i,gram in enumerate(ngrams):\n",
    "    tfidf,feature = calc_gram_tfidf(dataset.cleaned,gram)\n",
    "    labels = label_encoding(dataset.Label,False)\n",
    "    X_train,X_test,y_train,y_test = dataset_split(feature,labels)\n",
    "    \n",
    "    print(\"\\n\\n label: \",y_train)\n",
    "    \n",
    "    l1=0\n",
    "    l2=0\n",
    "    l0=0\n",
    "    \n",
    "    for x in y_train:\n",
    "        if x==1:\n",
    "            l1=l1+1\n",
    "        if x==2:\n",
    "            l2=l2+1\n",
    "        else:\n",
    "            l0=l0+1\n",
    "    print(\"\\nl0 : \",l0,\"  l1: \",l1,\"  l2: \",l2,\"\\n\")\n",
    "    \n",
    "    l1=0\n",
    "    l2=0\n",
    "    l0=0\n",
    "    \n",
    "    for x in y_test:\n",
    "        if x==1:\n",
    "            l1=l1+1\n",
    "        if x==2:\n",
    "            l2=l2+1\n",
    "        else:\n",
    "            l0=l0+1\n",
    "            \n",
    "    print(\"\\nl0 : \",l0,\"  l1: \",l1,\"  l2: \",l2,\"\\n\")\n",
    "    \n",
    "    ml_models,model_names = ml_models_defination()\n",
    "    # call model accuracy function and save the metrices into a dictionary\n",
    "    accuracy = {f'{model_names[j]}':model_performace(model,X_train,X_test,y_train,y_test) for j,model in enumerate(ml_models)}\n",
    "    #Save the performance parameter into json file\n",
    "    with open(path+f'ml_performance_{gram_names[i]}.json', 'w') as f:\n",
    "          json.dump(accuracy, f)"
   ]
  },
  {
   "cell_type": "markdown",
   "metadata": {
    "colab_type": "text",
    "id": "adgILEqHbWwu"
   },
   "source": [
    "##Performance Table"
   ]
  },
  {
   "cell_type": "code",
   "execution_count": 24,
   "metadata": {
    "colab": {
     "base_uri": "https://localhost:8080/",
     "height": 945
    },
    "colab_type": "code",
    "executionInfo": {
     "elapsed": 831,
     "status": "ok",
     "timestamp": 1596224704720,
     "user": {
      "displayName": "EFTEKHAR HOSSAIN 1308006",
      "photoUrl": "https://lh3.googleusercontent.com/a-/AOh14GhB_S2SahlIoGyzj581ugCWrrC6Yl1l6BBILkt0=s64",
      "userId": "05840817180100570187"
     },
     "user_tz": -360
    },
    "id": "EgXI9CKywYGi",
    "outputId": "5e899f18-3dbe-45f8-a76b-9c76644449df"
   },
   "outputs": [
    {
     "name": "stdout",
     "output_type": "stream",
     "text": [
      "\n",
      "========== Performace Table for Unigram feature:========\n",
      "    Accuracy  Precision  Recall  F1 Score  Model Name\n",
      "0     78.32      78.44   99.18     87.60          LR\n",
      "1     73.09      81.28   84.63     82.92          DT\n",
      "2     80.51      80.69   98.26     88.61          RF\n",
      "3     78.11      81.35   92.96     86.76         MNB\n",
      "4     75.14      82.08   86.73     84.34         KNN\n",
      "5     77.19      77.19  100.00     87.13  Linear SVM\n",
      "6     77.19      77.19  100.00     87.13     RBF SVM\n",
      "\n",
      "========In case of Unigram feature:========\n",
      "\n",
      "Highest Accuracy achieved by RF at = 80.51\n",
      "Highest F1-Score achieved by RF at = 88.61\n",
      "Highest Precision Score achieved by KNN at = 82.08\n",
      "Highest Recall Score achieved by Linear SVM at = 100.0\n",
      "\n",
      "========== Performace Table for Bigram feature:========\n",
      "    Accuracy  Precision  Recall  F1 Score  Model Name\n",
      "0     77.61      77.71   99.54     87.28          LR\n",
      "1     76.69      82.47   88.66     85.45          DT\n",
      "2     80.51      80.42   98.81     88.67          RF\n",
      "3     76.13      84.29   84.90     84.59         MNB\n",
      "4     74.29      81.18   86.83     83.91         KNN\n",
      "5     77.19      77.19  100.00     87.13  Linear SVM\n",
      "6     77.19      77.19  100.00     87.13     RBF SVM\n",
      "\n",
      "========In case of Bigram feature:========\n",
      "\n",
      "Highest Accuracy achieved by RF at = 80.51\n",
      "Highest F1-Score achieved by RF at = 88.67\n",
      "Highest Precision Score achieved by MNB at = 84.28999999999999\n",
      "Highest Recall Score achieved by Linear SVM at = 100.0\n",
      "\n",
      "========== Performace Table for Trigram feature:========\n",
      "    Accuracy  Precision  Recall  F1 Score  Model Name\n",
      "0     77.33      77.38   99.82     87.18          LR\n",
      "1     75.64      81.91   87.83     84.77          DT\n",
      "2     80.37      80.34   98.72     88.59          RF\n",
      "3     69.92      85.74   73.19     78.97         MNB\n",
      "4     73.94      81.05   86.46     83.67         KNN\n",
      "5     77.19      77.19  100.00     87.13  Linear SVM\n",
      "6     77.19      77.19  100.00     87.13     RBF SVM\n",
      "\n",
      "========In case of Trigram feature:========\n",
      "\n",
      "Highest Accuracy achieved by RF at = 80.36999999999999\n",
      "Highest F1-Score achieved by RF at = 88.59\n",
      "Highest Precision Score achieved by MNB at = 85.74000000000001\n",
      "Highest Recall Score achieved by Linear SVM at = 100.0\n"
     ]
    }
   ],
   "source": [
    "# Load all the json files\n",
    "gram_names = ['Unigram','Bigram','Trigram']\n",
    "\n",
    "for gram in gram_names:\n",
    "  accuracy = json.load(open(path+f'ml_performance_{gram}.json'))\n",
    "  table = performance_table(accuracy)\n",
    "  print(f\"\\n========== Performace Table for {gram} feature:========\\n\",table)\n",
    "  print(f\"\\n========In case of {gram} feature:========\\n\")\n",
    "  print(f\"Highest Accuracy achieved by {table['Model Name'][table.Accuracy.idxmax(axis = 0)]} at = {max(table.Accuracy)}\")\n",
    "  print(f\"Highest F1-Score achieved by {table['Model Name'][table['F1 Score'].idxmax(axis = 0)]} at = {max(table['F1 Score'] )}\")\n",
    "  print(f\"Highest Precision Score achieved by {table['Model Name'][table['Precision'].idxmax(axis = 0)]} at = {max(table['Precision'] )}\")\n",
    "  print(f\"Highest Recall Score achieved by {table['Model Name'][table['Recall'].idxmax(axis = 0)]} at = {max(table['Recall'] )}\")\n",
    "  "
   ]
  },
  {
   "cell_type": "markdown",
   "metadata": {
    "colab_type": "text",
    "id": "ikQHi7EdqfuN"
   },
   "source": [
    "**Conclusion:**\n",
    "\n",
    "---\n",
    "\n",
    "\n",
    "\n",
    "***From this performance table it can be said that the Trigarm feature combination with Multinomial Naive Bayes classifier provides highest accuray and F1-score value.***"
   ]
  },
  {
   "cell_type": "markdown",
   "metadata": {
    "colab_type": "text",
    "id": "6Y7pmQhdaED5"
   },
   "source": [
    "## Performance Visualization"
   ]
  },
  {
   "cell_type": "code",
   "execution_count": 25,
   "metadata": {
    "colab": {
     "base_uri": "https://localhost:8080/",
     "height": 1000
    },
    "colab_type": "code",
    "executionInfo": {
     "elapsed": 2030,
     "status": "ok",
     "timestamp": 1596224937939,
     "user": {
      "displayName": "EFTEKHAR HOSSAIN 1308006",
      "photoUrl": "https://lh3.googleusercontent.com/a-/AOh14GhB_S2SahlIoGyzj581ugCWrrC6Yl1l6BBILkt0=s64",
      "userId": "05840817180100570187"
     },
     "user_tz": -360
    },
    "id": "iu3tiCZY0IPq",
    "outputId": "50e4b467-36dc-48a6-edab-91b4a2d276cf"
   },
   "outputs": [
    {
     "data": {
      "image/png": "[encoded data removed]",
      "text/plain": [
       "<Figure size 864x576 with 1 Axes>"
      ]
     },
     "metadata": {},
     "output_type": "display_data"
    },
    {
     "data": {
      "image/png": "[encoded data removed]",
      "text/plain": [
       "<Figure size 864x576 with 1 Axes>"
      ]
     },
     "metadata": {},
     "output_type": "display_data"
    },
    {
     "data": {
      "image/png": "[encoded data removed]",
      "text/plain": [
       "<Figure size 864x576 with 1 Axes>"
      ]
     },
     "metadata": {},
     "output_type": "display_data"
    }
   ],
   "source": [
    "gram_names = ['Unigram','Bigram','Trigram']\n",
    "\n",
    "for gram in gram_names:\n",
    "  accuracy = json.load(open(path+f'ml_performance_{gram}.json'))\n",
    "  table = performance_table(accuracy)\n",
    "  df = pd.melt(table[['Accuracy','F1 Score','Model Name']], id_vars=\"Model Name\", var_name=\"Category\", value_name=\"Values\")\n",
    "  plt.figure(figsize=(12,8))\n",
    "  ax = plt.subplot()\n",
    "  sns.barplot(data=df,x='Model Name', y='Values' ,hue='Category')\n",
    "  ax.set_xlabel('Model Name') \n",
    "  ax.set_title(f'Comparison of Accuracy and F1-Score Value for {gram} Feature')\n",
    "  ax.set_ylim([10,80])\n",
    "  ax.xaxis.set_ticklabels(table['Model Name'], rotation=45);"
   ]
  },
  {
   "cell_type": "code",
   "execution_count": null,
   "metadata": {},
   "outputs": [],
   "source": []
  }
 ],
 "metadata": {
  "accelerator": "GPU",
  "colab": {
   "authorship_tag": "ABX9TyNtJMtq6WmVRP0LrcJk4KeU",
   "collapsed_sections": [],
   "name": "news_comment_sentiment_analysis.ipynb",
   "provenance": []
  },
  "kernelspec": {
   "display_name": "Python 3 (ipykernel)",
   "language": "python",
   "name": "python3"
  },
  "language_info": {
   "codemirror_mode": {
    "name": "ipython",
    "version": 3
   },
   "file_extension": ".py",
   "mimetype": "text/x-python",
   "name": "python",
   "nbconvert_exporter": "python",
   "pygments_lexer": "ipython3",
   "version": "3.8.10"
  }
 },
 "nbformat": 4,
 "nbformat_minor": 1
}
