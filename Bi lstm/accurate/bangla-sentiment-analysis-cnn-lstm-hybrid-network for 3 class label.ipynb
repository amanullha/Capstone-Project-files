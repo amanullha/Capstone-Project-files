{
 "cells": [
  {
   "cell_type": "markdown",
   "metadata": {
    "papermill": {
     "duration": 0.012335,
     "end_time": "2020-08-29T09:36:15.958969",
     "exception": false,
     "start_time": "2020-08-29T09:36:15.946634",
     "status": "completed"
    },
    "tags": []
   },
   "source": [
    "# Introduction\n",
    "In this Notebook i have done binary classification of Sentiment on a dataset that contains annotated Bangla texts.I have tried to use a deep learning based hybrid network with CNN an LSTM.Through hyper parameter tuning,i have achieved an accuracy of 84% with somewhat overfitting.\n",
    "\n",
    "My main focus of this notebook is to see the impact of hybrid CNN-BiLSTM model in bangla sentiment analysis and newbie Bangla NLP researchers like me can get a better intution."
   ]
  },
  {
   "cell_type": "markdown",
   "metadata": {
    "papermill": {
     "duration": 0.011719,
     "end_time": "2020-08-29T09:36:15.981279",
     "exception": false,
     "start_time": "2020-08-29T09:36:15.969560",
     "status": "completed"
    },
    "tags": []
   },
   "source": [
    "# Library & Package Import\n",
    "I have used KERAS to implement CNN and LSTM in this dataset."
   ]
  },
  {
   "cell_type": "code",
   "execution_count": 29,
   "metadata": {
    "execution": {
     "iopub.execute_input": "2020-08-29T09:36:16.013048Z",
     "iopub.status.busy": "2020-08-29T09:36:16.010776Z",
     "iopub.status.idle": "2020-08-29T09:36:24.626305Z",
     "shell.execute_reply": "2020-08-29T09:36:24.625558Z"
    },
    "papermill": {
     "duration": 8.634984,
     "end_time": "2020-08-29T09:36:24.626494",
     "exception": false,
     "start_time": "2020-08-29T09:36:15.991510",
     "status": "completed"
    },
    "tags": []
   },
   "outputs": [],
   "source": [
    "import pandas as pd\n",
    "from pandas import read_excel\n",
    "import numpy as np\n",
    "import re\n",
    "from re import sub\n",
    "import multiprocessing\n",
    "from unidecode import unidecode\n",
    "import os\n",
    "from time import time \n",
    "import tensorflow as tf\n",
    "import keras\n",
    "from tensorflow.keras.models import Sequential\n",
    "from tensorflow.keras.layers import LSTM,Dense,Dropout,Activation,Embedding,Flatten,Bidirectional,MaxPooling2D, Conv1D, MaxPooling1D\n",
    "from tensorflow.keras.optimizers import SGD,Adam\n",
    "from tensorflow.keras import regularizers\n",
    "from tensorflow.keras.preprocessing.text import Tokenizer\n",
    "from tensorflow.keras.preprocessing.sequence import pad_sequences\n",
    "#from tensorflow.keras.utils.np_utils import to_categorical\n",
    "\n",
    "from sklearn.model_selection import train_test_split\n",
    "from tensorflow.keras.utils import to_categorical\n",
    "import h5py\n",
    "import csv\n",
    "import seaborn as sns\n",
    "import matplotlib.pyplot as plt\n",
    "from sklearn.model_selection import train_test_split\n",
    "from sklearn.model_selection import StratifiedKFold"
   ]
  },
  {
   "cell_type": "code",
   "execution_count": 30,
   "metadata": {},
   "outputs": [],
   "source": [
    "# # Define the Keras model\n",
    "# model = Sequential()\n",
    "# model.add(Embedding(num_distinct_words, embedding_output_dims, input_length=max_sequence_length))\n",
    "# model.add(Bidirectional(LSTM(10), merge_mode='sum'))\n",
    "# model.add(Dense(1, activation='sigmoid'))"
   ]
  },
  {
   "cell_type": "markdown",
   "metadata": {
    "papermill": {
     "duration": 0.009881,
     "end_time": "2020-08-29T09:36:24.646568",
     "exception": false,
     "start_time": "2020-08-29T09:36:24.636687",
     "status": "completed"
    },
    "tags": []
   },
   "source": [
    "# Predefined Functions \n",
    "I have predefined some functions for the preprocessing of my texts.The dataset contains raw text data that have many unwanted things\n",
    "(Punctuations,English words,emojis etc..).I have cleaned this things with my function."
   ]
  },
  {
   "cell_type": "code",
   "execution_count": 31,
   "metadata": {
    "execution": {
     "iopub.execute_input": "2020-08-29T09:36:24.682336Z",
     "iopub.status.busy": "2020-08-29T09:36:24.681181Z",
     "iopub.status.idle": "2020-08-29T09:36:24.683917Z",
     "shell.execute_reply": "2020-08-29T09:36:24.684510Z"
    },
    "papermill": {
     "duration": 0.028242,
     "end_time": "2020-08-29T09:36:24.684693",
     "exception": false,
     "start_time": "2020-08-29T09:36:24.656451",
     "status": "completed"
    },
    "tags": []
   },
   "outputs": [],
   "source": [
    "def text_to_word_list(text):\n",
    "    text = text.split()\n",
    "    return text\n",
    "\n",
    "def replace_strings(text):\n",
    "    emoji_pattern = re.compile(\"[\"\n",
    "                           u\"\\U0001F600-\\U0001F64F\"  # emoticons\n",
    "                           u\"\\U0001F300-\\U0001F5FF\"  # symbols & pictographs\n",
    "                           u\"\\U0001F680-\\U0001F6FF\"  # transport & map symbols\n",
    "                           u\"\\U0001F1E0-\\U0001F1FF\"  # flags (iOS)\n",
    "                           u\"\\U00002702-\\U000027B0\"\n",
    "                           u\"\\U000024C2-\\U0001F251\"\n",
    "                           u\"\\u00C0-\\u017F\"          #latin\n",
    "                           u\"\\u2000-\\u206F\"          #generalPunctuations\n",
    "                               \n",
    "                           \"]+\", flags=re.UNICODE)\n",
    "    english_pattern=re.compile('[a-zA-Z0-9]+', flags=re.I)\n",
    "    #latin_pattern=re.compile('[A-Za-z\\u00C0-\\u00D6\\u00D8-\\u00f6\\u00f8-\\u00ff\\s]*',)\n",
    "    \n",
    "    text=emoji_pattern.sub(r'', text)\n",
    "    text=english_pattern.sub(r'', text)\n",
    "\n",
    "    return text\n",
    "\n",
    "def remove_punctuations(my_str):\n",
    "    # define punctuation\n",
    "    punctuations = '''```\u0012\u0010\u0002\b`\u0007\b£|¢|\u0007Ñ+-*/=EROero৳০১২৩৪৫৬৭৮৯012–34567•89।!()-[]{};:'\"“\\’,<>./?@#$%^&*_~‘—॥”‰⚽️✌�￰৷￰'''\n",
    "    \n",
    "    no_punct = \"\"\n",
    "    for char in my_str:\n",
    "        if char not in punctuations:\n",
    "            no_punct = no_punct + char\n",
    "\n",
    "    # display the unpunctuated string\n",
    "    return no_punct\n",
    "\n",
    "\n",
    "\n",
    "def joining(text):\n",
    "    out=' '.join(text)\n",
    "    return out\n",
    "\n",
    "def preprocessing(text):\n",
    "    out=remove_punctuations(replace_strings(text))\n",
    "    return out"
   ]
  },
  {
   "cell_type": "markdown",
   "metadata": {
    "papermill": {
     "duration": 0.009759,
     "end_time": "2020-08-29T09:36:24.704583",
     "exception": false,
     "start_time": "2020-08-29T09:36:24.694824",
     "status": "completed"
    },
    "tags": []
   },
   "source": [
    "# Data Import\n",
    "The data is in excel file.I have about 6500+ in this dataset.The data is either positive or negative.\n",
    "I have annotated \"0\" as Negative and \"1\" as Positive."
   ]
  },
  {
   "cell_type": "code",
   "execution_count": 32,
   "metadata": {
    "execution": {
     "iopub.execute_input": "2020-08-29T09:36:24.730380Z",
     "iopub.status.busy": "2020-08-29T09:36:24.729640Z",
     "iopub.status.idle": "2020-08-29T09:36:25.754179Z",
     "shell.execute_reply": "2020-08-29T09:36:25.754875Z"
    },
    "papermill": {
     "duration": 1.040497,
     "end_time": "2020-08-29T09:36:25.755049",
     "exception": false,
     "start_time": "2020-08-29T09:36:24.714552",
     "status": "completed"
    },
    "tags": []
   },
   "outputs": [
    {
     "data": {
      "text/html": [
       "<div>\n",
       "<style scoped>\n",
       "    .dataframe tbody tr th:only-of-type {\n",
       "        vertical-align: middle;\n",
       "    }\n",
       "\n",
       "    .dataframe tbody tr th {\n",
       "        vertical-align: top;\n",
       "    }\n",
       "\n",
       "    .dataframe thead th {\n",
       "        text-align: right;\n",
       "    }\n",
       "</style>\n",
       "<table border=\"1\" class=\"dataframe\">\n",
       "  <thead>\n",
       "    <tr style=\"text-align: right;\">\n",
       "      <th></th>\n",
       "      <th>Data</th>\n",
       "      <th>Label</th>\n",
       "    </tr>\n",
       "  </thead>\n",
       "  <tbody>\n",
       "    <tr>\n",
       "      <th>0</th>\n",
       "      <td>মুগ্ধ হয়ে গেলাম মামু. আর তোমায় কি কমু. বলো তোম...</td>\n",
       "      <td>1</td>\n",
       "    </tr>\n",
       "    <tr>\n",
       "      <th>1</th>\n",
       "      <td>এই কুত্তার বাচ্চাদের জন্য দেশটা আজ এমন অবস্তায়...</td>\n",
       "      <td>2</td>\n",
       "    </tr>\n",
       "    <tr>\n",
       "      <th>2</th>\n",
       "      <td>ভাই আপনার কথাই যাদু রয়েছে</td>\n",
       "      <td>1</td>\n",
       "    </tr>\n",
       "    <tr>\n",
       "      <th>3</th>\n",
       "      <td>উওরটা আমার অনেক ভাল লেগেছে</td>\n",
       "      <td>1</td>\n",
       "    </tr>\n",
       "    <tr>\n",
       "      <th>4</th>\n",
       "      <td>আমার নিজের গাড়ী নিয়ে কি সাজেক যেতে পারবো না ?...</td>\n",
       "      <td>0</td>\n",
       "    </tr>\n",
       "    <tr>\n",
       "      <th>...</th>\n",
       "      <td>...</td>\n",
       "      <td>...</td>\n",
       "    </tr>\n",
       "    <tr>\n",
       "      <th>12570</th>\n",
       "      <td>বর্ডারে অনেক লেট হয়ে যাওয়াতে আমরা জিপে করে চলে...</td>\n",
       "      <td>1</td>\n",
       "    </tr>\n",
       "    <tr>\n",
       "      <th>12571</th>\n",
       "      <td>আমার সোনার বাংলাতে এমন রক্ষক নামের ভক্ষকের কোন...</td>\n",
       "      <td>2</td>\n",
       "    </tr>\n",
       "    <tr>\n",
       "      <th>12572</th>\n",
       "      <td>ওনারা এত হাইজিনিক ও এত সুন্দর পরিবেশে রান্না ক...</td>\n",
       "      <td>1</td>\n",
       "    </tr>\n",
       "    <tr>\n",
       "      <th>12573</th>\n",
       "      <td>বাংলাদেশ আমরা পুলিশ চাই না এই ধরনে পুলিশ দরকার...</td>\n",
       "      <td>2</td>\n",
       "    </tr>\n",
       "    <tr>\n",
       "      <th>12574</th>\n",
       "      <td>বসুন্ধরা শাখার হাজি বিরিয়ানি একবারেই ফালতু</td>\n",
       "      <td>2</td>\n",
       "    </tr>\n",
       "  </tbody>\n",
       "</table>\n",
       "<p>12575 rows × 2 columns</p>\n",
       "</div>"
      ],
      "text/plain": [
       "                                                    Data  Label\n",
       "0      মুগ্ধ হয়ে গেলাম মামু. আর তোমায় কি কমু. বলো তোম...      1\n",
       "1      এই কুত্তার বাচ্চাদের জন্য দেশটা আজ এমন অবস্তায়...      2\n",
       "2                              ভাই আপনার কথাই যাদু রয়েছে      1\n",
       "3                            উওরটা আমার অনেক ভাল লেগেছে       1\n",
       "4      আমার নিজের গাড়ী নিয়ে কি সাজেক যেতে পারবো না ?...      0\n",
       "...                                                  ...    ...\n",
       "12570  বর্ডারে অনেক লেট হয়ে যাওয়াতে আমরা জিপে করে চলে...      1\n",
       "12571  আমার সোনার বাংলাতে এমন রক্ষক নামের ভক্ষকের কোন...      2\n",
       "12572  ওনারা এত হাইজিনিক ও এত সুন্দর পরিবেশে রান্না ক...      1\n",
       "12573  বাংলাদেশ আমরা পুলিশ চাই না এই ধরনে পুলিশ দরকার...      2\n",
       "12574         বসুন্ধরা শাখার হাজি বিরিয়ানি একবারেই ফালতু      2\n",
       "\n",
       "[12575 rows x 2 columns]"
      ]
     },
     "metadata": {},
     "output_type": "display_data"
    }
   ],
   "source": [
    "#df=pd.read_excel('/kaggle/input/pseudolabel/predicted_unsupervised_sentiment.xlsx')\n",
    "df=pd.read_csv(\"/home/ubuntu/Desktop/ML/Coding/dataset/SentNoB Dataset/Train.csv\",encoding='utf-8')\n",
    "# df_test=pd.read_csv(\"/home/ubuntu/Desktop/ML/Coding/dataset/SentNoB Dataset/Test.csv\",encoding='utf-8')\n",
    "# df=df.append(df_test);\n",
    "display(df)"
   ]
  },
  {
   "cell_type": "markdown",
   "metadata": {
    "papermill": {
     "duration": 0.010147,
     "end_time": "2020-08-29T09:36:25.775608",
     "exception": false,
     "start_time": "2020-08-29T09:36:25.765461",
     "status": "completed"
    },
    "tags": []
   },
   "source": [
    "Now we will visualize the ratio of Postive and Negative sentiment.We can see that the ratio is closly 1:1.Which is considered as a good balance."
   ]
  },
  {
   "cell_type": "code",
   "execution_count": 33,
   "metadata": {},
   "outputs": [
    {
     "data": {
      "text/plain": [
       "(12575, 2)"
      ]
     },
     "execution_count": 33,
     "metadata": {},
     "output_type": "execute_result"
    }
   ],
   "source": [
    "df.shape"
   ]
  },
  {
   "cell_type": "code",
   "execution_count": 34,
   "metadata": {},
   "outputs": [],
   "source": [
    "df.columns=[\"sentence\",\"sentiment\"]"
   ]
  },
  {
   "cell_type": "code",
   "execution_count": 35,
   "metadata": {},
   "outputs": [],
   "source": [
    "#df[\"sentiment\"].replace({2:1}, inplace=True)\n"
   ]
  },
  {
   "cell_type": "code",
   "execution_count": 36,
   "metadata": {},
   "outputs": [],
   "source": [
    "df_n=df[df.sentiment==0];"
   ]
  },
  {
   "cell_type": "code",
   "execution_count": 37,
   "metadata": {},
   "outputs": [
    {
     "data": {
      "text/html": [
       "<div>\n",
       "<style scoped>\n",
       "    .dataframe tbody tr th:only-of-type {\n",
       "        vertical-align: middle;\n",
       "    }\n",
       "\n",
       "    .dataframe tbody tr th {\n",
       "        vertical-align: top;\n",
       "    }\n",
       "\n",
       "    .dataframe thead th {\n",
       "        text-align: right;\n",
       "    }\n",
       "</style>\n",
       "<table border=\"1\" class=\"dataframe\">\n",
       "  <thead>\n",
       "    <tr style=\"text-align: right;\">\n",
       "      <th></th>\n",
       "      <th>sentence</th>\n",
       "      <th>sentiment</th>\n",
       "    </tr>\n",
       "  </thead>\n",
       "  <tbody>\n",
       "    <tr>\n",
       "      <th>4</th>\n",
       "      <td>আমার নিজের গাড়ী নিয়ে কি সাজেক যেতে পারবো না ?...</td>\n",
       "      <td>0</td>\n",
       "    </tr>\n",
       "    <tr>\n",
       "      <th>5</th>\n",
       "      <td>যেমন : পরীক্ষার রেজাল্টের সময় , বিভিন্ন ব্যানি...</td>\n",
       "      <td>0</td>\n",
       "    </tr>\n",
       "    <tr>\n",
       "      <th>8</th>\n",
       "      <td>আমি ভেবেছিলাম গালিগালাজ করে সেরা ছেলে সে ? গাল...</td>\n",
       "      <td>0</td>\n",
       "    </tr>\n",
       "    <tr>\n",
       "      <th>9</th>\n",
       "      <td>তুমি রেপারই হও , ডাক্তার হওয়ার দরকার নাই তোমার</td>\n",
       "      <td>0</td>\n",
       "    </tr>\n",
       "    <tr>\n",
       "      <th>40</th>\n",
       "      <td>ডিপেন্ড করে আপনার লাইফ স্টাইলের উপর । পার হেড ...</td>\n",
       "      <td>0</td>\n",
       "    </tr>\n",
       "    <tr>\n",
       "      <th>...</th>\n",
       "      <td>...</td>\n",
       "      <td>...</td>\n",
       "    </tr>\n",
       "    <tr>\n",
       "      <th>12557</th>\n",
       "      <td>ঘটনা এখানেই সেস । নতুন কোন নাটক দেখতে মুড়ি খান</td>\n",
       "      <td>0</td>\n",
       "    </tr>\n",
       "    <tr>\n",
       "      <th>12559</th>\n",
       "      <td>ফাহিম ভাই সব কিছুর দামটা ইসকিনে দেখা বেন পিলিজ</td>\n",
       "      <td>0</td>\n",
       "    </tr>\n",
       "    <tr>\n",
       "      <th>12561</th>\n",
       "      <td>কোথায় কতো টাকা লাগবে সেইটা টুরের আগেই কি করে ব...</td>\n",
       "      <td>0</td>\n",
       "    </tr>\n",
       "    <tr>\n",
       "      <th>12566</th>\n",
       "      <td>ডিসেমবরে শেষের দিকে গেলে বরফ পাবো দাদা</td>\n",
       "      <td>0</td>\n",
       "    </tr>\n",
       "    <tr>\n",
       "      <th>12568</th>\n",
       "      <td>আমি বুজতে পারি না , ওরা আমাদেরকে তিস্তার পানি ...</td>\n",
       "      <td>0</td>\n",
       "    </tr>\n",
       "  </tbody>\n",
       "</table>\n",
       "<p>2894 rows × 2 columns</p>\n",
       "</div>"
      ],
      "text/plain": [
       "                                                sentence  sentiment\n",
       "4      আমার নিজের গাড়ী নিয়ে কি সাজেক যেতে পারবো না ?...          0\n",
       "5      যেমন : পরীক্ষার রেজাল্টের সময় , বিভিন্ন ব্যানি...          0\n",
       "8      আমি ভেবেছিলাম গালিগালাজ করে সেরা ছেলে সে ? গাল...          0\n",
       "9        তুমি রেপারই হও , ডাক্তার হওয়ার দরকার নাই তোমার           0\n",
       "40     ডিপেন্ড করে আপনার লাইফ স্টাইলের উপর । পার হেড ...          0\n",
       "...                                                  ...        ...\n",
       "12557     ঘটনা এখানেই সেস । নতুন কোন নাটক দেখতে মুড়ি খান          0\n",
       "12559    ফাহিম ভাই সব কিছুর দামটা ইসকিনে দেখা বেন পিলিজ           0\n",
       "12561  কোথায় কতো টাকা লাগবে সেইটা টুরের আগেই কি করে ব...          0\n",
       "12566             ডিসেমবরে শেষের দিকে গেলে বরফ পাবো দাদা          0\n",
       "12568  আমি বুজতে পারি না , ওরা আমাদেরকে তিস্তার পানি ...          0\n",
       "\n",
       "[2894 rows x 2 columns]"
      ]
     },
     "execution_count": 37,
     "metadata": {},
     "output_type": "execute_result"
    }
   ],
   "source": [
    "df_n"
   ]
  },
  {
   "cell_type": "code",
   "execution_count": 38,
   "metadata": {},
   "outputs": [],
   "source": [
    "#df=df.append(df_n)"
   ]
  },
  {
   "cell_type": "code",
   "execution_count": 39,
   "metadata": {},
   "outputs": [
    {
     "data": {
      "text/html": [
       "<div>\n",
       "<style scoped>\n",
       "    .dataframe tbody tr th:only-of-type {\n",
       "        vertical-align: middle;\n",
       "    }\n",
       "\n",
       "    .dataframe tbody tr th {\n",
       "        vertical-align: top;\n",
       "    }\n",
       "\n",
       "    .dataframe thead th {\n",
       "        text-align: right;\n",
       "    }\n",
       "</style>\n",
       "<table border=\"1\" class=\"dataframe\">\n",
       "  <thead>\n",
       "    <tr style=\"text-align: right;\">\n",
       "      <th></th>\n",
       "      <th>sentence</th>\n",
       "      <th>sentiment</th>\n",
       "    </tr>\n",
       "  </thead>\n",
       "  <tbody>\n",
       "    <tr>\n",
       "      <th>0</th>\n",
       "      <td>মুগ্ধ হয়ে গেলাম মামু. আর তোমায় কি কমু. বলো তোম...</td>\n",
       "      <td>1</td>\n",
       "    </tr>\n",
       "    <tr>\n",
       "      <th>1</th>\n",
       "      <td>এই কুত্তার বাচ্চাদের জন্য দেশটা আজ এমন অবস্তায়...</td>\n",
       "      <td>2</td>\n",
       "    </tr>\n",
       "    <tr>\n",
       "      <th>2</th>\n",
       "      <td>ভাই আপনার কথাই যাদু রয়েছে</td>\n",
       "      <td>1</td>\n",
       "    </tr>\n",
       "    <tr>\n",
       "      <th>3</th>\n",
       "      <td>উওরটা আমার অনেক ভাল লেগেছে</td>\n",
       "      <td>1</td>\n",
       "    </tr>\n",
       "    <tr>\n",
       "      <th>4</th>\n",
       "      <td>আমার নিজের গাড়ী নিয়ে কি সাজেক যেতে পারবো না ?...</td>\n",
       "      <td>0</td>\n",
       "    </tr>\n",
       "    <tr>\n",
       "      <th>...</th>\n",
       "      <td>...</td>\n",
       "      <td>...</td>\n",
       "    </tr>\n",
       "    <tr>\n",
       "      <th>12570</th>\n",
       "      <td>বর্ডারে অনেক লেট হয়ে যাওয়াতে আমরা জিপে করে চলে...</td>\n",
       "      <td>1</td>\n",
       "    </tr>\n",
       "    <tr>\n",
       "      <th>12571</th>\n",
       "      <td>আমার সোনার বাংলাতে এমন রক্ষক নামের ভক্ষকের কোন...</td>\n",
       "      <td>2</td>\n",
       "    </tr>\n",
       "    <tr>\n",
       "      <th>12572</th>\n",
       "      <td>ওনারা এত হাইজিনিক ও এত সুন্দর পরিবেশে রান্না ক...</td>\n",
       "      <td>1</td>\n",
       "    </tr>\n",
       "    <tr>\n",
       "      <th>12573</th>\n",
       "      <td>বাংলাদেশ আমরা পুলিশ চাই না এই ধরনে পুলিশ দরকার...</td>\n",
       "      <td>2</td>\n",
       "    </tr>\n",
       "    <tr>\n",
       "      <th>12574</th>\n",
       "      <td>বসুন্ধরা শাখার হাজি বিরিয়ানি একবারেই ফালতু</td>\n",
       "      <td>2</td>\n",
       "    </tr>\n",
       "  </tbody>\n",
       "</table>\n",
       "<p>12575 rows × 2 columns</p>\n",
       "</div>"
      ],
      "text/plain": [
       "                                                sentence  sentiment\n",
       "0      মুগ্ধ হয়ে গেলাম মামু. আর তোমায় কি কমু. বলো তোম...          1\n",
       "1      এই কুত্তার বাচ্চাদের জন্য দেশটা আজ এমন অবস্তায়...          2\n",
       "2                              ভাই আপনার কথাই যাদু রয়েছে          1\n",
       "3                            উওরটা আমার অনেক ভাল লেগেছে           1\n",
       "4      আমার নিজের গাড়ী নিয়ে কি সাজেক যেতে পারবো না ?...          0\n",
       "...                                                  ...        ...\n",
       "12570  বর্ডারে অনেক লেট হয়ে যাওয়াতে আমরা জিপে করে চলে...          1\n",
       "12571  আমার সোনার বাংলাতে এমন রক্ষক নামের ভক্ষকের কোন...          2\n",
       "12572  ওনারা এত হাইজিনিক ও এত সুন্দর পরিবেশে রান্না ক...          1\n",
       "12573  বাংলাদেশ আমরা পুলিশ চাই না এই ধরনে পুলিশ দরকার...          2\n",
       "12574         বসুন্ধরা শাখার হাজি বিরিয়ানি একবারেই ফালতু          2\n",
       "\n",
       "[12575 rows x 2 columns]"
      ]
     },
     "execution_count": 39,
     "metadata": {},
     "output_type": "execute_result"
    }
   ],
   "source": [
    "df"
   ]
  },
  {
   "cell_type": "code",
   "execution_count": 40,
   "metadata": {
    "execution": {
     "iopub.execute_input": "2020-08-29T09:36:25.806555Z",
     "iopub.status.busy": "2020-08-29T09:36:25.805699Z",
     "iopub.status.idle": "2020-08-29T09:36:26.033378Z",
     "shell.execute_reply": "2020-08-29T09:36:26.032638Z"
    },
    "papermill": {
     "duration": 0.24749,
     "end_time": "2020-08-29T09:36:26.033522",
     "exception": false,
     "start_time": "2020-08-29T09:36:25.786032",
     "status": "completed"
    },
    "tags": []
   },
   "outputs": [
    {
     "data": {
      "image/png": "[encoded data removed]",
      "text/plain": [
       "<Figure size 432x288 with 1 Axes>"
      ]
     },
     "metadata": {
      "needs_background": "light"
     },
     "output_type": "display_data"
    }
   ],
   "source": [
    "import seaborn as sns\n",
    "\n",
    "sns.countplot(df['sentiment']);"
   ]
  },
  {
   "cell_type": "code",
   "execution_count": 41,
   "metadata": {},
   "outputs": [
    {
     "data": {
      "text/html": [
       "<div>\n",
       "<style scoped>\n",
       "    .dataframe tbody tr th:only-of-type {\n",
       "        vertical-align: middle;\n",
       "    }\n",
       "\n",
       "    .dataframe tbody tr th {\n",
       "        vertical-align: top;\n",
       "    }\n",
       "\n",
       "    .dataframe thead th {\n",
       "        text-align: right;\n",
       "    }\n",
       "</style>\n",
       "<table border=\"1\" class=\"dataframe\">\n",
       "  <thead>\n",
       "    <tr style=\"text-align: right;\">\n",
       "      <th></th>\n",
       "      <th>sentence</th>\n",
       "      <th>sentiment</th>\n",
       "    </tr>\n",
       "  </thead>\n",
       "  <tbody>\n",
       "    <tr>\n",
       "      <th>0</th>\n",
       "      <td>মুগ্ধ হয়ে গেলাম মামু. আর তোমায় কি কমু. বলো তোম...</td>\n",
       "      <td>1</td>\n",
       "    </tr>\n",
       "    <tr>\n",
       "      <th>1</th>\n",
       "      <td>এই কুত্তার বাচ্চাদের জন্য দেশটা আজ এমন অবস্তায়...</td>\n",
       "      <td>2</td>\n",
       "    </tr>\n",
       "    <tr>\n",
       "      <th>2</th>\n",
       "      <td>ভাই আপনার কথাই যাদু রয়েছে</td>\n",
       "      <td>1</td>\n",
       "    </tr>\n",
       "    <tr>\n",
       "      <th>3</th>\n",
       "      <td>উওরটা আমার অনেক ভাল লেগেছে</td>\n",
       "      <td>1</td>\n",
       "    </tr>\n",
       "    <tr>\n",
       "      <th>4</th>\n",
       "      <td>আমার নিজের গাড়ী নিয়ে কি সাজেক যেতে পারবো না ?...</td>\n",
       "      <td>0</td>\n",
       "    </tr>\n",
       "    <tr>\n",
       "      <th>...</th>\n",
       "      <td>...</td>\n",
       "      <td>...</td>\n",
       "    </tr>\n",
       "    <tr>\n",
       "      <th>12570</th>\n",
       "      <td>বর্ডারে অনেক লেট হয়ে যাওয়াতে আমরা জিপে করে চলে...</td>\n",
       "      <td>1</td>\n",
       "    </tr>\n",
       "    <tr>\n",
       "      <th>12571</th>\n",
       "      <td>আমার সোনার বাংলাতে এমন রক্ষক নামের ভক্ষকের কোন...</td>\n",
       "      <td>2</td>\n",
       "    </tr>\n",
       "    <tr>\n",
       "      <th>12572</th>\n",
       "      <td>ওনারা এত হাইজিনিক ও এত সুন্দর পরিবেশে রান্না ক...</td>\n",
       "      <td>1</td>\n",
       "    </tr>\n",
       "    <tr>\n",
       "      <th>12573</th>\n",
       "      <td>বাংলাদেশ আমরা পুলিশ চাই না এই ধরনে পুলিশ দরকার...</td>\n",
       "      <td>2</td>\n",
       "    </tr>\n",
       "    <tr>\n",
       "      <th>12574</th>\n",
       "      <td>বসুন্ধরা শাখার হাজি বিরিয়ানি একবারেই ফালতু</td>\n",
       "      <td>2</td>\n",
       "    </tr>\n",
       "  </tbody>\n",
       "</table>\n",
       "<p>12575 rows × 2 columns</p>\n",
       "</div>"
      ],
      "text/plain": [
       "                                                sentence  sentiment\n",
       "0      মুগ্ধ হয়ে গেলাম মামু. আর তোমায় কি কমু. বলো তোম...          1\n",
       "1      এই কুত্তার বাচ্চাদের জন্য দেশটা আজ এমন অবস্তায়...          2\n",
       "2                              ভাই আপনার কথাই যাদু রয়েছে          1\n",
       "3                            উওরটা আমার অনেক ভাল লেগেছে           1\n",
       "4      আমার নিজের গাড়ী নিয়ে কি সাজেক যেতে পারবো না ?...          0\n",
       "...                                                  ...        ...\n",
       "12570  বর্ডারে অনেক লেট হয়ে যাওয়াতে আমরা জিপে করে চলে...          1\n",
       "12571  আমার সোনার বাংলাতে এমন রক্ষক নামের ভক্ষকের কোন...          2\n",
       "12572  ওনারা এত হাইজিনিক ও এত সুন্দর পরিবেশে রান্না ক...          1\n",
       "12573  বাংলাদেশ আমরা পুলিশ চাই না এই ধরনে পুলিশ দরকার...          2\n",
       "12574         বসুন্ধরা শাখার হাজি বিরিয়ানি একবারেই ফালতু          2\n",
       "\n",
       "[12575 rows x 2 columns]"
      ]
     },
     "execution_count": 41,
     "metadata": {},
     "output_type": "execute_result"
    }
   ],
   "source": [
    "df"
   ]
  },
  {
   "cell_type": "code",
   "execution_count": 42,
   "metadata": {},
   "outputs": [],
   "source": [
    "df_test=pd.read_csv(\"/home/ubuntu/Desktop/ML/Coding/dataset/SentNoB Dataset/Test.csv\",encoding='utf-8')\n",
    "df_test.columns=[\"sentence\",\"sentiment\"]\n",
    "df=df.append(df_test);"
   ]
  },
  {
   "cell_type": "code",
   "execution_count": 43,
   "metadata": {},
   "outputs": [
    {
     "data": {
      "image/png": "[encoded data removed]",
      "text/plain": [
       "<Figure size 432x288 with 1 Axes>"
      ]
     },
     "metadata": {
      "needs_background": "light"
     },
     "output_type": "display_data"
    }
   ],
   "source": [
    "import seaborn as sns\n",
    "\n",
    "sns.countplot(df['sentiment']);"
   ]
  },
  {
   "cell_type": "markdown",
   "metadata": {
    "papermill": {
     "duration": 0.010247,
     "end_time": "2020-08-29T09:36:26.054394",
     "exception": false,
     "start_time": "2020-08-29T09:36:26.044147",
     "status": "completed"
    },
    "tags": []
   },
   "source": [
    "# Data Preprocessing\n",
    "At first we will clean the dataset with my predefined function preprocessing()."
   ]
  },
  {
   "cell_type": "code",
   "execution_count": 44,
   "metadata": {
    "execution": {
     "iopub.execute_input": "2020-08-29T09:36:26.092237Z",
     "iopub.status.busy": "2020-08-29T09:36:26.087017Z",
     "iopub.status.idle": "2020-08-29T09:36:26.408188Z",
     "shell.execute_reply": "2020-08-29T09:36:26.407407Z"
    },
    "papermill": {
     "duration": 0.343238,
     "end_time": "2020-08-29T09:36:26.408317",
     "exception": false,
     "start_time": "2020-08-29T09:36:26.065079",
     "status": "completed"
    },
    "tags": []
   },
   "outputs": [],
   "source": [
    "df['sentence'] = df.sentence.apply(lambda x: preprocessing(str(x)))"
   ]
  },
  {
   "cell_type": "code",
   "execution_count": 45,
   "metadata": {
    "execution": {
     "iopub.execute_input": "2020-08-29T09:36:26.436809Z",
     "iopub.status.busy": "2020-08-29T09:36:26.435760Z",
     "iopub.status.idle": "2020-08-29T09:36:26.439100Z",
     "shell.execute_reply": "2020-08-29T09:36:26.438502Z"
    },
    "papermill": {
     "duration": 0.019937,
     "end_time": "2020-08-29T09:36:26.439290",
     "exception": false,
     "start_time": "2020-08-29T09:36:26.419353",
     "status": "completed"
    },
    "tags": []
   },
   "outputs": [],
   "source": [
    "df.reset_index(drop=True, inplace=True)"
   ]
  },
  {
   "cell_type": "code",
   "execution_count": 46,
   "metadata": {},
   "outputs": [
    {
     "data": {
      "text/html": [
       "<div>\n",
       "<style scoped>\n",
       "    .dataframe tbody tr th:only-of-type {\n",
       "        vertical-align: middle;\n",
       "    }\n",
       "\n",
       "    .dataframe tbody tr th {\n",
       "        vertical-align: top;\n",
       "    }\n",
       "\n",
       "    .dataframe thead th {\n",
       "        text-align: right;\n",
       "    }\n",
       "</style>\n",
       "<table border=\"1\" class=\"dataframe\">\n",
       "  <thead>\n",
       "    <tr style=\"text-align: right;\">\n",
       "      <th></th>\n",
       "      <th>sentence</th>\n",
       "      <th>sentiment</th>\n",
       "    </tr>\n",
       "  </thead>\n",
       "  <tbody>\n",
       "    <tr>\n",
       "      <th>0</th>\n",
       "      <td>মুগ্ধ হয়ে গেলাম মামু আর তোমায় কি কমু বলো তোমায়...</td>\n",
       "      <td>1</td>\n",
       "    </tr>\n",
       "    <tr>\n",
       "      <th>1</th>\n",
       "      <td>এই কুত্তার বাচ্চাদের জন্য দেশটা আজ এমন অবস্তায়...</td>\n",
       "      <td>2</td>\n",
       "    </tr>\n",
       "    <tr>\n",
       "      <th>2</th>\n",
       "      <td>ভাই আপনার কথাই যাদু রয়েছে</td>\n",
       "      <td>1</td>\n",
       "    </tr>\n",
       "    <tr>\n",
       "      <th>3</th>\n",
       "      <td>উওরটা আমার অনেক ভাল লেগেছে</td>\n",
       "      <td>1</td>\n",
       "    </tr>\n",
       "    <tr>\n",
       "      <th>4</th>\n",
       "      <td>আমার নিজের গাড়ী নিয়ে কি সাজেক যেতে পারবো না  ...</td>\n",
       "      <td>0</td>\n",
       "    </tr>\n",
       "    <tr>\n",
       "      <th>...</th>\n",
       "      <td>...</td>\n",
       "      <td>...</td>\n",
       "    </tr>\n",
       "    <tr>\n",
       "      <th>14156</th>\n",
       "      <td>ঐ পুলিশ কুওারবাচচাদের গুলিকরে মেরে ফেলা উচিত</td>\n",
       "      <td>2</td>\n",
       "    </tr>\n",
       "    <tr>\n",
       "      <th>14157</th>\n",
       "      <td>খিচুড়ি পর্ব মারাত্মক  বাকি টা দেখি তারপর কমেন্ট</td>\n",
       "      <td>1</td>\n",
       "    </tr>\n",
       "    <tr>\n",
       "      <th>14158</th>\n",
       "      <td>পাশের ফ্রেন্ডটা কি ছেলে না মেয়ে</td>\n",
       "      <td>2</td>\n",
       "    </tr>\n",
       "    <tr>\n",
       "      <th>14159</th>\n",
       "      <td>মদ লকমান না খেলেও আমরা খাই এমনটাই মনে হচ্ছে</td>\n",
       "      <td>2</td>\n",
       "    </tr>\n",
       "    <tr>\n",
       "      <th>14160</th>\n",
       "      <td>এইসমস্ত হায়েনা দের কোনো জেল না দিয়ে ফাঁসি দিয়ে...</td>\n",
       "      <td>2</td>\n",
       "    </tr>\n",
       "  </tbody>\n",
       "</table>\n",
       "<p>14161 rows × 2 columns</p>\n",
       "</div>"
      ],
      "text/plain": [
       "                                                sentence  sentiment\n",
       "0      মুগ্ধ হয়ে গেলাম মামু আর তোমায় কি কমু বলো তোমায়...          1\n",
       "1      এই কুত্তার বাচ্চাদের জন্য দেশটা আজ এমন অবস্তায়...          2\n",
       "2                              ভাই আপনার কথাই যাদু রয়েছে          1\n",
       "3                            উওরটা আমার অনেক ভাল লেগেছে           1\n",
       "4      আমার নিজের গাড়ী নিয়ে কি সাজেক যেতে পারবো না  ...          0\n",
       "...                                                  ...        ...\n",
       "14156       ঐ পুলিশ কুওারবাচচাদের গুলিকরে মেরে ফেলা উচিত          2\n",
       "14157    খিচুড়ি পর্ব মারাত্মক  বাকি টা দেখি তারপর কমেন্ট          1\n",
       "14158                   পাশের ফ্রেন্ডটা কি ছেলে না মেয়ে           2\n",
       "14159        মদ লকমান না খেলেও আমরা খাই এমনটাই মনে হচ্ছে          2\n",
       "14160  এইসমস্ত হায়েনা দের কোনো জেল না দিয়ে ফাঁসি দিয়ে...          2\n",
       "\n",
       "[14161 rows x 2 columns]"
      ]
     },
     "execution_count": 46,
     "metadata": {},
     "output_type": "execute_result"
    }
   ],
   "source": [
    "\n",
    "df"
   ]
  },
  {
   "cell_type": "markdown",
   "metadata": {
    "papermill": {
     "duration": 0.010308,
     "end_time": "2020-08-29T09:36:26.460311",
     "exception": false,
     "start_time": "2020-08-29T09:36:26.450003",
     "status": "completed"
    },
    "tags": []
   },
   "source": [
    "Now I will prepare the dataset to train in the CNN LSTM network.So i have to convert all Sentences into a numpy Array.\n",
    "\n",
    "I have divided the training and testing data into 80/20 ratio.\n",
    "\n",
    "I have converted the sentiment values into one hot encodings for the convenient use in model training.\n"
   ]
  },
  {
   "cell_type": "code",
   "execution_count": 47,
   "metadata": {
    "execution": {
     "iopub.execute_input": "2020-08-29T09:36:26.498814Z",
     "iopub.status.busy": "2020-08-29T09:36:26.497605Z",
     "iopub.status.idle": "2020-08-29T09:36:26.620647Z",
     "shell.execute_reply": "2020-08-29T09:36:26.619161Z"
    },
    "papermill": {
     "duration": 0.149615,
     "end_time": "2020-08-29T09:36:26.620833",
     "exception": false,
     "start_time": "2020-08-29T09:36:26.471218",
     "status": "completed"
    },
    "tags": []
   },
   "outputs": [
    {
     "name": "stdout",
     "output_type": "stream",
     "text": [
      "Training Set Length: 12570\n",
      "Testing Set Length: 1591\n",
      "training_sentences shape: (12570,)\n",
      "testing_sentences shape: (1591,)\n",
      "train_labels shape: (12570, 3)\n",
      "test_labels shape: (1591, 3)\n"
     ]
    }
   ],
   "source": [
    "#train1, test1 = train_test_split(df,random_state=69, test_size=0.2)\n",
    "\n",
    "train1=df[:12570]\n",
    "test1=df[12570:]\n",
    "# train1=df[:15469]\n",
    "# test1=df[15469:]\n",
    "\n",
    "training_sentences = []\n",
    "testing_sentences = []\n",
    "\n",
    "\n",
    "\n",
    "train_sentences=train1['sentence'].values\n",
    "train_labels=train1['sentiment'].values\n",
    "for i in range(train_sentences.shape[0]): \n",
    "    #print(train_sentences[i])\n",
    "    x=str(train_sentences[i])\n",
    "    training_sentences.append(x)\n",
    "    \n",
    "training_sentences=np.array(training_sentences)\n",
    "\n",
    "\n",
    "\n",
    "\n",
    "\n",
    "test_sentences=test1['sentence'].values\n",
    "test_labels=test1['sentiment'].values\n",
    "\n",
    "for i in range(test_sentences.shape[0]): \n",
    "    x=str(test_sentences[i])\n",
    "    testing_sentences.append(x)\n",
    "    \n",
    "testing_sentences=np.array(testing_sentences)\n",
    "\n",
    "\n",
    "train_labels=to_categorical(train_labels)\n",
    "\n",
    "\n",
    "test_labels=to_categorical(test_labels)\n",
    "print(\"Training Set Length: \"+str(len(train1)))\n",
    "print(\"Testing Set Length: \"+str(len(test1)))\n",
    "print(\"training_sentences shape: \"+str(training_sentences.shape))\n",
    "print(\"testing_sentences shape: \"+str(testing_sentences.shape))\n",
    "print(\"train_labels shape: \"+str(train_labels.shape))\n",
    "print(\"test_labels shape: \"+str(test_labels.shape))\n"
   ]
  },
  {
   "cell_type": "markdown",
   "metadata": {
    "papermill": {
     "duration": 0.010413,
     "end_time": "2020-08-29T09:36:26.642686",
     "exception": false,
     "start_time": "2020-08-29T09:36:26.632273",
     "status": "completed"
    },
    "tags": []
   },
   "source": [
    "The Processed result is here what you see:"
   ]
  },
  {
   "cell_type": "code",
   "execution_count": 48,
   "metadata": {
    "execution": {
     "iopub.execute_input": "2020-08-29T09:36:26.670803Z",
     "iopub.status.busy": "2020-08-29T09:36:26.670015Z",
     "iopub.status.idle": "2020-08-29T09:36:26.674314Z",
     "shell.execute_reply": "2020-08-29T09:36:26.673563Z"
    },
    "papermill": {
     "duration": 0.020899,
     "end_time": "2020-08-29T09:36:26.674467",
     "exception": false,
     "start_time": "2020-08-29T09:36:26.653568",
     "status": "completed"
    },
    "scrolled": true,
    "tags": []
   },
   "outputs": [
    {
     "name": "stdout",
     "output_type": "stream",
     "text": [
      "এই কুত্তার বাচ্চাদের জন্য দেশটা আজ এমন অবস্তায় এই তিনটা পুলিশ কে তরে সবার সামনে মেরে পেলা দরকার \n",
      "[0. 1. 0.]\n"
     ]
    }
   ],
   "source": [
    "print(training_sentences[1])\n",
    "print(train_labels[0])"
   ]
  },
  {
   "cell_type": "markdown",
   "metadata": {
    "papermill": {
     "duration": 0.01087,
     "end_time": "2020-08-29T09:36:26.696569",
     "exception": false,
     "start_time": "2020-08-29T09:36:26.685699",
     "status": "completed"
    },
    "tags": []
   },
   "source": [
    "Now i will predefine some variables.\n",
    "\n",
    "vocab_size is the maximum vocabulary length of Tokenizer.\n",
    "\n",
    "KERAS tokenzier allows to vectorize a text corpus, by turning each text into either a sequence of integers (each integer being the index of a token in a dictionary) or into a vector where the coefficient for each token could be binary, based on word count, based on tf-idf...\n",
    "\n",
    "I will be tokenizing my dataset with this class here.I have did this tokenization so that it can be later used to generate Embeddings.\n",
    "\n",
    "The main advantage of word embedding is that words that share a similar context can be represented close to each other in the vector space. Thus, vectors carry a sense of semantic of a word.\n",
    "\n",
    "I have predefined the embedding dimension as 300(embedding_dim).\n",
    "\n",
    "max_length is the sentence maximum length.\n",
    "\n",
    "trunc_type is the truncation type.\n",
    "\n",
    "oov_token is the token for the words that are not present in the corpus.oov means out of vocabulary."
   ]
  },
  {
   "cell_type": "code",
   "execution_count": 49,
   "metadata": {
    "execution": {
     "iopub.execute_input": "2020-08-29T09:36:26.726011Z",
     "iopub.status.busy": "2020-08-29T09:36:26.724863Z",
     "iopub.status.idle": "2020-08-29T09:36:26.728118Z",
     "shell.execute_reply": "2020-08-29T09:36:26.727446Z"
    },
    "papermill": {
     "duration": 0.02028,
     "end_time": "2020-08-29T09:36:26.728248",
     "exception": false,
     "start_time": "2020-08-29T09:36:26.707968",
     "status": "completed"
    },
    "tags": []
   },
   "outputs": [],
   "source": [
    "# vocab_size = 25000\n",
    "# embedding_dim = 300\n",
    "# max_length = 100\n",
    "vocab_size = 50000\n",
    "embedding_dim = 300\n",
    "max_length = 100\n",
    "trunc_type='post'\n",
    "oov_tok = \"<OOV>\""
   ]
  },
  {
   "cell_type": "code",
   "execution_count": 50,
   "metadata": {
    "execution": {
     "iopub.execute_input": "2020-08-29T09:36:26.756605Z",
     "iopub.status.busy": "2020-08-29T09:36:26.755773Z",
     "iopub.status.idle": "2020-08-29T09:36:26.760382Z",
     "shell.execute_reply": "2020-08-29T09:36:26.759595Z"
    },
    "papermill": {
     "duration": 0.02122,
     "end_time": "2020-08-29T09:36:26.760560",
     "exception": false,
     "start_time": "2020-08-29T09:36:26.739340",
     "status": "completed"
    },
    "tags": []
   },
   "outputs": [
    {
     "name": "stdout",
     "output_type": "stream",
     "text": [
      "(12570,)\n",
      "(12570, 3)\n"
     ]
    }
   ],
   "source": [
    "print(training_sentences.shape)\n",
    "print(train_labels.shape)"
   ]
  },
  {
   "cell_type": "markdown",
   "metadata": {
    "papermill": {
     "duration": 0.010435,
     "end_time": "2020-08-29T09:36:26.782197",
     "exception": false,
     "start_time": "2020-08-29T09:36:26.771762",
     "status": "completed"
    },
    "tags": []
   },
   "source": [
    "At first i will tokenize and then i will be padding the sequences.I have used tokenizer only on training dataset to see how the model performs on unseen words."
   ]
  },
  {
   "cell_type": "code",
   "execution_count": 51,
   "metadata": {
    "execution": {
     "iopub.execute_input": "2020-08-29T09:36:26.838716Z",
     "iopub.status.busy": "2020-08-29T09:36:26.833416Z",
     "iopub.status.idle": "2020-08-29T09:36:27.475648Z",
     "shell.execute_reply": "2020-08-29T09:36:27.474948Z"
    },
    "papermill": {
     "duration": 0.682778,
     "end_time": "2020-08-29T09:36:27.475798",
     "exception": false,
     "start_time": "2020-08-29T09:36:26.793020",
     "status": "completed"
    },
    "tags": []
   },
   "outputs": [
    {
     "name": "stdout",
     "output_type": "stream",
     "text": [
      "23811\n",
      "Word index length:23811\n"
     ]
    }
   ],
   "source": [
    "tokenizer = Tokenizer(num_words = vocab_size, oov_token=oov_tok)\n",
    "tokenizer.fit_on_texts(training_sentences)\n",
    "word_index = tokenizer.word_index\n",
    "print(len(word_index))\n",
    "print(\"Word index length:\"+str(len(tokenizer.word_index)))\n",
    "sequences = tokenizer.texts_to_sequences(training_sentences)\n",
    "padded = pad_sequences(sequences,maxlen=max_length, truncating=trunc_type)\n",
    "\n",
    "\n",
    "test_sequences = tokenizer.texts_to_sequences(testing_sentences)\n",
    "testing_padded = pad_sequences(test_sequences,maxlen=max_length)"
   ]
  },
  {
   "cell_type": "code",
   "execution_count": 52,
   "metadata": {
    "execution": {
     "iopub.execute_input": "2020-08-29T09:36:27.509504Z",
     "iopub.status.busy": "2020-08-29T09:36:27.508080Z",
     "iopub.status.idle": "2020-08-29T09:36:27.513977Z",
     "shell.execute_reply": "2020-08-29T09:36:27.513188Z"
    },
    "papermill": {
     "duration": 0.026912,
     "end_time": "2020-08-29T09:36:27.514109",
     "exception": false,
     "start_time": "2020-08-29T09:36:27.487197",
     "status": "completed"
    },
    "tags": []
   },
   "outputs": [
    {
     "name": "stdout",
     "output_type": "stream",
     "text": [
      "Sentence :--> \n",
      "\n",
      "ভাই আপনার কথাই যাদু রয়েছে\n",
      "\n",
      "Sentence Tokenized and Converted into Sequence :--> \n",
      "\n",
      "[3, 9, 1380, 11381, 1471]\n",
      "\n",
      "After Padding the Sequence with padding length 100 :--> \n",
      "\n",
      "[    0     0     0     0     0     0     0     0     0     0     0     0\n",
      "     0     0     0     0     0     0     0     0     0     0     0     0\n",
      "     0     0     0     0     0     0     0     0     0     0     0     0\n",
      "     0     0     0     0     0     0     0     0     0     0     0     0\n",
      "     0     0     0     0     0     0     0     0     0     0     0     0\n",
      "     0     0     0     0     0     0     0     0     0     0     0     0\n",
      "     0     0     0     0     0     0     0     0     0     0     0     0\n",
      "     0     0     0     0     0     0     0     0     0     0     0     3\n",
      "     9  1380 11381  1471]\n"
     ]
    }
   ],
   "source": [
    "print(\"Sentence :--> \\n\")\n",
    "print(training_sentences[2]+\"\\n\")\n",
    "print(\"Sentence Tokenized and Converted into Sequence :--> \\n\")\n",
    "print(str(sequences[2])+\"\\n\")\n",
    "print(\"After Padding the Sequence with padding length 100 :--> \\n\")\n",
    "print(padded[2])"
   ]
  },
  {
   "cell_type": "code",
   "execution_count": 53,
   "metadata": {
    "execution": {
     "iopub.execute_input": "2020-08-29T09:36:27.543526Z",
     "iopub.status.busy": "2020-08-29T09:36:27.542369Z",
     "iopub.status.idle": "2020-08-29T09:36:27.546103Z",
     "shell.execute_reply": "2020-08-29T09:36:27.546711Z"
    },
    "papermill": {
     "duration": 0.021501,
     "end_time": "2020-08-29T09:36:27.546874",
     "exception": false,
     "start_time": "2020-08-29T09:36:27.525373",
     "status": "completed"
    },
    "tags": []
   },
   "outputs": [
    {
     "name": "stdout",
     "output_type": "stream",
     "text": [
      "Padded shape(training): (12570, 100)\n",
      "Padded shape(testing): (1591, 100)\n"
     ]
    }
   ],
   "source": [
    "print(\"Padded shape(training): \"+str(padded.shape))\n",
    "print(\"Padded shape(testing): \"+str(testing_padded.shape))"
   ]
  },
  {
   "cell_type": "markdown",
   "metadata": {
    "papermill": {
     "duration": 0.010891,
     "end_time": "2020-08-29T09:36:27.569346",
     "exception": false,
     "start_time": "2020-08-29T09:36:27.558455",
     "status": "completed"
    },
    "tags": []
   },
   "source": [
    "# Model Creation\n",
    "At first i have created embeddings from the text.\n",
    "\n",
    "In first layer,i created an conv1D with 200 as filter for CNN.\n",
    "\n",
    "In second & third layer,i have applied two Bi-LSTM with a dropout of .5.\n",
    "\n",
    "In rest of the layer i have applied Dense network.\n",
    "\n",
    "I have used Adap Optimizer with fine tuned hyperparameters.\n",
    "\n",
    "I have also applied L2 regularizations to reduce overfitting as much as possible."
   ]
  },
  {
   "cell_type": "code",
   "execution_count": 54,
   "metadata": {
    "execution": {
     "iopub.execute_input": "2020-08-29T09:36:27.654474Z",
     "iopub.status.busy": "2020-08-29T09:36:27.609646Z",
     "iopub.status.idle": "2020-08-29T09:36:29.255587Z",
     "shell.execute_reply": "2020-08-29T09:36:29.256625Z"
    },
    "papermill": {
     "duration": 1.676288,
     "end_time": "2020-08-29T09:36:29.256866",
     "exception": false,
     "start_time": "2020-08-29T09:36:27.580578",
     "status": "completed"
    },
    "scrolled": false,
    "tags": []
   },
   "outputs": [
    {
     "name": "stdout",
     "output_type": "stream",
     "text": [
      "Model: \"sequential_1\"\n",
      "_________________________________________________________________\n",
      " Layer (type)                Output Shape              Param #   \n",
      "=================================================================\n",
      " embedding_1 (Embedding)     (None, 100, 300)          15000000  \n",
      "                                                                 \n",
      " conv1d_1 (Conv1D)           (None, 98, 200)           180200    \n",
      "                                                                 \n",
      " bidirectional_2 (Bidirectio  (None, 98, 128)          135680    \n",
      " nal)                                                            \n",
      "                                                                 \n",
      " dropout_1 (Dropout)         (None, 98, 128)           0         \n",
      "                                                                 \n",
      " bidirectional_3 (Bidirectio  (None, 128)              98816     \n",
      " nal)                                                            \n",
      "                                                                 \n",
      " dense_4 (Dense)             (None, 50)                6450      \n",
      "                                                                 \n",
      " dense_5 (Dense)             (None, 50)                2550      \n",
      "                                                                 \n",
      " flatten_1 (Flatten)         (None, 50)                0         \n",
      "                                                                 \n",
      " dense_6 (Dense)             (None, 100)               5100      \n",
      "                                                                 \n",
      " dense_7 (Dense)             (None, 3)                 303       \n",
      "                                                                 \n",
      "=================================================================\n",
      "Total params: 15,429,099\n",
      "Trainable params: 15,429,099\n",
      "Non-trainable params: 0\n",
      "_________________________________________________________________\n"
     ]
    }
   ],
   "source": [
    "with tf.device('/gpu:0'):\n",
    "    model= Sequential()\n",
    "    model.add(Embedding(vocab_size, embedding_dim, input_length=max_length))\n",
    "    model.add(Conv1D(200, kernel_size=3, activation = \"relu\"))\n",
    "    model.add(Bidirectional(LSTM(64, return_sequences=True)))\n",
    "    model.add(Dropout(0.5))\n",
    "    model.add(Bidirectional(LSTM(64)))\n",
    "    model.add(Dense(50, activation='relu'))\n",
    "    model.add(Dense(50, activation='relu'))\n",
    "    model.add(Flatten())\n",
    "    #l2 regularizer\n",
    "    model.add(Dense(100,kernel_regularizer=regularizers.l2(0.01),activation=\"relu\"))\n",
    "    model.add(Dense(3, activation='softmax'))\n",
    "    #sgd= SGD(lr=0.0001,decay=1e-6,momentum=0.9,nesterov=True)\n",
    "    \n",
    "    \n",
    "    adam=Adam(learning_rate=0.0005,beta_1=0.9,beta_2=0.999,epsilon=1e-07,amsgrad=False)\n",
    "    model.summary()\n",
    "    #model.compile(loss='categorical_crossentropy',optimizer=adam,metrics=['accuracy'])\n",
    "    model.compile(loss='mse',optimizer=adam,metrics=['accuracy'])"
   ]
  },
  {
   "cell_type": "code",
   "execution_count": null,
   "metadata": {},
   "outputs": [],
   "source": []
  },
  {
   "cell_type": "markdown",
   "metadata": {
    "papermill": {
     "duration": 0.011167,
     "end_time": "2020-08-29T09:36:29.280669",
     "exception": false,
     "start_time": "2020-08-29T09:36:29.269502",
     "status": "completed"
    },
    "tags": []
   },
   "source": [
    "I trained the model for 5 epochs with batch size 256."
   ]
  },
  {
   "cell_type": "code",
   "execution_count": 55,
   "metadata": {
    "execution": {
     "iopub.execute_input": "2020-08-29T09:36:29.311730Z",
     "iopub.status.busy": "2020-08-29T09:36:29.310823Z",
     "iopub.status.idle": "2020-08-29T09:38:37.443524Z",
     "shell.execute_reply": "2020-08-29T09:38:37.444669Z"
    },
    "papermill": {
     "duration": 128.152726,
     "end_time": "2020-08-29T09:38:37.444972",
     "exception": false,
     "start_time": "2020-08-29T09:36:29.292246",
     "status": "completed"
    },
    "tags": []
   },
   "outputs": [
    {
     "name": "stdout",
     "output_type": "stream",
     "text": [
      "Epoch 1/25\n",
      "50/50 [==============================] - 42s 769ms/step - loss: 0.7671 - accuracy: 0.4146 - val_loss: 0.6522 - val_accuracy: 0.5211\n",
      "Epoch 2/25\n",
      "50/50 [==============================] - 37s 736ms/step - loss: 0.5397 - accuracy: 0.6215 - val_loss: 0.4567 - val_accuracy: 0.6556\n",
      "Epoch 3/25\n",
      "50/50 [==============================] - 37s 739ms/step - loss: 0.3620 - accuracy: 0.7675 - val_loss: 0.3605 - val_accuracy: 0.6348\n",
      "Epoch 4/25\n",
      "50/50 [==============================] - 37s 734ms/step - loss: 0.2431 - accuracy: 0.8545 - val_loss: 0.2974 - val_accuracy: 0.6436\n",
      "Epoch 5/25\n",
      "50/50 [==============================] - 39s 777ms/step - loss: 0.1599 - accuracy: 0.9122 - val_loss: 0.2620 - val_accuracy: 0.6543\n",
      "Epoch 6/25\n",
      "50/50 [==============================] - 38s 757ms/step - loss: 0.1078 - accuracy: 0.9378 - val_loss: 0.2296 - val_accuracy: 0.6719\n",
      "Epoch 7/25\n",
      "50/50 [==============================] - 40s 799ms/step - loss: 0.0747 - accuracy: 0.9534 - val_loss: 0.2083 - val_accuracy: 0.6750\n",
      "Epoch 8/25\n",
      "50/50 [==============================] - 40s 804ms/step - loss: 0.0535 - accuracy: 0.9613 - val_loss: 0.1969 - val_accuracy: 0.6851\n",
      "Epoch 9/25\n",
      "50/50 [==============================] - 38s 766ms/step - loss: 0.0403 - accuracy: 0.9651 - val_loss: 0.1979 - val_accuracy: 0.6694\n",
      "Epoch 10/25\n",
      "50/50 [==============================] - 39s 774ms/step - loss: 0.0326 - accuracy: 0.9663 - val_loss: 0.1947 - val_accuracy: 0.6618\n",
      "Epoch 11/25\n",
      "50/50 [==============================] - 38s 749ms/step - loss: 0.0262 - accuracy: 0.9703 - val_loss: 0.1852 - val_accuracy: 0.6750\n",
      "Epoch 12/25\n",
      "50/50 [==============================] - 38s 759ms/step - loss: 0.0229 - accuracy: 0.9714 - val_loss: 0.1837 - val_accuracy: 0.6763\n",
      "Epoch 13/25\n",
      "50/50 [==============================] - 46s 918ms/step - loss: 0.0204 - accuracy: 0.9726 - val_loss: 0.1927 - val_accuracy: 0.6600\n",
      "Epoch 14/25\n",
      "50/50 [==============================] - 40s 808ms/step - loss: 0.0184 - accuracy: 0.9736 - val_loss: 0.1825 - val_accuracy: 0.6719\n",
      "Epoch 15/25\n",
      "50/50 [==============================] - 40s 793ms/step - loss: 0.0172 - accuracy: 0.9745 - val_loss: 0.1926 - val_accuracy: 0.6600\n",
      "Epoch 16/25\n",
      "50/50 [==============================] - 40s 807ms/step - loss: 0.0169 - accuracy: 0.9740 - val_loss: 0.1895 - val_accuracy: 0.6562\n",
      "Epoch 17/25\n",
      "50/50 [==============================] - 41s 821ms/step - loss: 0.0167 - accuracy: 0.9737 - val_loss: 0.1947 - val_accuracy: 0.6543\n",
      "Epoch 18/25\n",
      "50/50 [==============================] - 46s 920ms/step - loss: 0.0162 - accuracy: 0.9742 - val_loss: 0.1925 - val_accuracy: 0.6543\n",
      "Epoch 19/25\n",
      "50/50 [==============================] - 42s 831ms/step - loss: 0.0159 - accuracy: 0.9738 - val_loss: 0.1932 - val_accuracy: 0.6562\n",
      "Epoch 20/25\n",
      "50/50 [==============================] - 46s 931ms/step - loss: 0.0158 - accuracy: 0.9741 - val_loss: 0.1970 - val_accuracy: 0.6518\n",
      "Epoch 21/25\n",
      "50/50 [==============================] - 44s 880ms/step - loss: 0.0151 - accuracy: 0.9742 - val_loss: 0.1781 - val_accuracy: 0.6782\n",
      "Epoch 22/25\n",
      "50/50 [==============================] - 46s 928ms/step - loss: 0.0147 - accuracy: 0.9749 - val_loss: 0.1900 - val_accuracy: 0.6650\n",
      "Epoch 23/25\n",
      "50/50 [==============================] - 47s 948ms/step - loss: 0.0140 - accuracy: 0.9755 - val_loss: 0.1797 - val_accuracy: 0.6813\n",
      "Epoch 24/25\n",
      "50/50 [==============================] - 47s 930ms/step - loss: 0.0139 - accuracy: 0.9757 - val_loss: 0.1840 - val_accuracy: 0.6625\n",
      "Epoch 25/25\n",
      "50/50 [==============================] - 47s 947ms/step - loss: 0.0134 - accuracy: 0.9751 - val_loss: 0.1841 - val_accuracy: 0.6650\n"
     ]
    }
   ],
   "source": [
    "    history=model.fit(padded,train_labels,epochs=25,batch_size=256,validation_data=(testing_padded,test_labels),use_multiprocessing=True, workers=8)"
   ]
  },
  {
   "cell_type": "markdown",
   "metadata": {
    "papermill": {
     "duration": 0.018598,
     "end_time": "2020-08-29T09:38:37.521676",
     "exception": false,
     "start_time": "2020-08-29T09:38:37.503078",
     "status": "completed"
    },
    "tags": []
   },
   "source": [
    "# Visualization"
   ]
  },
  {
   "cell_type": "code",
   "execution_count": 56,
   "metadata": {
    "execution": {
     "iopub.execute_input": "2020-08-29T09:38:37.581894Z",
     "iopub.status.busy": "2020-08-29T09:38:37.572994Z",
     "iopub.status.idle": "2020-08-29T09:38:38.037272Z",
     "shell.execute_reply": "2020-08-29T09:38:38.036479Z"
    },
    "papermill": {
     "duration": 0.496359,
     "end_time": "2020-08-29T09:38:38.037405",
     "exception": false,
     "start_time": "2020-08-29T09:38:37.541046",
     "status": "completed"
    },
    "tags": []
   },
   "outputs": [
    {
     "name": "stdout",
     "output_type": "stream",
     "text": [
      "dict_keys(['loss', 'accuracy', 'val_loss', 'val_accuracy'])\n"
     ]
    },
    {
     "data": {
      "image/png": "[encoded data removed]",
      "text/plain": [
       "<Figure size 432x288 with 1 Axes>"
      ]
     },
     "metadata": {
      "needs_background": "light"
     },
     "output_type": "display_data"
    },
    {
     "data": {
      "image/png": "[encoded data removed]",
      "text/plain": [
       "<Figure size 432x288 with 1 Axes>"
      ]
     },
     "metadata": {
      "needs_background": "light"
     },
     "output_type": "display_data"
    }
   ],
   "source": [
    "print(history.history.keys())\n",
    "loss = history.history['loss']\n",
    "val_loss = history.history['val_loss']\n",
    "plt.plot(loss)\n",
    "plt.plot(val_loss)\n",
    "plt.title('model loss')\n",
    "plt.ylabel('loss')\n",
    "plt.xlabel('epoch')\n",
    "plt.legend(['loss', 'val_loss'])\n",
    "plt.show()\n",
    "\n",
    "accuracy = history.history['accuracy']\n",
    "val_accuracy= history.history['val_accuracy']\n",
    "plt.plot(accuracy)\n",
    "plt.plot(val_accuracy)\n",
    "plt.title('model accuracy')\n",
    "plt.ylabel('accuracy')\n",
    "plt.xlabel('epoch')\n",
    "plt.legend(['accuracy', 'val_accuracy'])\n",
    "plt.show()"
   ]
  },
  {
   "cell_type": "markdown",
   "metadata": {
    "papermill": {
     "duration": 0.023061,
     "end_time": "2020-08-29T09:38:38.080221",
     "exception": false,
     "start_time": "2020-08-29T09:38:38.057160",
     "status": "completed"
    },
    "tags": []
   },
   "source": [
    "# Accuracy and Evaluation"
   ]
  },
  {
   "cell_type": "code",
   "execution_count": 57,
   "metadata": {
    "execution": {
     "iopub.execute_input": "2020-08-29T09:38:38.139699Z",
     "iopub.status.busy": "2020-08-29T09:38:38.138694Z",
     "iopub.status.idle": "2020-08-29T09:38:45.824071Z",
     "shell.execute_reply": "2020-08-29T09:38:45.823402Z"
    },
    "papermill": {
     "duration": 7.718225,
     "end_time": "2020-08-29T09:38:45.824208",
     "exception": false,
     "start_time": "2020-08-29T09:38:38.105983",
     "status": "completed"
    },
    "tags": []
   },
   "outputs": [
    {
     "name": "stdout",
     "output_type": "stream",
     "text": [
      "50/50 [==============================] - 11s 209ms/step - loss: 0.0126 - accuracy: 0.9768\n",
      "The train accuracy is: 0.9767701029777527\n",
      "7/7 [==============================] - 1s 211ms/step - loss: 0.1841 - accuracy: 0.6650\n",
      "The test accuracy is: 0.6649905443191528\n"
     ]
    }
   ],
   "source": [
    "#accuracy calculation\n",
    "loss_and_metrics = model.evaluate(padded,train_labels,batch_size=256)\n",
    "print(\"The train accuracy is: \"+str(loss_and_metrics[1]))\n",
    "loss_and_metrics = model.evaluate(testing_padded,test_labels,batch_size=256)\n",
    "print(\"The test accuracy is: \"+str(loss_and_metrics[1]))"
   ]
  },
  {
   "cell_type": "markdown",
   "metadata": {
    "papermill": {
     "duration": 0.020779,
     "end_time": "2020-08-29T09:38:45.866851",
     "exception": false,
     "start_time": "2020-08-29T09:38:45.846072",
     "status": "completed"
    },
    "tags": []
   },
   "source": [
    "# Conclusion\n",
    "As we can see that the result is somewhat overfitting.This is because the dataset is very small to work with with deep learning.But my main focus of this notebook was to see what is the result of bangla sentiment analysis if i use a hybrid network."
   ]
  },
  {
   "cell_type": "code",
   "execution_count": null,
   "metadata": {
    "papermill": {
     "duration": 0.020894,
     "end_time": "2020-08-29T09:38:45.908871",
     "exception": false,
     "start_time": "2020-08-29T09:38:45.887977",
     "status": "completed"
    },
    "tags": []
   },
   "outputs": [],
   "source": []
  },
  {
   "cell_type": "code",
   "execution_count": null,
   "metadata": {},
   "outputs": [],
   "source": []
  },
  {
   "cell_type": "code",
   "execution_count": null,
   "metadata": {},
   "outputs": [],
   "source": []
  },
  {
   "cell_type": "code",
   "execution_count": null,
   "metadata": {},
   "outputs": [],
   "source": []
  }
 ],
 "metadata": {
  "kernelspec": {
   "display_name": "Python 3 (ipykernel)",
   "language": "python",
   "name": "python3"
  },
  "language_info": {
   "codemirror_mode": {
    "name": "ipython",
    "version": 3
   },
   "file_extension": ".py",
   "mimetype": "text/x-python",
   "name": "python",
   "nbconvert_exporter": "python",
   "pygments_lexer": "ipython3",
   "version": "3.8.10"
  },
  "papermill": {
   "duration": 155.662062,
   "end_time": "2020-08-29T09:38:46.039670",
   "environment_variables": {},
   "exception": null,
   "input_path": "__notebook__.ipynb",
   "output_path": "__notebook__.ipynb",
   "parameters": {},
   "start_time": "2020-08-29T09:36:10.377608",
   "version": "2.1.0"
  }
 },
 "nbformat": 4,
 "nbformat_minor": 4
}
