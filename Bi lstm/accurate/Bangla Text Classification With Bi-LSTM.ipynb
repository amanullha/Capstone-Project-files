{
 "cells": [
  {
   "cell_type": "code",
   "execution_count": 159,
   "metadata": {
    "_cell_guid": "b1076dfc-b9ad-4769-8c92-a6c4dae69d19",
    "_uuid": "8f2839f25d086af736a60e9eeb907d3b93b6e0e5",
    "execution": {
     "iopub.execute_input": "2021-10-19T19:22:32.963256Z",
     "iopub.status.busy": "2021-10-19T19:22:32.962703Z",
     "iopub.status.idle": "2021-10-19T19:22:32.978460Z",
     "shell.execute_reply": "2021-10-19T19:22:32.977479Z",
     "shell.execute_reply.started": "2021-10-19T19:22:32.963212Z"
    }
   },
   "outputs": [],
   "source": [
    "# This Python 3 environment comes with many helpful analytics libraries installed\n",
    "# It is defined by the kaggle/python Docker image: https://github.com/kaggle/docker-python\n",
    "# For example, here's several helpful packages to load\n",
    "\n",
    "import numpy as np # linear algebra\n",
    "import pandas as pd # data processing, CSV file I/O (e.g. pd.read_csv)\n",
    "\n",
    "# Input data files are available in the read-only \"../input/\" directory\n",
    "# For example, running this (by clicking run or pressing Shift+Enter) will list all files under the input directory\n",
    "\n",
    "import os\n",
    "for dirname, _, filenames in os.walk('/kaggle/input'):\n",
    "    for filename in filenames:\n",
    "        print(os.path.join(dirname, filename))\n",
    "\n",
    "# You can write up to 20GB to the current directory (/kaggle/working/) that gets preserved as output when you create a version using \"Save & Run All\" \n",
    "# You can also write temporary files to /kaggle/temp/, but they won't be saved outside of the current session"
   ]
  },
  {
   "cell_type": "markdown",
   "metadata": {},
   "source": [
    "# **Updating/Instaling Libraries**"
   ]
  },
  {
   "cell_type": "code",
   "execution_count": 160,
   "metadata": {
    "execution": {
     "iopub.execute_input": "2021-10-19T19:22:32.981100Z",
     "iopub.status.busy": "2021-10-19T19:22:32.980737Z",
     "iopub.status.idle": "2021-10-19T19:23:10.831587Z",
     "shell.execute_reply": "2021-10-19T19:23:10.830726Z",
     "shell.execute_reply.started": "2021-10-19T19:22:32.981063Z"
    }
   },
   "outputs": [],
   "source": [
    "# !pip install keras\n",
    "# !pip install --upgrade tensorflow\n",
    "# !pip install --upgrade tensorflow-gpu\n",
    "# !pip install xlrd==1.2.0\n",
    "# !pip install openpyxl"
   ]
  },
  {
   "cell_type": "markdown",
   "metadata": {},
   "source": [
    "# **Importing Libraries**"
   ]
  },
  {
   "cell_type": "code",
   "execution_count": 161,
   "metadata": {
    "execution": {
     "iopub.execute_input": "2021-10-19T19:23:10.835175Z",
     "iopub.status.busy": "2021-10-19T19:23:10.834936Z",
     "iopub.status.idle": "2021-10-19T19:23:10.846308Z",
     "shell.execute_reply": "2021-10-19T19:23:10.845419Z",
     "shell.execute_reply.started": "2021-10-19T19:23:10.835149Z"
    }
   },
   "outputs": [],
   "source": [
    "import pandas as pd\n",
    "from pandas import read_excel\n",
    "import numpy as np\n",
    "import re\n",
    "from re import sub\n",
    "import multiprocessing\n",
    "from unidecode import unidecode\n",
    "import os\n",
    "from time import time \n",
    "\n",
    "\n",
    "from sklearn import metrics\n",
    "import tensorflow as tf\n",
    "from tensorflow import keras\n",
    "from tensorflow.keras import layers\n",
    "#from tensorflow.python.keras.layers import LSTM,Dense,Dropout,Activation,Embedding,Flatten,Bidirectional,MaxPooling2D, Conv1D, MaxPooling1D\n",
    "from tensorflow.python.keras.layers import LSTM,Dense,Dropout,Activation,Embedding,Flatten,MaxPooling2D, Conv1D, MaxPooling1D\n",
    "\n",
    "from tensorflow.python.keras.models import Sequential\n",
    "\n",
    "from keras.models import Sequential\n",
    "from keras.layers import LSTM\n",
    "from keras.layers import Dense\n",
    "from keras.layers import TimeDistributed\n",
    "from keras.layers import Bidirectional\n",
    "\n",
    "\n",
    "from tensorflow.keras.optimizers import SGD,Adam\n",
    "from tensorflow.keras import regularizers\n",
    "\n",
    "from tensorflow.keras.preprocessing.text import Tokenizer\n",
    "from tensorflow.keras.preprocessing.sequence import pad_sequences\n",
    "from tensorflow.keras.utils import to_categorical\n",
    "\n",
    "\n",
    "import h5py\n",
    "import csv\n",
    "import seaborn as sns\n",
    "import matplotlib.pyplot as plt\n",
    "from sklearn.model_selection import train_test_split\n",
    "from sklearn.model_selection import StratifiedKFold\n",
    "from sklearn.metrics import precision_recall_fscore_support\n",
    "from sklearn.metrics import accuracy_score\n",
    "from sklearn.metrics import classification_report\n",
    "\n",
    "\n",
    "from nltk.corpus import stopwords\n",
    "import nltk\n",
    "import re\n",
    "from nltk.stem import WordNetLemmatizer\n",
    "import string\n",
    "from nltk.tokenize import word_tokenize\n",
    "from nltk.util import ngrams"
   ]
  },
  {
   "cell_type": "markdown",
   "metadata": {},
   "source": [
    "# **Loading Dataset**"
   ]
  },
  {
   "cell_type": "code",
   "execution_count": 162,
   "metadata": {
    "execution": {
     "iopub.execute_input": "2021-10-19T19:23:10.849050Z",
     "iopub.status.busy": "2021-10-19T19:23:10.848775Z",
     "iopub.status.idle": "2021-10-19T19:23:32.065048Z",
     "shell.execute_reply": "2021-10-19T19:23:32.064282Z",
     "shell.execute_reply.started": "2021-10-19T19:23:10.849017Z"
    }
   },
   "outputs": [],
   "source": [
    "df_train=pd.read_csv(\"/home/ubuntu/Desktop/ML/Coding/dataset/SentNoB Dataset/Train.csv\",encoding='utf-8')\n",
    "df_test=pd.read_csv(\"/home/ubuntu/Desktop/ML/Coding/dataset/SentNoB Dataset/Test.csv\",encoding='utf-8')\n",
    "df_val=pd.read_csv(\"/home/ubuntu/Desktop/ML/Coding/dataset/SentNoB Dataset/Test.csv\",encoding='utf-8')\n",
    "df_test=df_test.append(df_val)"
   ]
  },
  {
   "cell_type": "code",
   "execution_count": 163,
   "metadata": {
    "execution": {
     "iopub.execute_input": "2021-10-19T19:23:32.090064Z",
     "iopub.status.busy": "2021-10-19T19:23:32.089853Z",
     "iopub.status.idle": "2021-10-19T19:23:40.699133Z",
     "shell.execute_reply": "2021-10-19T19:23:40.698272Z",
     "shell.execute_reply.started": "2021-10-19T19:23:32.090038Z"
    }
   },
   "outputs": [
    {
     "data": {
      "text/html": [
       "<div>\n",
       "<style scoped>\n",
       "    .dataframe tbody tr th:only-of-type {\n",
       "        vertical-align: middle;\n",
       "    }\n",
       "\n",
       "    .dataframe tbody tr th {\n",
       "        vertical-align: top;\n",
       "    }\n",
       "\n",
       "    .dataframe thead th {\n",
       "        text-align: right;\n",
       "    }\n",
       "</style>\n",
       "<table border=\"1\" class=\"dataframe\">\n",
       "  <thead>\n",
       "    <tr style=\"text-align: right;\">\n",
       "      <th></th>\n",
       "      <th>Data</th>\n",
       "      <th>Label</th>\n",
       "      <th>count</th>\n",
       "    </tr>\n",
       "  </thead>\n",
       "  <tbody>\n",
       "    <tr>\n",
       "      <th>0</th>\n",
       "      <td>মুগ্ধ হয়ে গেলাম মামু. আর তোমায় কি কমু. বলো তোম...</td>\n",
       "      <td>1</td>\n",
       "      <td>22</td>\n",
       "    </tr>\n",
       "    <tr>\n",
       "      <th>1</th>\n",
       "      <td>এই কুত্তার বাচ্চাদের জন্য দেশটা আজ এমন অবস্তায়...</td>\n",
       "      <td>2</td>\n",
       "      <td>18</td>\n",
       "    </tr>\n",
       "    <tr>\n",
       "      <th>2</th>\n",
       "      <td>ভাই আপনার কথাই যাদু রয়েছে</td>\n",
       "      <td>1</td>\n",
       "      <td>5</td>\n",
       "    </tr>\n",
       "    <tr>\n",
       "      <th>3</th>\n",
       "      <td>উওরটা আমার অনেক ভাল লেগেছে</td>\n",
       "      <td>1</td>\n",
       "      <td>5</td>\n",
       "    </tr>\n",
       "    <tr>\n",
       "      <th>4</th>\n",
       "      <td>আমার নিজের গাড়ী নিয়ে কি সাজেক যেতে পারবো না ?...</td>\n",
       "      <td>0</td>\n",
       "      <td>14</td>\n",
       "    </tr>\n",
       "    <tr>\n",
       "      <th>...</th>\n",
       "      <td>...</td>\n",
       "      <td>...</td>\n",
       "      <td>...</td>\n",
       "    </tr>\n",
       "    <tr>\n",
       "      <th>12570</th>\n",
       "      <td>বর্ডারে অনেক লেট হয়ে যাওয়াতে আমরা জিপে করে চলে...</td>\n",
       "      <td>1</td>\n",
       "      <td>20</td>\n",
       "    </tr>\n",
       "    <tr>\n",
       "      <th>12571</th>\n",
       "      <td>আমার সোনার বাংলাতে এমন রক্ষক নামের ভক্ষকের কোন...</td>\n",
       "      <td>2</td>\n",
       "      <td>41</td>\n",
       "    </tr>\n",
       "    <tr>\n",
       "      <th>12572</th>\n",
       "      <td>ওনারা এত হাইজিনিক ও এত সুন্দর পরিবেশে রান্না ক...</td>\n",
       "      <td>1</td>\n",
       "      <td>45</td>\n",
       "    </tr>\n",
       "    <tr>\n",
       "      <th>12573</th>\n",
       "      <td>বাংলাদেশ আমরা পুলিশ চাই না এই ধরনে পুলিশ দরকার...</td>\n",
       "      <td>2</td>\n",
       "      <td>10</td>\n",
       "    </tr>\n",
       "    <tr>\n",
       "      <th>12574</th>\n",
       "      <td>বসুন্ধরা শাখার হাজি বিরিয়ানি একবারেই ফালতু</td>\n",
       "      <td>2</td>\n",
       "      <td>6</td>\n",
       "    </tr>\n",
       "  </tbody>\n",
       "</table>\n",
       "<p>12575 rows × 3 columns</p>\n",
       "</div>"
      ],
      "text/plain": [
       "                                                    Data  Label  count\n",
       "0      মুগ্ধ হয়ে গেলাম মামু. আর তোমায় কি কমু. বলো তোম...      1     22\n",
       "1      এই কুত্তার বাচ্চাদের জন্য দেশটা আজ এমন অবস্তায়...      2     18\n",
       "2                              ভাই আপনার কথাই যাদু রয়েছে      1      5\n",
       "3                            উওরটা আমার অনেক ভাল লেগেছে       1      5\n",
       "4      আমার নিজের গাড়ী নিয়ে কি সাজেক যেতে পারবো না ?...      0     14\n",
       "...                                                  ...    ...    ...\n",
       "12570  বর্ডারে অনেক লেট হয়ে যাওয়াতে আমরা জিপে করে চলে...      1     20\n",
       "12571  আমার সোনার বাংলাতে এমন রক্ষক নামের ভক্ষকের কোন...      2     41\n",
       "12572  ওনারা এত হাইজিনিক ও এত সুন্দর পরিবেশে রান্না ক...      1     45\n",
       "12573  বাংলাদেশ আমরা পুলিশ চাই না এই ধরনে পুলিশ দরকার...      2     10\n",
       "12574         বসুন্ধরা শাখার হাজি বিরিয়ানি একবারেই ফালতু      2      6\n",
       "\n",
       "[12575 rows x 3 columns]"
      ]
     },
     "metadata": {},
     "output_type": "display_data"
    },
    {
     "name": "stdout",
     "output_type": "stream",
     "text": [
      "<class 'pandas.core.frame.DataFrame'>\n",
      "RangeIndex: 12575 entries, 0 to 12574\n",
      "Data columns (total 3 columns):\n",
      " #   Column  Non-Null Count  Dtype \n",
      "---  ------  --------------  ----- \n",
      " 0   Data    12575 non-null  object\n",
      " 1   Label   12575 non-null  int64 \n",
      " 2   count   12575 non-null  int64 \n",
      "dtypes: int64(2), object(1)\n",
      "memory usage: 294.9+ KB\n",
      "[1 2 0]\n"
     ]
    }
   ],
   "source": [
    "\n",
    "df_train['count'] = df_train['Data'].str.split().str.len()\n",
    "df_test['count'] = df_test['Data'].str.split().str.len()\n",
    "display(df_train)\n",
    "df_train.head()\n",
    "df_train.describe()\n",
    "df_train.info()\n",
    "print(df_train.Label.unique())\n",
    "\n",
    "#category,text,cleanText,count"
   ]
  },
  {
   "cell_type": "code",
   "execution_count": 164,
   "metadata": {},
   "outputs": [],
   "source": [
    "# df_train_n=df_train[df_train.Label==0]\n",
    "# df_train=df_train.append(df_train_n)"
   ]
  },
  {
   "cell_type": "code",
   "execution_count": 165,
   "metadata": {},
   "outputs": [
    {
     "data": {
      "text/html": [
       "<div>\n",
       "<style scoped>\n",
       "    .dataframe tbody tr th:only-of-type {\n",
       "        vertical-align: middle;\n",
       "    }\n",
       "\n",
       "    .dataframe tbody tr th {\n",
       "        vertical-align: top;\n",
       "    }\n",
       "\n",
       "    .dataframe thead th {\n",
       "        text-align: right;\n",
       "    }\n",
       "</style>\n",
       "<table border=\"1\" class=\"dataframe\">\n",
       "  <thead>\n",
       "    <tr style=\"text-align: right;\">\n",
       "      <th></th>\n",
       "      <th>Data</th>\n",
       "      <th>Label</th>\n",
       "      <th>count</th>\n",
       "    </tr>\n",
       "  </thead>\n",
       "  <tbody>\n",
       "    <tr>\n",
       "      <th>0</th>\n",
       "      <td>মুগ্ধ হয়ে গেলাম মামু. আর তোমায় কি কমু. বলো তোম...</td>\n",
       "      <td>1</td>\n",
       "      <td>22</td>\n",
       "    </tr>\n",
       "    <tr>\n",
       "      <th>1</th>\n",
       "      <td>এই কুত্তার বাচ্চাদের জন্য দেশটা আজ এমন অবস্তায়...</td>\n",
       "      <td>2</td>\n",
       "      <td>18</td>\n",
       "    </tr>\n",
       "    <tr>\n",
       "      <th>2</th>\n",
       "      <td>ভাই আপনার কথাই যাদু রয়েছে</td>\n",
       "      <td>1</td>\n",
       "      <td>5</td>\n",
       "    </tr>\n",
       "    <tr>\n",
       "      <th>3</th>\n",
       "      <td>উওরটা আমার অনেক ভাল লেগেছে</td>\n",
       "      <td>1</td>\n",
       "      <td>5</td>\n",
       "    </tr>\n",
       "    <tr>\n",
       "      <th>4</th>\n",
       "      <td>আমার নিজের গাড়ী নিয়ে কি সাজেক যেতে পারবো না ?...</td>\n",
       "      <td>0</td>\n",
       "      <td>14</td>\n",
       "    </tr>\n",
       "    <tr>\n",
       "      <th>...</th>\n",
       "      <td>...</td>\n",
       "      <td>...</td>\n",
       "      <td>...</td>\n",
       "    </tr>\n",
       "    <tr>\n",
       "      <th>12570</th>\n",
       "      <td>বর্ডারে অনেক লেট হয়ে যাওয়াতে আমরা জিপে করে চলে...</td>\n",
       "      <td>1</td>\n",
       "      <td>20</td>\n",
       "    </tr>\n",
       "    <tr>\n",
       "      <th>12571</th>\n",
       "      <td>আমার সোনার বাংলাতে এমন রক্ষক নামের ভক্ষকের কোন...</td>\n",
       "      <td>2</td>\n",
       "      <td>41</td>\n",
       "    </tr>\n",
       "    <tr>\n",
       "      <th>12572</th>\n",
       "      <td>ওনারা এত হাইজিনিক ও এত সুন্দর পরিবেশে রান্না ক...</td>\n",
       "      <td>1</td>\n",
       "      <td>45</td>\n",
       "    </tr>\n",
       "    <tr>\n",
       "      <th>12573</th>\n",
       "      <td>বাংলাদেশ আমরা পুলিশ চাই না এই ধরনে পুলিশ দরকার...</td>\n",
       "      <td>2</td>\n",
       "      <td>10</td>\n",
       "    </tr>\n",
       "    <tr>\n",
       "      <th>12574</th>\n",
       "      <td>বসুন্ধরা শাখার হাজি বিরিয়ানি একবারেই ফালতু</td>\n",
       "      <td>2</td>\n",
       "      <td>6</td>\n",
       "    </tr>\n",
       "  </tbody>\n",
       "</table>\n",
       "<p>12575 rows × 3 columns</p>\n",
       "</div>"
      ],
      "text/plain": [
       "                                                    Data  Label  count\n",
       "0      মুগ্ধ হয়ে গেলাম মামু. আর তোমায় কি কমু. বলো তোম...      1     22\n",
       "1      এই কুত্তার বাচ্চাদের জন্য দেশটা আজ এমন অবস্তায়...      2     18\n",
       "2                              ভাই আপনার কথাই যাদু রয়েছে      1      5\n",
       "3                            উওরটা আমার অনেক ভাল লেগেছে       1      5\n",
       "4      আমার নিজের গাড়ী নিয়ে কি সাজেক যেতে পারবো না ?...      0     14\n",
       "...                                                  ...    ...    ...\n",
       "12570  বর্ডারে অনেক লেট হয়ে যাওয়াতে আমরা জিপে করে চলে...      1     20\n",
       "12571  আমার সোনার বাংলাতে এমন রক্ষক নামের ভক্ষকের কোন...      2     41\n",
       "12572  ওনারা এত হাইজিনিক ও এত সুন্দর পরিবেশে রান্না ক...      1     45\n",
       "12573  বাংলাদেশ আমরা পুলিশ চাই না এই ধরনে পুলিশ দরকার...      2     10\n",
       "12574         বসুন্ধরা শাখার হাজি বিরিয়ানি একবারেই ফালতু      2      6\n",
       "\n",
       "[12575 rows x 3 columns]"
      ]
     },
     "execution_count": 165,
     "metadata": {},
     "output_type": "execute_result"
    }
   ],
   "source": [
    "df_train"
   ]
  },
  {
   "cell_type": "code",
   "execution_count": 166,
   "metadata": {
    "execution": {
     "iopub.execute_input": "2021-10-19T19:23:40.701153Z",
     "iopub.status.busy": "2021-10-19T19:23:40.700719Z",
     "iopub.status.idle": "2021-10-19T19:23:40.773725Z",
     "shell.execute_reply": "2021-10-19T19:23:40.772807Z",
     "shell.execute_reply.started": "2021-10-19T19:23:40.701116Z"
    }
   },
   "outputs": [
    {
     "data": {
      "text/html": [
       "<div>\n",
       "<style scoped>\n",
       "    .dataframe tbody tr th:only-of-type {\n",
       "        vertical-align: middle;\n",
       "    }\n",
       "\n",
       "    .dataframe tbody tr th {\n",
       "        vertical-align: top;\n",
       "    }\n",
       "\n",
       "    .dataframe thead th {\n",
       "        text-align: right;\n",
       "    }\n",
       "</style>\n",
       "<table border=\"1\" class=\"dataframe\">\n",
       "  <thead>\n",
       "    <tr style=\"text-align: right;\">\n",
       "      <th></th>\n",
       "      <th>Data</th>\n",
       "      <th>Label</th>\n",
       "      <th>count</th>\n",
       "    </tr>\n",
       "  </thead>\n",
       "  <tbody>\n",
       "    <tr>\n",
       "      <th>0</th>\n",
       "      <td>স্বাস্থ্যবান হতে চাই , আমি বয়সের তুলনায় অনেক ব...</td>\n",
       "      <td>0</td>\n",
       "      <td>14</td>\n",
       "    </tr>\n",
       "    <tr>\n",
       "      <th>1</th>\n",
       "      <td>ভাইয়া নতুন ভিডিও আসে না কেন</td>\n",
       "      <td>0</td>\n",
       "      <td>6</td>\n",
       "    </tr>\n",
       "    <tr>\n",
       "      <th>2</th>\n",
       "      <td>সৌরভ গাঙ্গুলী ছাড়া দাদাগিরি কখনো জমে উঠত না</td>\n",
       "      <td>0</td>\n",
       "      <td>8</td>\n",
       "    </tr>\n",
       "    <tr>\n",
       "      <th>3</th>\n",
       "      <td>ক্রিকেট কে বাচাতে হলে পাপকে অতিশিগ্রিই তাকেও গ...</td>\n",
       "      <td>2</td>\n",
       "      <td>20</td>\n",
       "    </tr>\n",
       "    <tr>\n",
       "      <th>4</th>\n",
       "      <td>আমিতো সেই ঝালপ্রিয়ো মানুষ</td>\n",
       "      <td>1</td>\n",
       "      <td>4</td>\n",
       "    </tr>\n",
       "    <tr>\n",
       "      <th>...</th>\n",
       "      <td>...</td>\n",
       "      <td>...</td>\n",
       "      <td>...</td>\n",
       "    </tr>\n",
       "    <tr>\n",
       "      <th>1581</th>\n",
       "      <td>ঐ পুলিশ কুওারবাচচাদের গুলিকরে মেরে ফেলা উচিত</td>\n",
       "      <td>2</td>\n",
       "      <td>7</td>\n",
       "    </tr>\n",
       "    <tr>\n",
       "      <th>1582</th>\n",
       "      <td>খিচুড়ি পর্ব মারাত্মক । বাকি টা দেখি তারপর কমেন্ট</td>\n",
       "      <td>1</td>\n",
       "      <td>9</td>\n",
       "    </tr>\n",
       "    <tr>\n",
       "      <th>1583</th>\n",
       "      <td>পাশের ফ্রেন্ডটা কি ছেলে না মেয়ে</td>\n",
       "      <td>2</td>\n",
       "      <td>6</td>\n",
       "    </tr>\n",
       "    <tr>\n",
       "      <th>1584</th>\n",
       "      <td>মদ লকমান না খেলেও আমরা খাই এমনটাই মনে হচ্ছে</td>\n",
       "      <td>2</td>\n",
       "      <td>9</td>\n",
       "    </tr>\n",
       "    <tr>\n",
       "      <th>1585</th>\n",
       "      <td>এইসমস্ত হায়েনা দের কোনো জেল না দিয়ে ফাঁসি দিয়ে...</td>\n",
       "      <td>2</td>\n",
       "      <td>14</td>\n",
       "    </tr>\n",
       "  </tbody>\n",
       "</table>\n",
       "<p>3172 rows × 3 columns</p>\n",
       "</div>"
      ],
      "text/plain": [
       "                                                   Data  Label  count\n",
       "0     স্বাস্থ্যবান হতে চাই , আমি বয়সের তুলনায় অনেক ব...      0     14\n",
       "1                           ভাইয়া নতুন ভিডিও আসে না কেন      0      6\n",
       "2           সৌরভ গাঙ্গুলী ছাড়া দাদাগিরি কখনো জমে উঠত না      0      8\n",
       "3     ক্রিকেট কে বাচাতে হলে পাপকে অতিশিগ্রিই তাকেও গ...      2     20\n",
       "4                             আমিতো সেই ঝালপ্রিয়ো মানুষ      1      4\n",
       "...                                                 ...    ...    ...\n",
       "1581       ঐ পুলিশ কুওারবাচচাদের গুলিকরে মেরে ফেলা উচিত      2      7\n",
       "1582   খিচুড়ি পর্ব মারাত্মক । বাকি টা দেখি তারপর কমেন্ট      1      9\n",
       "1583                   পাশের ফ্রেন্ডটা কি ছেলে না মেয়ে       2      6\n",
       "1584        মদ লকমান না খেলেও আমরা খাই এমনটাই মনে হচ্ছে      2      9\n",
       "1585  এইসমস্ত হায়েনা দের কোনো জেল না দিয়ে ফাঁসি দিয়ে...      2     14\n",
       "\n",
       "[3172 rows x 3 columns]"
      ]
     },
     "metadata": {},
     "output_type": "display_data"
    },
    {
     "name": "stdout",
     "output_type": "stream",
     "text": [
      "<class 'pandas.core.frame.DataFrame'>\n",
      "Int64Index: 3172 entries, 0 to 1585\n",
      "Data columns (total 3 columns):\n",
      " #   Column  Non-Null Count  Dtype \n",
      "---  ------  --------------  ----- \n",
      " 0   Data    3172 non-null   object\n",
      " 1   Label   3172 non-null   int64 \n",
      " 2   count   3172 non-null   int64 \n",
      "dtypes: int64(2), object(1)\n",
      "memory usage: 99.1+ KB\n"
     ]
    }
   ],
   "source": [
    "display(df_test)\n",
    "df_test.head()\n",
    "df_test.describe()\n",
    "df_test.info()"
   ]
  },
  {
   "cell_type": "markdown",
   "metadata": {},
   "source": [
    "# **Stopwords Removal**"
   ]
  },
  {
   "cell_type": "code",
   "execution_count": 167,
   "metadata": {
    "execution": {
     "iopub.execute_input": "2021-10-19T19:23:40.775678Z",
     "iopub.status.busy": "2021-10-19T19:23:40.775156Z",
     "iopub.status.idle": "2021-10-19T19:23:40.782590Z",
     "shell.execute_reply": "2021-10-19T19:23:40.781758Z",
     "shell.execute_reply.started": "2021-10-19T19:23:40.775581Z"
    }
   },
   "outputs": [],
   "source": [
    "def stopwordRemoval(text):    \n",
    "    x=str(text)\n",
    "    l=x.split()\n",
    "\n",
    "    stm=[elem for elem in l if elem not in stop]\n",
    "    \n",
    "    out=' '.join(stm)\n",
    "    \n",
    "    return str(out)"
   ]
  },
  {
   "cell_type": "code",
   "execution_count": 168,
   "metadata": {
    "execution": {
     "iopub.execute_input": "2021-10-19T19:23:40.784724Z",
     "iopub.status.busy": "2021-10-19T19:23:40.784252Z",
     "iopub.status.idle": "2021-10-19T19:23:41.368489Z",
     "shell.execute_reply": "2021-10-19T19:23:41.367698Z",
     "shell.execute_reply.started": "2021-10-19T19:23:40.784687Z"
    }
   },
   "outputs": [],
   "source": [
    "# data1 =pd.read_excel('/kaggle/input/bangla-stopwords/stopwords_bangla.xlsx')\n",
    "# display(data1)\n",
    "# stop = data1['words'].tolist()"
   ]
  },
  {
   "cell_type": "code",
   "execution_count": 169,
   "metadata": {
    "execution": {
     "iopub.execute_input": "2021-10-19T19:23:41.369919Z",
     "iopub.status.busy": "2021-10-19T19:23:41.369643Z",
     "iopub.status.idle": "2021-10-19T19:23:41.373906Z",
     "shell.execute_reply": "2021-10-19T19:23:41.373204Z",
     "shell.execute_reply.started": "2021-10-19T19:23:41.369882Z"
    }
   },
   "outputs": [],
   "source": [
    "#df_train['cleanText'] = df_train.cleanText.apply(lambda x: stopwordRemoval(str(x)))\n"
   ]
  },
  {
   "cell_type": "code",
   "execution_count": 170,
   "metadata": {
    "execution": {
     "iopub.execute_input": "2021-10-19T19:23:41.377796Z",
     "iopub.status.busy": "2021-10-19T19:23:41.376877Z",
     "iopub.status.idle": "2021-10-19T19:23:41.385092Z",
     "shell.execute_reply": "2021-10-19T19:23:41.384378Z",
     "shell.execute_reply.started": "2021-10-19T19:23:41.377752Z"
    }
   },
   "outputs": [],
   "source": [
    "#df_test['cleanText'] = df_test.cleanText.apply(lambda x: stopwordRemoval(str(x)))"
   ]
  },
  {
   "cell_type": "markdown",
   "metadata": {},
   "source": [
    "# **Stemming**"
   ]
  },
  {
   "cell_type": "code",
   "execution_count": 171,
   "metadata": {
    "execution": {
     "iopub.execute_input": "2021-10-19T19:23:41.387043Z",
     "iopub.status.busy": "2021-10-19T19:23:41.386516Z",
     "iopub.status.idle": "2021-10-19T19:23:48.463373Z",
     "shell.execute_reply": "2021-10-19T19:23:48.462385Z",
     "shell.execute_reply.started": "2021-10-19T19:23:41.387007Z"
    }
   },
   "outputs": [
    {
     "name": "stdout",
     "output_type": "stream",
     "text": [
      "Defaulting to user installation because normal site-packages is not writeable\n",
      "Requirement already satisfied: bangla-stemmer in /home/ubuntu/.local/lib/python3.8/site-packages (1.0)\n",
      "\u001b[33mWARNING: You are using pip version 21.3.1; however, version 22.0.4 is available.\n",
      "You should consider upgrading via the '/usr/bin/python3 -m pip install --upgrade pip' command.\u001b[0m\n"
     ]
    }
   ],
   "source": [
    "#make sure to turn on internet on your kernel\n",
    "#importing stemmer\n",
    "!pip install bangla-stemmer\n",
    "from bangla_stemmer.stemmer import stemmer\n",
    "## stemmer function\n",
    "def stem_text (x):\n",
    "  stmr = stemmer.BanglaStemmer()\n",
    "  words=x.split(' ')\n",
    "  stm = stmr.stem(words)\n",
    "  words=(' ').join(stm)\n",
    "  return words"
   ]
  },
  {
   "cell_type": "code",
   "execution_count": 172,
   "metadata": {
    "execution": {
     "iopub.execute_input": "2021-10-19T19:23:48.465760Z",
     "iopub.status.busy": "2021-10-19T19:23:48.465179Z",
     "iopub.status.idle": "2021-10-19T19:23:48.470276Z",
     "shell.execute_reply": "2021-10-19T19:23:48.469505Z",
     "shell.execute_reply.started": "2021-10-19T19:23:48.465712Z"
    }
   },
   "outputs": [],
   "source": [
    "#df_train['cleanText']=df_train['cleanText'].apply(stem_text)\n",
    "#df_test['cleanText']=df_test['cleanText'].apply(stem_text)"
   ]
  },
  {
   "cell_type": "markdown",
   "metadata": {},
   "source": [
    "# **Changing Labels to Numbers**"
   ]
  },
  {
   "cell_type": "code",
   "execution_count": 173,
   "metadata": {
    "execution": {
     "iopub.execute_input": "2021-10-19T19:23:48.472256Z",
     "iopub.status.busy": "2021-10-19T19:23:48.471802Z",
     "iopub.status.idle": "2021-10-19T19:23:48.585223Z",
     "shell.execute_reply": "2021-10-19T19:23:48.583848Z",
     "shell.execute_reply.started": "2021-10-19T19:23:48.472219Z"
    }
   },
   "outputs": [],
   "source": [
    "# #['economy' 'sports' 'international' 'state' 'technology' 'entertainment' 'education']\n",
    "\n",
    "# df_train[\"category\"].replace({\"economy\": \"0\", \"sports\": \"1\",\"international\": \"2\",\"state\": \"3\",\"technology\": \"4\",\"entertainment\": \"5\",\"education\": \"6\"}, inplace=True)\n",
    "# df_test[\"category\"].replace({\"economy\": \"0\", \"sports\": \"1\",\"international\": \"2\",\"state\": \"3\",\"technology\": \"4\",\"entertainment\": \"5\",\"education\": \"6\"}, inplace=True)\n",
    "# display(df_train)\n",
    "# display(df_test)"
   ]
  },
  {
   "cell_type": "markdown",
   "metadata": {},
   "source": [
    "# **Removing Null values**"
   ]
  },
  {
   "cell_type": "code",
   "execution_count": 174,
   "metadata": {
    "execution": {
     "iopub.execute_input": "2021-10-19T19:23:48.586726Z",
     "iopub.status.busy": "2021-10-19T19:23:48.586473Z",
     "iopub.status.idle": "2021-10-19T19:23:49.000531Z",
     "shell.execute_reply": "2021-10-19T19:23:48.999805Z",
     "shell.execute_reply.started": "2021-10-19T19:23:48.586694Z"
    }
   },
   "outputs": [],
   "source": [
    "#display non-null values\n",
    "df_train = df_train.dropna()\n",
    "df_test = df_test.dropna()"
   ]
  },
  {
   "cell_type": "markdown",
   "metadata": {},
   "source": [
    "# **Removing Small Texts**"
   ]
  },
  {
   "cell_type": "code",
   "execution_count": 175,
   "metadata": {
    "execution": {
     "iopub.execute_input": "2021-10-19T19:23:49.002181Z",
     "iopub.status.busy": "2021-10-19T19:23:49.001940Z",
     "iopub.status.idle": "2021-10-19T19:23:57.207701Z",
     "shell.execute_reply": "2021-10-19T19:23:57.206885Z",
     "shell.execute_reply.started": "2021-10-19T19:23:49.002148Z"
    }
   },
   "outputs": [],
   "source": [
    "#counting text length\n",
    "df_train['count'] = df_train['Data'].str.split().str.len()\n",
    "df_test['count'] = df_test['Data'].str.split().str.len()\n",
    "# Remove the text with words less than 5\n",
    "df_train= df_train.loc[df_train['count']>10]\n",
    "df_test= df_test.loc[df_test['count']>10]"
   ]
  },
  {
   "cell_type": "markdown",
   "metadata": {},
   "source": [
    "# **Shuffle Dataset**"
   ]
  },
  {
   "cell_type": "code",
   "execution_count": 176,
   "metadata": {
    "execution": {
     "iopub.execute_input": "2021-10-19T19:23:57.209378Z",
     "iopub.status.busy": "2021-10-19T19:23:57.209131Z",
     "iopub.status.idle": "2021-10-19T19:23:57.260527Z",
     "shell.execute_reply": "2021-10-19T19:23:57.259748Z",
     "shell.execute_reply.started": "2021-10-19T19:23:57.209335Z"
    }
   },
   "outputs": [
    {
     "data": {
      "text/html": [
       "<div>\n",
       "<style scoped>\n",
       "    .dataframe tbody tr th:only-of-type {\n",
       "        vertical-align: middle;\n",
       "    }\n",
       "\n",
       "    .dataframe tbody tr th {\n",
       "        vertical-align: top;\n",
       "    }\n",
       "\n",
       "    .dataframe thead th {\n",
       "        text-align: right;\n",
       "    }\n",
       "</style>\n",
       "<table border=\"1\" class=\"dataframe\">\n",
       "  <thead>\n",
       "    <tr style=\"text-align: right;\">\n",
       "      <th></th>\n",
       "      <th>Data</th>\n",
       "      <th>Label</th>\n",
       "      <th>count</th>\n",
       "    </tr>\n",
       "  </thead>\n",
       "  <tbody>\n",
       "    <tr>\n",
       "      <th>0</th>\n",
       "      <td>দোয়া করি ভাই তুই আরো সামনের দিকে এগিয়ে যাও অ...</td>\n",
       "      <td>1</td>\n",
       "      <td>13</td>\n",
       "    </tr>\n",
       "    <tr>\n",
       "      <th>1</th>\n",
       "      <td>আল্লাহ্ তাআলার রহমতের বেঁচে গেলো দুইটি প্রাণ ,...</td>\n",
       "      <td>1</td>\n",
       "      <td>20</td>\n",
       "    </tr>\n",
       "    <tr>\n",
       "      <th>2</th>\n",
       "      <td>কমেন্ট বক্সে অনেকই আবেগে আপ্লুত আমাদের দেশে ক্...</td>\n",
       "      <td>2</td>\n",
       "      <td>12</td>\n",
       "    </tr>\n",
       "    <tr>\n",
       "      <th>3</th>\n",
       "      <td>360° এর অনুসন্ধানের মাধ্যমে তদন্ত করে ওনার টাক...</td>\n",
       "      <td>0</td>\n",
       "      <td>26</td>\n",
       "    </tr>\n",
       "    <tr>\n",
       "      <th>4</th>\n",
       "      <td>এরকম হাজারো আওয়ামী লীগ কর্মী আছেন , দেশের আনাচ...</td>\n",
       "      <td>2</td>\n",
       "      <td>19</td>\n",
       "    </tr>\n",
       "    <tr>\n",
       "      <th>...</th>\n",
       "      <td>...</td>\n",
       "      <td>...</td>\n",
       "      <td>...</td>\n",
       "    </tr>\n",
       "    <tr>\n",
       "      <th>7422</th>\n",
       "      <td>তখন কি তিনি এমপি সাহেব দেশের সেবায় মনোযোগ দিবে...</td>\n",
       "      <td>2</td>\n",
       "      <td>16</td>\n",
       "    </tr>\n",
       "    <tr>\n",
       "      <th>7423</th>\n",
       "      <td>এটা এখন বাংলাদেশের প্রতিটা বিশ্ববিদ্যালয় গুলোত...</td>\n",
       "      <td>0</td>\n",
       "      <td>15</td>\n",
       "    </tr>\n",
       "    <tr>\n",
       "      <th>7424</th>\n",
       "      <td>সরকার ঘরে ঘরে বিদ্যুৎ সেবা পৌঁছে দিতে চাইছে যদ...</td>\n",
       "      <td>2</td>\n",
       "      <td>19</td>\n",
       "    </tr>\n",
       "    <tr>\n",
       "      <th>7425</th>\n",
       "      <td>আপনি যেন আমাদের মাঝে চিরজীবন বেঁচে থাকেন ; দোয়...</td>\n",
       "      <td>1</td>\n",
       "      <td>12</td>\n",
       "    </tr>\n",
       "    <tr>\n",
       "      <th>7426</th>\n",
       "      <td>আপনার কেমেরা মেন কে কি কিছু খাওয়ান না ? খুব জা...</td>\n",
       "      <td>0</td>\n",
       "      <td>13</td>\n",
       "    </tr>\n",
       "  </tbody>\n",
       "</table>\n",
       "<p>7427 rows × 3 columns</p>\n",
       "</div>"
      ],
      "text/plain": [
       "                                                   Data  Label  count\n",
       "0     দোয়া করি ভাই তুই আরো সামনের দিকে এগিয়ে যাও অ...      1     13\n",
       "1     আল্লাহ্ তাআলার রহমতের বেঁচে গেলো দুইটি প্রাণ ,...      1     20\n",
       "2     কমেন্ট বক্সে অনেকই আবেগে আপ্লুত আমাদের দেশে ক্...      2     12\n",
       "3     360° এর অনুসন্ধানের মাধ্যমে তদন্ত করে ওনার টাক...      0     26\n",
       "4     এরকম হাজারো আওয়ামী লীগ কর্মী আছেন , দেশের আনাচ...      2     19\n",
       "...                                                 ...    ...    ...\n",
       "7422  তখন কি তিনি এমপি সাহেব দেশের সেবায় মনোযোগ দিবে...      2     16\n",
       "7423  এটা এখন বাংলাদেশের প্রতিটা বিশ্ববিদ্যালয় গুলোত...      0     15\n",
       "7424  সরকার ঘরে ঘরে বিদ্যুৎ সেবা পৌঁছে দিতে চাইছে যদ...      2     19\n",
       "7425  আপনি যেন আমাদের মাঝে চিরজীবন বেঁচে থাকেন ; দোয়...      1     12\n",
       "7426  আপনার কেমেরা মেন কে কি কিছু খাওয়ান না ? খুব জা...      0     13\n",
       "\n",
       "[7427 rows x 3 columns]"
      ]
     },
     "metadata": {},
     "output_type": "display_data"
    },
    {
     "data": {
      "text/html": [
       "<div>\n",
       "<style scoped>\n",
       "    .dataframe tbody tr th:only-of-type {\n",
       "        vertical-align: middle;\n",
       "    }\n",
       "\n",
       "    .dataframe tbody tr th {\n",
       "        vertical-align: top;\n",
       "    }\n",
       "\n",
       "    .dataframe thead th {\n",
       "        text-align: right;\n",
       "    }\n",
       "</style>\n",
       "<table border=\"1\" class=\"dataframe\">\n",
       "  <thead>\n",
       "    <tr style=\"text-align: right;\">\n",
       "      <th></th>\n",
       "      <th>Data</th>\n",
       "      <th>Label</th>\n",
       "      <th>count</th>\n",
       "    </tr>\n",
       "  </thead>\n",
       "  <tbody>\n",
       "    <tr>\n",
       "      <th>0</th>\n",
       "      <td>স্বাস্থ্যবান হতে চাই , আমি বয়সের তুলনায় অনেক ব...</td>\n",
       "      <td>0</td>\n",
       "      <td>14</td>\n",
       "    </tr>\n",
       "    <tr>\n",
       "      <th>3</th>\n",
       "      <td>ক্রিকেট কে বাচাতে হলে পাপকে অতিশিগ্রিই তাকেও গ...</td>\n",
       "      <td>2</td>\n",
       "      <td>20</td>\n",
       "    </tr>\n",
       "    <tr>\n",
       "      <th>5</th>\n",
       "      <td>টেকনিশিয়ান রা খাবার খাইয়ে আবার হজম করিয়ে দিবে ...</td>\n",
       "      <td>2</td>\n",
       "      <td>11</td>\n",
       "    </tr>\n",
       "    <tr>\n",
       "      <th>6</th>\n",
       "      <td>অন্য সব ইউনিভার্সিটিতে এর চেয়ে ভয়াবহ অবস্থা । ...</td>\n",
       "      <td>2</td>\n",
       "      <td>16</td>\n",
       "    </tr>\n",
       "    <tr>\n",
       "      <th>8</th>\n",
       "      <td>এই সব কিছু হবে কেন কেন এরকম অত্যাচার আমি মনে ক...</td>\n",
       "      <td>2</td>\n",
       "      <td>14</td>\n",
       "    </tr>\n",
       "    <tr>\n",
       "      <th>...</th>\n",
       "      <td>...</td>\n",
       "      <td>...</td>\n",
       "      <td>...</td>\n",
       "    </tr>\n",
       "    <tr>\n",
       "      <th>1574</th>\n",
       "      <td>ও দাদা এতো খেলে তো ডায়াবেটিস হয়ে যাবে , একটু ক...</td>\n",
       "      <td>2</td>\n",
       "      <td>14</td>\n",
       "    </tr>\n",
       "    <tr>\n",
       "      <th>1577</th>\n",
       "      <td>অনান্য দেশ গুলোতে পুলিশ দেখলে আস্থালাভ হয় যে ব...</td>\n",
       "      <td>2</td>\n",
       "      <td>33</td>\n",
       "    </tr>\n",
       "    <tr>\n",
       "      <th>1578</th>\n",
       "      <td>আমার একটা প্রশ্ন এতো কম সময়ে এতো ওজন কমা এবং ব...</td>\n",
       "      <td>0</td>\n",
       "      <td>17</td>\n",
       "    </tr>\n",
       "    <tr>\n",
       "      <th>1580</th>\n",
       "      <td>সোনার মাসুদ রাণা । বিচারকের মারে চুদি । খানকির...</td>\n",
       "      <td>2</td>\n",
       "      <td>35</td>\n",
       "    </tr>\n",
       "    <tr>\n",
       "      <th>1585</th>\n",
       "      <td>এইসমস্ত হায়েনা দের কোনো জেল না দিয়ে ফাঁসি দিয়ে...</td>\n",
       "      <td>2</td>\n",
       "      <td>14</td>\n",
       "    </tr>\n",
       "  </tbody>\n",
       "</table>\n",
       "<p>1904 rows × 3 columns</p>\n",
       "</div>"
      ],
      "text/plain": [
       "                                                   Data  Label  count\n",
       "0     স্বাস্থ্যবান হতে চাই , আমি বয়সের তুলনায় অনেক ব...      0     14\n",
       "3     ক্রিকেট কে বাচাতে হলে পাপকে অতিশিগ্রিই তাকেও গ...      2     20\n",
       "5     টেকনিশিয়ান রা খাবার খাইয়ে আবার হজম করিয়ে দিবে ...      2     11\n",
       "6     অন্য সব ইউনিভার্সিটিতে এর চেয়ে ভয়াবহ অবস্থা । ...      2     16\n",
       "8     এই সব কিছু হবে কেন কেন এরকম অত্যাচার আমি মনে ক...      2     14\n",
       "...                                                 ...    ...    ...\n",
       "1574  ও দাদা এতো খেলে তো ডায়াবেটিস হয়ে যাবে , একটু ক...      2     14\n",
       "1577  অনান্য দেশ গুলোতে পুলিশ দেখলে আস্থালাভ হয় যে ব...      2     33\n",
       "1578  আমার একটা প্রশ্ন এতো কম সময়ে এতো ওজন কমা এবং ব...      0     17\n",
       "1580  সোনার মাসুদ রাণা । বিচারকের মারে চুদি । খানকির...      2     35\n",
       "1585  এইসমস্ত হায়েনা দের কোনো জেল না দিয়ে ফাঁসি দিয়ে...      2     14\n",
       "\n",
       "[1904 rows x 3 columns]"
      ]
     },
     "metadata": {},
     "output_type": "display_data"
    }
   ],
   "source": [
    "df_train = df_train.sample(frac=1).reset_index(drop=True)\n",
    "display(df_train)\n",
    "display(df_test)"
   ]
  },
  {
   "cell_type": "code",
   "execution_count": 177,
   "metadata": {
    "execution": {
     "iopub.execute_input": "2021-10-19T19:23:57.262650Z",
     "iopub.status.busy": "2021-10-19T19:23:57.261824Z",
     "iopub.status.idle": "2021-10-19T19:23:57.486024Z",
     "shell.execute_reply": "2021-10-19T19:23:57.485178Z",
     "shell.execute_reply.started": "2021-10-19T19:23:57.262610Z"
    }
   },
   "outputs": [],
   "source": [
    "train_sentences=df_train['Data'].values\n",
    "train_labels=df_train['Label'].values"
   ]
  },
  {
   "cell_type": "code",
   "execution_count": 178,
   "metadata": {
    "execution": {
     "iopub.execute_input": "2021-10-19T19:23:57.577329Z",
     "iopub.status.busy": "2021-10-19T19:23:57.577102Z",
     "iopub.status.idle": "2021-10-19T19:23:57.677556Z",
     "shell.execute_reply": "2021-10-19T19:23:57.676536Z",
     "shell.execute_reply.started": "2021-10-19T19:23:57.577301Z"
    }
   },
   "outputs": [],
   "source": [
    "test_sentences=df_test['Data'].values\n",
    "test_labels=df_test['Label'].values"
   ]
  },
  {
   "cell_type": "code",
   "execution_count": 179,
   "metadata": {
    "execution": {
     "iopub.execute_input": "2021-10-19T19:23:57.688988Z",
     "iopub.status.busy": "2021-10-19T19:23:57.687269Z",
     "iopub.status.idle": "2021-10-19T19:23:57.726535Z",
     "shell.execute_reply": "2021-10-19T19:23:57.725827Z",
     "shell.execute_reply.started": "2021-10-19T19:23:57.688947Z"
    }
   },
   "outputs": [
    {
     "name": "stdout",
     "output_type": "stream",
     "text": [
      "Training Set Length: 7427\n",
      "Testing Set Length: 1904\n",
      "train_labels shape: (7427,)\n",
      "test_labels shape: (1904,)\n"
     ]
    }
   ],
   "source": [
    "print(\"Training Set Length: \"+str(len(df_train)))\n",
    "print(\"Testing Set Length: \"+str(len(df_test)))\n",
    "print(\"train_labels shape: \"+str(train_labels.shape))\n",
    "print(\"test_labels shape: \"+str(test_labels.shape))"
   ]
  },
  {
   "cell_type": "markdown",
   "metadata": {},
   "source": [
    "# **Train/Test/Validation Set**\n",
    "**This dataset contains two csv files. One is Train set and another is Test set.IN EDA,we have seen that train and test set is equal sized and distribution of class is identical to both of the test and train set.\n",
    "I have used full train set for training and used 20% of the data from testset for validation set and 80% for testing\n",
    "The validation set and the Test set is partitioned into stratified fashion to keep the distribution of class intact.**"
   ]
  },
  {
   "cell_type": "code",
   "execution_count": 180,
   "metadata": {
    "execution": {
     "iopub.execute_input": "2021-10-19T19:23:57.728388Z",
     "iopub.status.busy": "2021-10-19T19:23:57.727755Z",
     "iopub.status.idle": "2021-10-19T19:23:57.899760Z",
     "shell.execute_reply": "2021-10-19T19:23:57.899041Z",
     "shell.execute_reply.started": "2021-10-19T19:23:57.728341Z"
    }
   },
   "outputs": [],
   "source": [
    "from sklearn.model_selection import train_test_split\n",
    "test_sentences, validation_sentences,test_labels, validation_labels = train_test_split(test_sentences, test_labels,stratify=test_labels,test_size=0.2)\n",
    "\n",
    "\n",
    "# test_sentences=test_sentences[:1586]\n",
    "# test_labels=test_labels[:1586]\n",
    "# validation_sentences=test_sentences[1586:]\n",
    "# validation_labels=test_labels[1586:]"
   ]
  },
  {
   "cell_type": "code",
   "execution_count": 181,
   "metadata": {
    "execution": {
     "iopub.execute_input": "2021-10-19T19:23:57.951024Z",
     "iopub.status.busy": "2021-10-19T19:23:57.950802Z",
     "iopub.status.idle": "2021-10-19T19:23:58.481231Z",
     "shell.execute_reply": "2021-10-19T19:23:58.480517Z",
     "shell.execute_reply.started": "2021-10-19T19:23:57.950999Z"
    }
   },
   "outputs": [
    {
     "name": "stdout",
     "output_type": "stream",
     "text": [
      "Training Set Length: 7427\n",
      "Testing Set Length: 1904\n",
      "training_sentences shape: (7427,)\n",
      "testing_sentences shape: (1523,)\n",
      "validation_sentences shape: (381,)\n",
      "train_labels shape: (7427, 3)\n",
      "test_labels shape: (1523, 3)\n",
      "validation_labels shape: (381, 3)\n"
     ]
    }
   ],
   "source": [
    "train_labels=keras.utils.to_categorical(train_labels)\n",
    "test_labels=keras.utils.to_categorical(test_labels)\n",
    "validation_labels=keras.utils.to_categorical(validation_labels)\n",
    "\n",
    "\n",
    "print(\"Training Set Length: \"+str(len(df_train)))\n",
    "print(\"Testing Set Length: \"+str(len(df_test)))\n",
    "print(\"training_sentences shape: \"+str(train_sentences.shape))\n",
    "print(\"testing_sentences shape: \"+str(test_sentences.shape))\n",
    "print(\"validation_sentences shape: \"+str(validation_sentences.shape))\n",
    "print(\"train_labels shape: \"+str(train_labels.shape))\n",
    "print(\"test_labels shape: \"+str(test_labels.shape))\n",
    "print(\"validation_labels shape: \"+str(validation_labels.shape))"
   ]
  },
  {
   "cell_type": "code",
   "execution_count": 182,
   "metadata": {
    "execution": {
     "iopub.execute_input": "2021-10-19T19:23:58.482899Z",
     "iopub.status.busy": "2021-10-19T19:23:58.482634Z",
     "iopub.status.idle": "2021-10-19T19:23:58.488275Z",
     "shell.execute_reply": "2021-10-19T19:23:58.487445Z",
     "shell.execute_reply.started": "2021-10-19T19:23:58.482864Z"
    }
   },
   "outputs": [
    {
     "name": "stdout",
     "output_type": "stream",
     "text": [
      "আল্লাহ্ তাআলার রহমতের বেঁচে গেলো দুইটি প্রাণ , রাখে আল্লাহ্ মারে কে , হে আল্লাহ্ তুমি সবাইকে রক্ষা করুন আমিন \n",
      "[0. 1. 0.]\n"
     ]
    }
   ],
   "source": [
    "print(train_sentences[1])\n",
    "print(train_labels[0])"
   ]
  },
  {
   "cell_type": "code",
   "execution_count": 183,
   "metadata": {
    "execution": {
     "iopub.execute_input": "2021-10-19T19:23:58.490194Z",
     "iopub.status.busy": "2021-10-19T19:23:58.489659Z",
     "iopub.status.idle": "2021-10-19T19:23:58.497696Z",
     "shell.execute_reply": "2021-10-19T19:23:58.497007Z",
     "shell.execute_reply.started": "2021-10-19T19:23:58.490158Z"
    }
   },
   "outputs": [],
   "source": [
    "vocab_size = 100000\n",
    "embedding_dim = 64\n",
    "max_length = 200\n",
    "trunc_type='post'\n",
    "oov_tok = \"<OOV>\""
   ]
  },
  {
   "cell_type": "markdown",
   "metadata": {},
   "source": [
    "# **Tokenization**"
   ]
  },
  {
   "cell_type": "code",
   "execution_count": 184,
   "metadata": {
    "execution": {
     "iopub.execute_input": "2021-10-19T19:23:58.499497Z",
     "iopub.status.busy": "2021-10-19T19:23:58.499026Z",
     "iopub.status.idle": "2021-10-19T19:25:49.392282Z",
     "shell.execute_reply": "2021-10-19T19:25:49.391504Z",
     "shell.execute_reply.started": "2021-10-19T19:23:58.499459Z"
    }
   },
   "outputs": [
    {
     "name": "stdout",
     "output_type": "stream",
     "text": [
      "(7427,)\n",
      "(7427, 3)\n",
      "19989\n",
      "Word index length:19989\n"
     ]
    }
   ],
   "source": [
    "vocab_size = 100000\n",
    "embedding_dim = 64\n",
    "max_length = 200\n",
    "trunc_type='post'\n",
    "oov_tok = \"<OOV>\"\n",
    "\n",
    "\n",
    "print(train_sentences.shape)\n",
    "print(train_labels.shape)\n",
    "\n",
    "tokenizer = Tokenizer(num_words = vocab_size, oov_token=oov_tok)\n",
    "tokenizer.fit_on_texts(train_sentences)\n",
    "word_index = tokenizer.word_index\n",
    "\n",
    "#464246 words in raw dataset\n",
    "#463651 words in raw dataset after stopwords removal\n",
    "#***** after stemming \n",
    "\n",
    "print(len(word_index))\n",
    "print(\"Word index length:\"+str(len(tokenizer.word_index)))\n",
    "sequences = tokenizer.texts_to_sequences(train_sentences)\n",
    "padded = pad_sequences(sequences,maxlen=max_length, truncating=trunc_type)\n",
    "\n",
    "\n",
    "test_sequences = tokenizer.texts_to_sequences(test_sentences)\n",
    "testing_padded = pad_sequences(test_sequences,maxlen=max_length)\n",
    "\n",
    "validation_sequences = tokenizer.texts_to_sequences(validation_sentences)\n",
    "validation_padded = pad_sequences(validation_sequences,maxlen=max_length)"
   ]
  },
  {
   "cell_type": "markdown",
   "metadata": {},
   "source": [
    "# **After Tokenization Data visualization**"
   ]
  },
  {
   "cell_type": "code",
   "execution_count": 185,
   "metadata": {
    "execution": {
     "iopub.execute_input": "2021-10-19T19:25:49.394040Z",
     "iopub.status.busy": "2021-10-19T19:25:49.393765Z",
     "iopub.status.idle": "2021-10-19T19:25:49.403716Z",
     "shell.execute_reply": "2021-10-19T19:25:49.402806Z",
     "shell.execute_reply.started": "2021-10-19T19:25:49.394005Z"
    }
   },
   "outputs": [
    {
     "name": "stdout",
     "output_type": "stream",
     "text": [
      "Sentence :--> \n",
      "\n",
      "কমেন্ট বক্সে অনেকই আবেগে আপ্লুত আমাদের দেশে ক্রিকেটে রাজনীতি আছে ভারতে নেই\n",
      "\n",
      "Sentence Tokenized and Converted into Sequence :--> \n",
      "\n",
      "[267, 2343, 5888, 5889, 4449, 30, 87, 4450, 240, 27, 802, 100]\n",
      "\n",
      "After Padding the Sequence with padding length 100 :--> \n",
      "\n",
      "[   0    0    0    0    0    0    0    0    0    0    0    0    0    0\n",
      "    0    0    0    0    0    0    0    0    0    0    0    0    0    0\n",
      "    0    0    0    0    0    0    0    0    0    0    0    0    0    0\n",
      "    0    0    0    0    0    0    0    0    0    0    0    0    0    0\n",
      "    0    0    0    0    0    0    0    0    0    0    0    0    0    0\n",
      "    0    0    0    0    0    0    0    0    0    0    0    0    0    0\n",
      "    0    0    0    0    0    0    0    0    0    0    0    0    0    0\n",
      "    0    0    0    0    0    0    0    0    0    0    0    0    0    0\n",
      "    0    0    0    0    0    0    0    0    0    0    0    0    0    0\n",
      "    0    0    0    0    0    0    0    0    0    0    0    0    0    0\n",
      "    0    0    0    0    0    0    0    0    0    0    0    0    0    0\n",
      "    0    0    0    0    0    0    0    0    0    0    0    0    0    0\n",
      "    0    0    0    0    0    0    0    0    0    0    0    0    0    0\n",
      "    0    0    0    0    0    0  267 2343 5888 5889 4449   30   87 4450\n",
      "  240   27  802  100]\n"
     ]
    }
   ],
   "source": [
    "print(\"Sentence :--> \\n\")\n",
    "print(train_sentences[2]+\"\\n\")\n",
    "print(\"Sentence Tokenized and Converted into Sequence :--> \\n\")\n",
    "print(str(sequences[2])+\"\\n\")\n",
    "print(\"After Padding the Sequence with padding length 100 :--> \\n\")\n",
    "print(padded[2])"
   ]
  },
  {
   "cell_type": "code",
   "execution_count": 186,
   "metadata": {
    "execution": {
     "iopub.execute_input": "2021-10-19T19:25:49.405493Z",
     "iopub.status.busy": "2021-10-19T19:25:49.405201Z",
     "iopub.status.idle": "2021-10-19T19:25:49.416356Z",
     "shell.execute_reply": "2021-10-19T19:25:49.415539Z",
     "shell.execute_reply.started": "2021-10-19T19:25:49.405441Z"
    }
   },
   "outputs": [
    {
     "name": "stdout",
     "output_type": "stream",
     "text": [
      "Padded shape(training): (7427, 200)\n",
      "Padded shape(testing): (1523, 200)\n"
     ]
    }
   ],
   "source": [
    "print(\"Padded shape(training): \"+str(padded.shape))\n",
    "print(\"Padded shape(testing): \"+str(testing_padded.shape))"
   ]
  },
  {
   "cell_type": "markdown",
   "metadata": {},
   "source": [
    "# **Model Creation**"
   ]
  },
  {
   "cell_type": "markdown",
   "metadata": {},
   "source": [
    "**All hyperparameters are optimized**"
   ]
  },
  {
   "cell_type": "code",
   "execution_count": 187,
   "metadata": {
    "execution": {
     "iopub.execute_input": "2021-10-19T19:25:49.418039Z",
     "iopub.status.busy": "2021-10-19T19:25:49.417762Z",
     "iopub.status.idle": "2021-10-19T19:25:49.769446Z",
     "shell.execute_reply": "2021-10-19T19:25:49.768721Z",
     "shell.execute_reply.started": "2021-10-19T19:25:49.418005Z"
    }
   },
   "outputs": [],
   "source": [
    "from tensorflow.python.keras.optimizer_v2.adam import Adam\n",
    "\n",
    "model= Sequential()\n",
    "model.add(Embedding(vocab_size, embedding_dim, input_length=max_length))\n",
    "model.add(Bidirectional(LSTM(16, return_sequences=True)))\n",
    "#l2 regularizer\n",
    "model.add(Dense(16,kernel_regularizer=regularizers.l2(0.01),activation=\"relu\"))\n",
    "model.add(Flatten())\n",
    "model.add(Dense(3, activation='softmax'))\n",
    "#sgd= SGD(lr=0.0001,decay=1e-6,momentum=0.9,nesterov=True)\n",
    "\n"
   ]
  },
  {
   "cell_type": "code",
   "execution_count": 188,
   "metadata": {},
   "outputs": [],
   "source": [
    "adam=Adam(learning_rate=0.0005,beta_1=0.9,beta_2=0.999,epsilon=1e-07,amsgrad=False)\n",
    "#model.summary()\n",
    "#model.compile(loss='categorical_crossentropy',optimizer='adam',metrics=['accuracy'])\n",
    "model.compile(loss='binary_crossentropy', optimizer='adam', metrics=['accuracy'])\n"
   ]
  },
  {
   "cell_type": "code",
   "execution_count": 189,
   "metadata": {
    "execution": {
     "iopub.execute_input": "2021-10-19T19:25:49.773767Z",
     "iopub.status.busy": "2021-10-19T19:25:49.773561Z",
     "iopub.status.idle": "2021-10-19T19:38:41.445112Z",
     "shell.execute_reply": "2021-10-19T19:38:41.444357Z",
     "shell.execute_reply.started": "2021-10-19T19:25:49.773742Z"
    }
   },
   "outputs": [
    {
     "name": "stdout",
     "output_type": "stream",
     "text": [
      "Epoch 1/100\n",
      "15/15 [==============================] - 21s 773ms/step - loss: 0.8419 - accuracy: 0.4097 - val_loss: 0.8025 - val_accuracy: 0.4514\n",
      "Epoch 2/100\n",
      "15/15 [==============================] - 10s 695ms/step - loss: 0.7901 - accuracy: 0.4995 - val_loss: 0.7731 - val_accuracy: 0.4436\n",
      "Epoch 3/100\n",
      "15/15 [==============================] - 10s 694ms/step - loss: 0.7588 - accuracy: 0.5266 - val_loss: 0.7392 - val_accuracy: 0.6404\n",
      "Epoch 4/100\n",
      "15/15 [==============================] - 10s 680ms/step - loss: 0.6981 - accuracy: 0.6765 - val_loss: 0.6521 - val_accuracy: 0.6667\n",
      "Epoch 5/100\n",
      "15/15 [==============================] - 10s 683ms/step - loss: 0.5633 - accuracy: 0.7151 - val_loss: 0.5771 - val_accuracy: 0.6693\n",
      "Epoch 6/100\n",
      "15/15 [==============================] - 10s 657ms/step - loss: 0.4508 - accuracy: 0.7622 - val_loss: 0.5349 - val_accuracy: 0.6877\n",
      "Epoch 7/100\n",
      "15/15 [==============================] - 10s 683ms/step - loss: 0.3474 - accuracy: 0.8507 - val_loss: 0.5532 - val_accuracy: 0.7008\n",
      "Epoch 8/100\n",
      "15/15 [==============================] - 11s 702ms/step - loss: 0.2632 - accuracy: 0.9079 - val_loss: 0.5576 - val_accuracy: 0.7349\n",
      "Epoch 9/100\n",
      "15/15 [==============================] - 10s 693ms/step - loss: 0.2059 - accuracy: 0.9377 - val_loss: 0.5949 - val_accuracy: 0.7192\n",
      "Epoch 10/100\n",
      "15/15 [==============================] - 10s 661ms/step - loss: 0.1676 - accuracy: 0.9534 - val_loss: 0.6108 - val_accuracy: 0.7087\n",
      "Epoch 11/100\n",
      "15/15 [==============================] - 10s 681ms/step - loss: 0.1370 - accuracy: 0.9642 - val_loss: 0.6840 - val_accuracy: 0.7139\n",
      "Epoch 12/100\n",
      "15/15 [==============================] - 11s 706ms/step - loss: 0.1201 - accuracy: 0.9685 - val_loss: 0.7062 - val_accuracy: 0.7060\n",
      "Epoch 13/100\n",
      "15/15 [==============================] - 10s 693ms/step - loss: 0.1057 - accuracy: 0.9715 - val_loss: 0.6932 - val_accuracy: 0.7113\n",
      "Epoch 14/100\n",
      "15/15 [==============================] - 10s 654ms/step - loss: 0.0960 - accuracy: 0.9748 - val_loss: 0.7634 - val_accuracy: 0.6929\n",
      "Epoch 15/100\n",
      "15/15 [==============================] - 10s 696ms/step - loss: 0.0874 - accuracy: 0.9756 - val_loss: 0.7253 - val_accuracy: 0.6982\n",
      "Epoch 16/100\n",
      "15/15 [==============================] - 10s 695ms/step - loss: 0.0784 - accuracy: 0.9770 - val_loss: 0.7334 - val_accuracy: 0.7192\n",
      "Epoch 17/100\n",
      "15/15 [==============================] - 10s 685ms/step - loss: 0.0760 - accuracy: 0.9760 - val_loss: 0.7248 - val_accuracy: 0.7008\n",
      "Epoch 18/100\n",
      "15/15 [==============================] - 10s 691ms/step - loss: 0.0714 - accuracy: 0.9778 - val_loss: 0.7939 - val_accuracy: 0.6903\n",
      "Epoch 19/100\n",
      "15/15 [==============================] - 10s 666ms/step - loss: 0.0657 - accuracy: 0.9779 - val_loss: 0.7033 - val_accuracy: 0.7165\n",
      "Epoch 20/100\n",
      "15/15 [==============================] - 10s 693ms/step - loss: 0.0604 - accuracy: 0.9793 - val_loss: 0.7238 - val_accuracy: 0.7060\n",
      "Epoch 21/100\n",
      "15/15 [==============================] - 11s 705ms/step - loss: 0.0573 - accuracy: 0.9787 - val_loss: 0.7488 - val_accuracy: 0.7192\n",
      "Epoch 22/100\n",
      "15/15 [==============================] - 10s 661ms/step - loss: 0.0549 - accuracy: 0.9776 - val_loss: 0.7783 - val_accuracy: 0.7139\n",
      "Epoch 23/100\n",
      "15/15 [==============================] - 10s 700ms/step - loss: 0.0517 - accuracy: 0.9801 - val_loss: 0.7408 - val_accuracy: 0.7139\n",
      "Epoch 24/100\n",
      "15/15 [==============================] - 11s 715ms/step - loss: 0.0514 - accuracy: 0.9782 - val_loss: 0.7244 - val_accuracy: 0.7192\n",
      "Epoch 25/100\n",
      "15/15 [==============================] - 11s 720ms/step - loss: 0.0498 - accuracy: 0.9779 - val_loss: 0.7382 - val_accuracy: 0.7244\n",
      "Epoch 26/100\n",
      "15/15 [==============================] - 10s 707ms/step - loss: 0.0611 - accuracy: 0.9723 - val_loss: 0.7006 - val_accuracy: 0.7244\n",
      "Epoch 27/100\n",
      "15/15 [==============================] - 10s 695ms/step - loss: 0.0827 - accuracy: 0.9642 - val_loss: 0.6054 - val_accuracy: 0.7270\n",
      "Epoch 28/100\n",
      "15/15 [==============================] - 10s 691ms/step - loss: 0.0678 - accuracy: 0.9697 - val_loss: 0.6644 - val_accuracy: 0.7008\n",
      "Epoch 29/100\n",
      "15/15 [==============================] - 10s 676ms/step - loss: 0.0655 - accuracy: 0.9716 - val_loss: 0.7175 - val_accuracy: 0.7008\n",
      "Epoch 30/100\n",
      "15/15 [==============================] - 10s 648ms/step - loss: 0.0526 - accuracy: 0.9764 - val_loss: 0.6954 - val_accuracy: 0.7060\n",
      "Epoch 31/100\n",
      "15/15 [==============================] - 10s 691ms/step - loss: 0.0464 - accuracy: 0.9771 - val_loss: 0.7447 - val_accuracy: 0.7218\n",
      "Epoch 32/100\n",
      "15/15 [==============================] - 10s 691ms/step - loss: 0.0410 - accuracy: 0.9787 - val_loss: 0.7448 - val_accuracy: 0.7192\n",
      "Epoch 33/100\n",
      "15/15 [==============================] - 11s 705ms/step - loss: 0.0405 - accuracy: 0.9767 - val_loss: 0.7209 - val_accuracy: 0.7244\n",
      "Epoch 34/100\n",
      "15/15 [==============================] - 10s 683ms/step - loss: 0.0375 - accuracy: 0.9789 - val_loss: 0.7196 - val_accuracy: 0.7087\n",
      "Epoch 35/100\n",
      "15/15 [==============================] - 10s 694ms/step - loss: 0.0365 - accuracy: 0.9795 - val_loss: 0.7189 - val_accuracy: 0.7008\n",
      "Epoch 36/100\n",
      "15/15 [==============================] - 10s 696ms/step - loss: 0.0356 - accuracy: 0.9795 - val_loss: 0.7753 - val_accuracy: 0.7060\n",
      "Epoch 37/100\n",
      "15/15 [==============================] - 10s 684ms/step - loss: 0.0344 - accuracy: 0.9793 - val_loss: 0.7428 - val_accuracy: 0.7060\n",
      "Epoch 38/100\n",
      "15/15 [==============================] - 10s 636ms/step - loss: 0.0327 - accuracy: 0.9805 - val_loss: 0.7690 - val_accuracy: 0.7139\n",
      "Epoch 39/100\n",
      "15/15 [==============================] - 10s 686ms/step - loss: 0.0329 - accuracy: 0.9799 - val_loss: 0.7259 - val_accuracy: 0.7139\n",
      "Epoch 40/100\n",
      "15/15 [==============================] - 10s 694ms/step - loss: 0.0352 - accuracy: 0.9793 - val_loss: 0.6370 - val_accuracy: 0.7297\n",
      "Epoch 41/100\n",
      "15/15 [==============================] - 10s 689ms/step - loss: 0.0399 - accuracy: 0.9754 - val_loss: 0.7669 - val_accuracy: 0.7244\n",
      "Epoch 42/100\n",
      "15/15 [==============================] - 10s 687ms/step - loss: 0.0356 - accuracy: 0.9782 - val_loss: 0.7176 - val_accuracy: 0.7087\n",
      "Epoch 43/100\n",
      "15/15 [==============================] - 10s 676ms/step - loss: 0.0317 - accuracy: 0.9797 - val_loss: 0.7184 - val_accuracy: 0.7139\n",
      "Epoch 44/100\n",
      "15/15 [==============================] - 10s 700ms/step - loss: 0.0308 - accuracy: 0.9797 - val_loss: 0.7462 - val_accuracy: 0.7165\n",
      "Epoch 45/100\n",
      "15/15 [==============================] - 10s 698ms/step - loss: 0.0308 - accuracy: 0.9806 - val_loss: 0.7473 - val_accuracy: 0.7192\n",
      "Epoch 46/100\n",
      "15/15 [==============================] - 10s 665ms/step - loss: 0.0303 - accuracy: 0.9782 - val_loss: 0.6902 - val_accuracy: 0.7218\n",
      "Epoch 47/100\n",
      "15/15 [==============================] - 10s 678ms/step - loss: 0.0279 - accuracy: 0.9799 - val_loss: 0.7528 - val_accuracy: 0.7139\n",
      "Epoch 48/100\n",
      "15/15 [==============================] - 10s 689ms/step - loss: 0.0283 - accuracy: 0.9795 - val_loss: 0.7738 - val_accuracy: 0.7113\n",
      "Epoch 49/100\n",
      "15/15 [==============================] - 10s 687ms/step - loss: 0.0285 - accuracy: 0.9794 - val_loss: 0.7559 - val_accuracy: 0.7113\n",
      "Epoch 50/100\n",
      "15/15 [==============================] - 10s 678ms/step - loss: 0.0266 - accuracy: 0.9806 - val_loss: 0.7269 - val_accuracy: 0.7270\n",
      "Epoch 51/100\n",
      "15/15 [==============================] - 11s 710ms/step - loss: 0.0263 - accuracy: 0.9820 - val_loss: 0.7771 - val_accuracy: 0.7087\n",
      "Epoch 52/100\n",
      "15/15 [==============================] - 11s 719ms/step - loss: 0.0260 - accuracy: 0.9802 - val_loss: 0.7517 - val_accuracy: 0.7165\n",
      "Epoch 53/100\n",
      "15/15 [==============================] - 10s 695ms/step - loss: 0.0258 - accuracy: 0.9805 - val_loss: 0.8024 - val_accuracy: 0.7060\n",
      "Epoch 54/100\n",
      "15/15 [==============================] - 10s 690ms/step - loss: 0.0251 - accuracy: 0.9809 - val_loss: 0.7427 - val_accuracy: 0.7165\n",
      "Epoch 55/100\n",
      "15/15 [==============================] - 11s 764ms/step - loss: 0.0248 - accuracy: 0.9807 - val_loss: 0.7845 - val_accuracy: 0.7060\n",
      "Epoch 56/100\n",
      "15/15 [==============================] - 10s 695ms/step - loss: 0.0246 - accuracy: 0.9803 - val_loss: 0.7589 - val_accuracy: 0.7192\n",
      "Epoch 57/100\n"
     ]
    },
    {
     "name": "stdout",
     "output_type": "stream",
     "text": [
      "15/15 [==============================] - 10s 677ms/step - loss: 0.0235 - accuracy: 0.9842 - val_loss: 0.7386 - val_accuracy: 0.7244\n",
      "Epoch 58/100\n",
      "15/15 [==============================] - 11s 719ms/step - loss: 0.0270 - accuracy: 0.9811 - val_loss: 0.8000 - val_accuracy: 0.7270\n",
      "Epoch 59/100\n",
      "15/15 [==============================] - 10s 678ms/step - loss: 0.0284 - accuracy: 0.9806 - val_loss: 0.7471 - val_accuracy: 0.7034\n",
      "Epoch 60/100\n",
      "15/15 [==============================] - 10s 692ms/step - loss: 0.0256 - accuracy: 0.9806 - val_loss: 0.7542 - val_accuracy: 0.7218\n",
      "Epoch 61/100\n",
      "15/15 [==============================] - 11s 718ms/step - loss: 0.0238 - accuracy: 0.9813 - val_loss: 0.7882 - val_accuracy: 0.6955\n",
      "Epoch 62/100\n",
      "15/15 [==============================] - 10s 653ms/step - loss: 0.0244 - accuracy: 0.9821 - val_loss: 0.7725 - val_accuracy: 0.7060\n",
      "Epoch 63/100\n",
      "15/15 [==============================] - 10s 643ms/step - loss: 0.0237 - accuracy: 0.9810 - val_loss: 0.7385 - val_accuracy: 0.7297\n",
      "Epoch 64/100\n",
      "15/15 [==============================] - 11s 716ms/step - loss: 0.0236 - accuracy: 0.9802 - val_loss: 0.7796 - val_accuracy: 0.7139\n",
      "Epoch 65/100\n",
      "15/15 [==============================] - 10s 678ms/step - loss: 0.0222 - accuracy: 0.9810 - val_loss: 0.8002 - val_accuracy: 0.7008\n",
      "Epoch 66/100\n",
      "15/15 [==============================] - 11s 716ms/step - loss: 0.0231 - accuracy: 0.9813 - val_loss: 0.7734 - val_accuracy: 0.7087\n",
      "Epoch 67/100\n",
      "15/15 [==============================] - 11s 708ms/step - loss: 0.0239 - accuracy: 0.9795 - val_loss: 0.7996 - val_accuracy: 0.7034\n",
      "Epoch 68/100\n",
      "15/15 [==============================] - 10s 689ms/step - loss: 0.0237 - accuracy: 0.9828 - val_loss: 0.7879 - val_accuracy: 0.7008\n",
      "Epoch 69/100\n",
      "15/15 [==============================] - 11s 708ms/step - loss: 0.0230 - accuracy: 0.9807 - val_loss: 0.7576 - val_accuracy: 0.7139\n",
      "Epoch 70/100\n",
      "15/15 [==============================] - 10s 677ms/step - loss: 0.0227 - accuracy: 0.9810 - val_loss: 0.8022 - val_accuracy: 0.7008\n",
      "Epoch 71/100\n",
      "15/15 [==============================] - 10s 679ms/step - loss: 0.0217 - accuracy: 0.9814 - val_loss: 0.8064 - val_accuracy: 0.7034\n",
      "Epoch 72/100\n",
      "15/15 [==============================] - 11s 710ms/step - loss: 0.0222 - accuracy: 0.9810 - val_loss: 0.8149 - val_accuracy: 0.6955\n",
      "Epoch 73/100\n",
      "15/15 [==============================] - 10s 700ms/step - loss: 0.0236 - accuracy: 0.9801 - val_loss: 0.7701 - val_accuracy: 0.7034\n",
      "Epoch 74/100\n",
      "15/15 [==============================] - 11s 715ms/step - loss: 0.0225 - accuracy: 0.9820 - val_loss: 0.8131 - val_accuracy: 0.7034\n",
      "Epoch 75/100\n",
      "15/15 [==============================] - 11s 714ms/step - loss: 0.0233 - accuracy: 0.9805 - val_loss: 0.7893 - val_accuracy: 0.7008\n",
      "Epoch 76/100\n",
      "15/15 [==============================] - 11s 744ms/step - loss: 0.0241 - accuracy: 0.9797 - val_loss: 0.7528 - val_accuracy: 0.7087\n",
      "Epoch 77/100\n",
      "15/15 [==============================] - 11s 711ms/step - loss: 0.0232 - accuracy: 0.9806 - val_loss: 0.7713 - val_accuracy: 0.7218\n",
      "Epoch 78/100\n",
      "15/15 [==============================] - 10s 692ms/step - loss: 0.0226 - accuracy: 0.9801 - val_loss: 0.8031 - val_accuracy: 0.7113\n",
      "Epoch 79/100\n",
      "15/15 [==============================] - 10s 675ms/step - loss: 0.0219 - accuracy: 0.9807 - val_loss: 0.7752 - val_accuracy: 0.7113\n",
      "Epoch 80/100\n",
      "15/15 [==============================] - 10s 685ms/step - loss: 0.0216 - accuracy: 0.9809 - val_loss: 0.7626 - val_accuracy: 0.7165\n",
      "Epoch 81/100\n",
      "15/15 [==============================] - 10s 698ms/step - loss: 0.0221 - accuracy: 0.9814 - val_loss: 0.7891 - val_accuracy: 0.7192\n",
      "Epoch 82/100\n",
      "15/15 [==============================] - 10s 693ms/step - loss: 0.0230 - accuracy: 0.9807 - val_loss: 0.7565 - val_accuracy: 0.7270\n",
      "Epoch 83/100\n",
      "15/15 [==============================] - 11s 731ms/step - loss: 0.0228 - accuracy: 0.9803 - val_loss: 0.7593 - val_accuracy: 0.7218\n",
      "Epoch 84/100\n",
      "15/15 [==============================] - 10s 686ms/step - loss: 0.0224 - accuracy: 0.9802 - val_loss: 0.7868 - val_accuracy: 0.7087\n",
      "Epoch 85/100\n",
      "15/15 [==============================] - 11s 723ms/step - loss: 0.0226 - accuracy: 0.9816 - val_loss: 0.8230 - val_accuracy: 0.6982\n",
      "Epoch 86/100\n",
      "15/15 [==============================] - 10s 677ms/step - loss: 0.0237 - accuracy: 0.9814 - val_loss: 0.7814 - val_accuracy: 0.7192\n",
      "Epoch 87/100\n",
      "15/15 [==============================] - 10s 677ms/step - loss: 0.0227 - accuracy: 0.9791 - val_loss: 0.7510 - val_accuracy: 0.7218\n",
      "Epoch 88/100\n",
      "15/15 [==============================] - 10s 697ms/step - loss: 0.0230 - accuracy: 0.9817 - val_loss: 0.7690 - val_accuracy: 0.7218\n",
      "Epoch 89/100\n",
      "15/15 [==============================] - 10s 692ms/step - loss: 0.0226 - accuracy: 0.9802 - val_loss: 0.8041 - val_accuracy: 0.7244\n",
      "Epoch 90/100\n",
      "15/15 [==============================] - 10s 702ms/step - loss: 0.0216 - accuracy: 0.9803 - val_loss: 0.7713 - val_accuracy: 0.7297\n",
      "Epoch 91/100\n",
      "15/15 [==============================] - 10s 688ms/step - loss: 0.0213 - accuracy: 0.9801 - val_loss: 0.7580 - val_accuracy: 0.7218\n",
      "Epoch 92/100\n",
      "15/15 [==============================] - 11s 709ms/step - loss: 0.0214 - accuracy: 0.9805 - val_loss: 0.7893 - val_accuracy: 0.7244\n",
      "Epoch 93/100\n",
      "15/15 [==============================] - 10s 698ms/step - loss: 0.0207 - accuracy: 0.9806 - val_loss: 0.7767 - val_accuracy: 0.7270\n",
      "Epoch 94/100\n",
      "15/15 [==============================] - 10s 685ms/step - loss: 0.0212 - accuracy: 0.9798 - val_loss: 0.7800 - val_accuracy: 0.7165\n",
      "Epoch 95/100\n",
      "15/15 [==============================] - 10s 693ms/step - loss: 0.0209 - accuracy: 0.9810 - val_loss: 0.7905 - val_accuracy: 0.7165\n",
      "Epoch 96/100\n",
      "15/15 [==============================] - 10s 685ms/step - loss: 0.0209 - accuracy: 0.9799 - val_loss: 0.7756 - val_accuracy: 0.7218\n",
      "Epoch 97/100\n",
      "15/15 [==============================] - 10s 688ms/step - loss: 0.0202 - accuracy: 0.9803 - val_loss: 0.7896 - val_accuracy: 0.7165\n",
      "Epoch 98/100\n",
      "15/15 [==============================] - 11s 696ms/step - loss: 0.0211 - accuracy: 0.9806 - val_loss: 0.7743 - val_accuracy: 0.7218\n",
      "Epoch 99/100\n",
      "15/15 [==============================] - 11s 715ms/step - loss: 0.0214 - accuracy: 0.9810 - val_loss: 0.8052 - val_accuracy: 0.7297\n",
      "Epoch 100/100\n",
      "15/15 [==============================] - 11s 739ms/step - loss: 0.0219 - accuracy: 0.9818 - val_loss: 0.7854 - val_accuracy: 0.7192\n"
     ]
    }
   ],
   "source": [
    "history=model.fit(padded,train_labels,epochs=100,batch_size=512,validation_data=( validation_padded,validation_labels),use_multiprocessing=True, workers=8)"
   ]
  },
  {
   "cell_type": "markdown",
   "metadata": {},
   "source": [
    "# **Learning Curve**"
   ]
  },
  {
   "cell_type": "code",
   "execution_count": 190,
   "metadata": {
    "execution": {
     "iopub.execute_input": "2021-10-19T19:38:41.446588Z",
     "iopub.status.busy": "2021-10-19T19:38:41.446334Z",
     "iopub.status.idle": "2021-10-19T19:38:41.856642Z",
     "shell.execute_reply": "2021-10-19T19:38:41.855798Z",
     "shell.execute_reply.started": "2021-10-19T19:38:41.446552Z"
    }
   },
   "outputs": [
    {
     "name": "stdout",
     "output_type": "stream",
     "text": [
      "dict_keys(['loss', 'accuracy', 'val_loss', 'val_accuracy'])\n"
     ]
    },
    {
     "data": {
      "image/png": "[encoded data removed]",
      "text/plain": [
       "<Figure size 432x288 with 1 Axes>"
      ]
     },
     "metadata": {
      "needs_background": "light"
     },
     "output_type": "display_data"
    },
    {
     "data": {
      "image/png": "[encoded data removed]",
      "text/plain": [
       "<Figure size 432x288 with 1 Axes>"
      ]
     },
     "metadata": {
      "needs_background": "light"
     },
     "output_type": "display_data"
    }
   ],
   "source": [
    "print(history.history.keys())\n",
    "loss = history.history['loss']\n",
    "val_loss = history.history['val_loss']\n",
    "plt.plot(loss)\n",
    "plt.plot(val_loss)\n",
    "plt.title('model loss')\n",
    "plt.ylabel('loss')\n",
    "plt.xlabel('epoch')\n",
    "plt.legend(['loss', 'val_loss'])\n",
    "plt.show()\n",
    "\n",
    "accuracy = history.history['accuracy']\n",
    "val_accuracy= history.history['val_accuracy']\n",
    "plt.plot(accuracy)\n",
    "plt.plot(val_accuracy)\n",
    "plt.title('model accuracy')\n",
    "plt.ylabel('accuracy')\n",
    "plt.xlabel('epoch')\n",
    "plt.legend(['accuracy', 'val_accuracy'])\n",
    "plt.show()\n"
   ]
  },
  {
   "cell_type": "markdown",
   "metadata": {},
   "source": [
    "# **Evaluation**"
   ]
  },
  {
   "cell_type": "code",
   "execution_count": 191,
   "metadata": {
    "execution": {
     "iopub.execute_input": "2021-10-19T19:38:41.858422Z",
     "iopub.status.busy": "2021-10-19T19:38:41.858095Z",
     "iopub.status.idle": "2021-10-19T19:39:38.939887Z",
     "shell.execute_reply": "2021-10-19T19:39:38.939071Z",
     "shell.execute_reply.started": "2021-10-19T19:38:41.858385Z"
    }
   },
   "outputs": [
    {
     "name": "stdout",
     "output_type": "stream",
     "text": [
      "15/15 [==============================] - 3s 199ms/step - loss: 0.0204 - accuracy: 0.9833\n",
      "The train accuracy is: 0.9833041429519653\n",
      "3/3 [==============================] - 1s 198ms/step - loss: 0.9902 - accuracy: 0.6684\n",
      "The test accuracy is: 0.6684175729751587\n"
     ]
    }
   ],
   "source": [
    "#accuracy calculation\n",
    "loss_and_metrics = model.evaluate(padded,train_labels,batch_size=512)\n",
    "print(\"The train accuracy is: \"+str(loss_and_metrics[1]))\n",
    "loss_and_metrics = model.evaluate(testing_padded,test_labels,batch_size=512)\n",
    "print(\"The test accuracy is: \"+str(loss_and_metrics[1]))"
   ]
  },
  {
   "cell_type": "code",
   "execution_count": 192,
   "metadata": {
    "execution": {
     "iopub.execute_input": "2021-10-19T19:39:38.941580Z",
     "iopub.status.busy": "2021-10-19T19:39:38.941161Z",
     "iopub.status.idle": "2021-10-19T19:41:34.107270Z",
     "shell.execute_reply": "2021-10-19T19:41:34.106483Z",
     "shell.execute_reply.started": "2021-10-19T19:39:38.941539Z"
    }
   },
   "outputs": [],
   "source": [
    "predictions = model.predict(testing_padded)"
   ]
  },
  {
   "cell_type": "code",
   "execution_count": 193,
   "metadata": {
    "execution": {
     "iopub.execute_input": "2021-10-19T19:41:34.109372Z",
     "iopub.status.busy": "2021-10-19T19:41:34.109100Z",
     "iopub.status.idle": "2021-10-19T19:41:34.116813Z",
     "shell.execute_reply": "2021-10-19T19:41:34.116109Z",
     "shell.execute_reply.started": "2021-10-19T19:41:34.109337Z"
    }
   },
   "outputs": [],
   "source": [
    "predictions = np.argmax(predictions, axis=-1) "
   ]
  },
  {
   "cell_type": "code",
   "execution_count": 194,
   "metadata": {
    "execution": {
     "iopub.execute_input": "2021-10-19T19:41:34.119543Z",
     "iopub.status.busy": "2021-10-19T19:41:34.119307Z",
     "iopub.status.idle": "2021-10-19T19:41:34.127237Z",
     "shell.execute_reply": "2021-10-19T19:41:34.126477Z",
     "shell.execute_reply.started": "2021-10-19T19:41:34.119518Z"
    }
   },
   "outputs": [],
   "source": [
    "test_labels=np.argmax(test_labels, axis=-1)"
   ]
  },
  {
   "cell_type": "code",
   "execution_count": 195,
   "metadata": {
    "execution": {
     "iopub.execute_input": "2021-10-19T19:41:34.130035Z",
     "iopub.status.busy": "2021-10-19T19:41:34.128194Z",
     "iopub.status.idle": "2021-10-19T19:41:34.169547Z",
     "shell.execute_reply": "2021-10-19T19:41:34.168884Z",
     "shell.execute_reply.started": "2021-10-19T19:41:34.129995Z"
    }
   },
   "outputs": [
    {
     "name": "stdout",
     "output_type": "stream",
     "text": [
      "Precision :0.6735624363703093\n",
      "Recall :0.6684175968483257\n",
      "fscore :0.6687127736246048\n"
     ]
    }
   ],
   "source": [
    "precision, recall, fscore, _ = precision_recall_fscore_support(test_labels,predictions, average='weighted')\n",
    "print(\"Precision :\"+str(precision))\n",
    "print(\"Recall :\"+str(recall))\n",
    "print(\"fscore :\"+str(fscore))"
   ]
  },
  {
   "cell_type": "markdown",
   "metadata": {},
   "source": [
    "# **Confusion Matrix & Classification Report**"
   ]
  },
  {
   "cell_type": "code",
   "execution_count": 196,
   "metadata": {
    "execution": {
     "iopub.execute_input": "2021-10-19T19:41:34.172148Z",
     "iopub.status.busy": "2021-10-19T19:41:34.171490Z",
     "iopub.status.idle": "2021-10-19T19:41:34.822335Z",
     "shell.execute_reply": "2021-10-19T19:41:34.821693Z",
     "shell.execute_reply.started": "2021-10-19T19:41:34.172113Z"
    }
   },
   "outputs": [
    {
     "data": {
      "image/png": "[encoded data removed]",
      "text/plain": [
       "<Figure size 648x648 with 2 Axes>"
      ]
     },
     "metadata": {
      "needs_background": "light"
     },
     "output_type": "display_data"
    }
   ],
   "source": [
    "cm = metrics.confusion_matrix(test_labels,predictions)\n",
    "#print(cm)\n",
    "\n",
    "plt.figure(figsize=(9,9))\n",
    "sns.heatmap(cm, annot=True, fmt=\".3f\", linewidths=.5, square = True, cmap = 'Blues_r');\n",
    "plt.ylabel('Actual label');\n",
    "plt.xlabel('Predicted label');\n",
    "all_sample_title = 'Accuracy Score Bi-LSTM: {0}'.format(loss_and_metrics[1])\n",
    "plt.title(all_sample_title, size = 15);\n"
   ]
  },
  {
   "cell_type": "code",
   "execution_count": 197,
   "metadata": {
    "execution": {
     "iopub.execute_input": "2021-10-19T19:41:34.824350Z",
     "iopub.status.busy": "2021-10-19T19:41:34.823738Z",
     "iopub.status.idle": "2021-10-19T19:41:34.979413Z",
     "shell.execute_reply": "2021-10-19T19:41:34.978735Z",
     "shell.execute_reply.started": "2021-10-19T19:41:34.824309Z"
    }
   },
   "outputs": [
    {
     "data": {
      "text/html": [
       "<div>\n",
       "<style scoped>\n",
       "    .dataframe tbody tr th:only-of-type {\n",
       "        vertical-align: middle;\n",
       "    }\n",
       "\n",
       "    .dataframe tbody tr th {\n",
       "        vertical-align: top;\n",
       "    }\n",
       "\n",
       "    .dataframe thead th {\n",
       "        text-align: right;\n",
       "    }\n",
       "</style>\n",
       "<table border=\"1\" class=\"dataframe\">\n",
       "  <thead>\n",
       "    <tr style=\"text-align: right;\">\n",
       "      <th></th>\n",
       "      <th>precision</th>\n",
       "      <th>recall</th>\n",
       "      <th>f1-score</th>\n",
       "      <th>support</th>\n",
       "    </tr>\n",
       "  </thead>\n",
       "  <tbody>\n",
       "    <tr>\n",
       "      <th>Negative</th>\n",
       "      <td>35.25</td>\n",
       "      <td>37.14</td>\n",
       "      <td>36.17</td>\n",
       "      <td>280.000000</td>\n",
       "    </tr>\n",
       "    <tr>\n",
       "      <th>nutral</th>\n",
       "      <td>73.38</td>\n",
       "      <td>80.44</td>\n",
       "      <td>76.75</td>\n",
       "      <td>675.000000</td>\n",
       "    </tr>\n",
       "    <tr>\n",
       "      <th>positive</th>\n",
       "      <td>76.02</td>\n",
       "      <td>65.32</td>\n",
       "      <td>70.27</td>\n",
       "      <td>568.000000</td>\n",
       "    </tr>\n",
       "    <tr>\n",
       "      <th>accuracy</th>\n",
       "      <td>66.84</td>\n",
       "      <td>66.84</td>\n",
       "      <td>66.84</td>\n",
       "      <td>0.668418</td>\n",
       "    </tr>\n",
       "    <tr>\n",
       "      <th>macro avg</th>\n",
       "      <td>61.55</td>\n",
       "      <td>60.97</td>\n",
       "      <td>61.06</td>\n",
       "      <td>1523.000000</td>\n",
       "    </tr>\n",
       "    <tr>\n",
       "      <th>weighted avg</th>\n",
       "      <td>67.36</td>\n",
       "      <td>66.84</td>\n",
       "      <td>66.87</td>\n",
       "      <td>1523.000000</td>\n",
       "    </tr>\n",
       "  </tbody>\n",
       "</table>\n",
       "</div>"
      ],
      "text/plain": [
       "              precision  recall  f1-score      support\n",
       "Negative          35.25   37.14     36.17   280.000000\n",
       "nutral            73.38   80.44     76.75   675.000000\n",
       "positive          76.02   65.32     70.27   568.000000\n",
       "accuracy          66.84   66.84     66.84     0.668418\n",
       "macro avg         61.55   60.97     61.06  1523.000000\n",
       "weighted avg      67.36   66.84     66.87  1523.000000"
      ]
     },
     "metadata": {},
     "output_type": "display_data"
    }
   ],
   "source": [
    "report = pd.DataFrame(classification_report(y_true = test_labels, y_pred = predictions, output_dict=True)).transpose()\n",
    "report = report.rename(index={'0': 'Negative','1':'nutral','2':'positive'})\n",
    "report[['precision','recall','f1-score']]=report[['precision','recall','f1-score']].apply(lambda x: round(x*100,2))\n",
    "display(report)"
   ]
  },
  {
   "cell_type": "code",
   "execution_count": null,
   "metadata": {},
   "outputs": [],
   "source": []
  },
  {
   "cell_type": "code",
   "execution_count": null,
   "metadata": {},
   "outputs": [],
   "source": []
  }
 ],
 "metadata": {
  "kernelspec": {
   "display_name": "Python 3 (ipykernel)",
   "language": "python",
   "name": "python3"
  },
  "language_info": {
   "codemirror_mode": {
    "name": "ipython",
    "version": 3
   },
   "file_extension": ".py",
   "mimetype": "text/x-python",
   "name": "python",
   "nbconvert_exporter": "python",
   "pygments_lexer": "ipython3",
   "version": "3.8.10"
  }
 },
 "nbformat": 4,
 "nbformat_minor": 4
}
