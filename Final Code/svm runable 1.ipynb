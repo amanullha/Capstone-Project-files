{
 "cells": [
  {
   "cell_type": "markdown",
   "metadata": {
    "id": "gGl5GhynFL3Q"
   },
   "source": [
    "#Bangla Fonts & Libraries"
   ]
  },
  {
   "cell_type": "code",
   "execution_count": 13,
   "metadata": {
    "id": "4owPtM3HFDLv"
   },
   "outputs": [],
   "source": [
    "# pip install bnlp_toolkit"
   ]
  },
  {
   "cell_type": "code",
   "execution_count": 14,
   "metadata": {
    "id": "5S-AOP5CFd0v"
   },
   "outputs": [],
   "source": [
    "import re\n",
    "from bnlp.corpus import punctuations "
   ]
  },
  {
   "cell_type": "code",
   "execution_count": 15,
   "metadata": {
    "id": "HH6K0-Htlf3O"
   },
   "outputs": [],
   "source": [
    "stopwords = [\"অবশ্য\",\"অনেক\",\"অনেকে\",\"অনেকেই\",\"অন্তত\",\"অথবা\",\"অথচ\",\"অর্থাত\",\"অন্য\",\"আজ\",\"আছে\",\"আপনার\",\"আপনি\",\"আবার\",\"আমরা\",\"আমাকে\",\"আমাদের\"\n",
    "             ,\"আমার\",\"আমি\",\"আরও\",\"আর\",\"আগে\",\"আগেই\",\"আই\",\"অতএব\",\"আগামী\",\"অবধি\",\"অনুযায়ী\",\"আদ্যভাগে\",\"এই\",\"একই\",\"একে\",\"একটি\",\"এখন\",\"এখনও\"\n",
    "             ,\"এখানে\",\"এখানেই\",\"এটি\",\"এটা\",\"এটাই\",\"এতটাই\",\"এবং\",\"একবার\",\"এবার\",\"এদের\",\"এঁদের\",\"এমন\",\"এমনকী\",\"এল\",\"এর\",\"এরা\",\"এঁরা\",\"এস\",\"এত\"\n",
    "             ,\"এতে\",\"এসে\",\"একে\",\"এ\",\"ঐ\",\" ই\",\"ইহা\",\"ইত্যাদি\",\"উনি\",\"উপর\",\"উপরে\",\"উচিত\",\"ও\",\"ওই\",\"ওর\",\"ওরা\",\"ওঁর\",\"ওঁরা\",\"ওকে\",\"ওদের\",\"ওঁদের\",\n",
    "             \"ওখানে\",\"কত\",\"কবে\",\"করতে\",\"কয়েক\",\"কয়েকটি\",\"করবে\",\"করলেন\",\"করার\",\"কারও\",\"করা\",\"করি\",\"করিয়ে\",\"করার\",\"করাই\",\"করলে\",\"করলেন\",\n",
    "             \"করিতে\",\"করিয়া\",\"করেছিলেন\",\"করছে\",\"করছেন\",\"করেছেন\",\"করেছে\",\"করেন\",\"করবেন\",\"করায়\",\"করে\",\"করেই\",\"কাছ\",\"কাছে\",\"কাজে\",\"কারণ\",\"কিছু\",\n",
    "             \"কিছুই\",\"কিন্তু\",\"কিংবা\",\"কি\",\"কী\",\"কেউ\",\"কেউই\",\"কাউকে\",\"কেন\",\"কে\",\"কোনও\",\"কোনো\",\"কোন\",\"কখনও\",\"ক্ষেত্রে\",\"খুব\tগুলি\",\"গিয়ে\",\"গিয়েছে\",\n",
    "             \"গেছে\",\"গেল\",\"গেলে\",\"গোটা\",\"চলে\",\"ছাড়া\",\"ছাড়াও\",\"ছিলেন\",\"ছিল\",'ছিলো',\"জন্য\",\"জানা\",\"ঠিক\",\"তিনি\",\"তিনঐ\",\"তিনিও\",\"তখন\",\"তবে\",\"তবু\",\"তাঁদের\",\n",
    "             \"তাঁাহারা\",\"তাঁরা\",\"তাঁর\",\"তাঁকে\",\"তাই\",\"তেমন\",\"তাকে\",\"তাহা\",\"তাহাতে\",\"তাহার\",\"তাদের\",\"তারপর\",\"তারা\",\"তারৈ\",\"তার\",\"তাহলে\",\"তিনি\",\"তা\",\n",
    "             \"তাও\",\"তাতে\",\"তো\",\"তত\",\"তুমি\",\"তোমার\",\"তথা\",\"থাকে\",\"থাকা\",\"থাকায়\",\"থেকে\",\"থেকেও\",\"থাকবে\",\"থাকেন\",\"থাকবেন\",\"থেকেই\",\"দিকে\",\"দিতে\",\n",
    "             \"দিয়ে\",\"দিয়েছে\",\"দিয়েছেন\",\"দিলেন\",\"দু\",\"দুটি\",\"দুটো\",\"দেয়\",\"দেওয়া\",\"দেওয়ার\",\"দেখা\",\"দেখে\",\"দেখতে\",\"দ্বারা\",\"ধরে\",\"ধরা\",\"নয়\",\"নানা\",\"না\",\n",
    "             \"নাকি\",\"নাগাদ\",\"নিতে\",\"নিজে\",\"নিজেই\",\"নিজের\",\"নিজেদের\",\"নিয়ে\",\"নেওয়া\",\"নেওয়ার\",\"নেই\",\"নাই\",\"পক্ষে\",\"পর্যন্ত\",\"পাওয়া\",\"পারেন\",\"পারি\",\"পারে\",\n",
    "             \"পরে\",\"পরেই\",\"পরেও\",\"পর\",\"পেয়ে\",\"প্রতি\",\"প্রভৃতি\",\"প্রায়\",\"ফের\",\"ফলে\",\"ফিরে\",\"ব্যবহার\",\"বলতে\",\"বললেন\",\"বলেছেন\",\"বলল\",\"বলা\",\"বলেন\",\"বলে\",\n",
    "             \"বহু\",\"বসে\",\"বার\",\"বা\",\"বিনা\",\"বরং\",\"বদলে\",\"বাদে\",\"বার\",\"বিশেষ\",\"বিভিন্ন\tবিষয়টি\",\"ব্যবহার\",\"ব্যাপারে\",\"ভাবে\",\"ভাবেই\",\"মধ্যে\",\"মধ্যেই\",\"মধ্যেও\",\n",
    "             \"মধ্যভাগে\",\"মাধ্যমে\",\"মাত্র\",\"মতো\",\"মতোই\",\"মোটেই\",\"যখন\",\"যদি\",\"যদিও\",\"যাবে\",\"যায়\",\"যাকে\",\"যাওয়া\",\"যাওয়ার\",\"যত\",\"যতটা\",\"যা\",\"যার\",\"যারা\",\n",
    "             \"যাঁর\",\"যাঁরা\",\"যাদের\",\"যান\",\"যাচ্ছে\",\"যেতে\",\"যাতে\",\"যেন\",\"যেমন\",\"যেখানে\",\"যিনি\",\"যে\",\"রেখে\",\"রাখা\",\"রয়েছে\",\"রকম\",\"শুধু\",\"সঙ্গে\",\"সঙ্গেও\",\n",
    "             \"সমস্ত\",\"সব\",\"সবার\",\"সহ\",\"সুতরাং\",\"সহিত\",\"সেই\",\"সেটা\",\"সেটি\",\"সেটাই\",\"সেটাও\",\"সম্প্রতি\",\"সেখান\",\"সেখানে\",\"সে\",\"স্পষ্ট\",\"স্বয়ং\",\"হইতে\",\"হইবে\",\n",
    "             \"হৈলে\",\"হইয়া\",\"হচ্ছে\",\"হত\",\"হতে\",\"হতেই\",\"হবে\",\"হবেন\",\"হয়েছিল\",\"হয়েছে\",\"হয়েছেন\",\"হয়ে\",\"হয়নি\",\"হয়\",\"হয়েই\",\"হয়তো\",\"হল\",\"হলে\",\"হলেই\",\"হলেও\",\n",
    "             \"হলো\",\"হিসাবে\",\"হওয়া\",\"হওয়ার\",\"হওয়ায়\",\"হন\",\"হোক\",\"জন\",\"জনকে\",\"জনের\",\"জানতে\",\"জানায়\",\"জানিয়ে\",\"জানানো\",\"জানিয়েছে\",\"জন্য\",\"জন্যওজে\",\n",
    "             \"জে\",\"বেশ\",\"দেন\",\"তুলে\",\"ছিলেন\",\"চান\",\"চায়\",\"চেয়ে\",\"মোট\",\"যথেষ্ট\",\"টি\"]"
   ]
  },
  {
   "cell_type": "code",
   "execution_count": 16,
   "metadata": {
    "colab": {
     "base_uri": "https://localhost:8080/"
    },
    "id": "klxwb5j3FwdQ",
    "outputId": "9bcf3f4d-81ed-4ef3-d385-d4b1445fa203"
   },
   "outputs": [],
   "source": [
    "# !wget https://www.omicronlab.com/download/fonts/kalpurush.ttf"
   ]
  },
  {
   "cell_type": "code",
   "execution_count": 17,
   "metadata": {
    "colab": {
     "base_uri": "https://localhost:8080/"
    },
    "id": "zB4TBjpdF0AS",
    "outputId": "a4a34274-57b6-4354-ad1d-7c43ee97ceb5"
   },
   "outputs": [],
   "source": [
    "# !wget https://www.omicronlab.com/download/fonts/Siyamrupali.ttf"
   ]
  },
  {
   "cell_type": "markdown",
   "metadata": {
    "id": "6Uq8UdV5E6ih"
   },
   "source": [
    "#Importing Libraries"
   ]
  },
  {
   "cell_type": "code",
   "execution_count": 18,
   "metadata": {
    "id": "aoWOPMflE-lD"
   },
   "outputs": [],
   "source": [
    "#Libraries\n",
    "import pandas as pd\n",
    "import matplotlib.pyplot as plt\n",
    "%matplotlib inline\n",
    "import seaborn as sns\n",
    "import numpy as np\n",
    "import itertools\n",
    "\n",
    "  \n",
    "#Feature extraction and splitting\n",
    "from sklearn.model_selection import train_test_split\n",
    "from sklearn.feature_extraction.text import TfidfVectorizer\n",
    "\n",
    "\n",
    "#Model\n",
    "from sklearn import naive_bayes\n",
    "from sklearn.svm import SVC\n",
    "\n",
    "#Evaluation\n",
    "from sklearn.metrics import confusion_matrix\n",
    "from sklearn import metrics\n",
    "from sklearn.metrics import accuracy_score, precision_score, recall_score, f1_score\n"
   ]
  },
  {
   "cell_type": "markdown",
   "metadata": {
    "id": "w6bqjertWZ-Y"
   },
   "source": [
    "**Confusion Matrix Library**"
   ]
  },
  {
   "cell_type": "code",
   "execution_count": 19,
   "metadata": {
    "id": "mkt2sNc9WdNf"
   },
   "outputs": [],
   "source": [
    "def plot_confusion_matrix(cm, classes, extention,\n",
    "                          normalize=False,\n",
    "                          title='Confusion matrix',\n",
    "                          cmap=plt.cm.Blues):\n",
    "    plt.imshow(cm, interpolation='nearest', cmap=cmap)\n",
    "    plt.title(title +\" \"+ extention)\n",
    "    plt.colorbar()\n",
    "    tick_marks = np.arange(len(classes))\n",
    "    plt.xticks(tick_marks, classes, rotation=45)\n",
    "    plt.yticks(tick_marks, classes)\n",
    "\n",
    "    if normalize:\n",
    "        cm = cm.astype('float') / cm.sum(axis=1)[:, np.newaxis]\n",
    "        print(\"Normalized confusion matrix\")\n",
    "    else:\n",
    "        print('Confusion matrix, without normalization')\n",
    "\n",
    "    thresh = cm.max() / 2.\n",
    "    for i, j in itertools.product(range(cm.shape[0]), range(cm.shape[1])):\n",
    "        plt.text(j, i, cm[i, j],\n",
    "                 horizontalalignment=\"center\",\n",
    "                 color=\"white\" if cm[i, j] > thresh else \"black\")\n",
    "\n",
    "    plt.tight_layout()\n",
    "    plt.ylabel('True label')\n",
    "    plt.xlabel('Predicted label')"
   ]
  },
  {
   "cell_type": "markdown",
   "metadata": {
    "id": "SKpBJU-IIuBY"
   },
   "source": [
    "#Dataset Loading"
   ]
  },
  {
   "cell_type": "code",
   "execution_count": 20,
   "metadata": {
    "colab": {
     "base_uri": "https://localhost:8080/",
     "height": 930
    },
    "id": "KHHhHPxmIs8q",
    "outputId": "20c6360b-c4dc-4874-dcbf-024ce90039d2"
   },
   "outputs": [
    {
     "data": {
      "text/html": [
       "<div>\n",
       "<style scoped>\n",
       "    .dataframe tbody tr th:only-of-type {\n",
       "        vertical-align: middle;\n",
       "    }\n",
       "\n",
       "    .dataframe tbody tr th {\n",
       "        vertical-align: top;\n",
       "    }\n",
       "\n",
       "    .dataframe thead th {\n",
       "        text-align: right;\n",
       "    }\n",
       "</style>\n",
       "<table border=\"1\" class=\"dataframe\">\n",
       "  <thead>\n",
       "    <tr style=\"text-align: right;\">\n",
       "      <th></th>\n",
       "      <th>Data</th>\n",
       "      <th>Label</th>\n",
       "    </tr>\n",
       "  </thead>\n",
       "  <tbody>\n",
       "    <tr>\n",
       "      <th>0</th>\n",
       "      <td>মুগ্ধ হয়ে গেলাম মামু. আর তোমায় কি কমু. বলো তোম...</td>\n",
       "      <td>1</td>\n",
       "    </tr>\n",
       "    <tr>\n",
       "      <th>1</th>\n",
       "      <td>এই কুত্তার বাচ্চাদের জন্য দেশটা আজ এমন অবস্তায়...</td>\n",
       "      <td>2</td>\n",
       "    </tr>\n",
       "    <tr>\n",
       "      <th>2</th>\n",
       "      <td>ভাই আপনার কথাই যাদু রয়েছে</td>\n",
       "      <td>1</td>\n",
       "    </tr>\n",
       "    <tr>\n",
       "      <th>3</th>\n",
       "      <td>উওরটা আমার অনেক ভাল লেগেছে</td>\n",
       "      <td>1</td>\n",
       "    </tr>\n",
       "    <tr>\n",
       "      <th>4</th>\n",
       "      <td>আমার নিজের গাড়ী নিয়ে কি সাজেক যেতে পারবো না ?...</td>\n",
       "      <td>0</td>\n",
       "    </tr>\n",
       "    <tr>\n",
       "      <th>5</th>\n",
       "      <td>যেমন : পরীক্ষার রেজাল্টের সময় , বিভিন্ন ব্যানি...</td>\n",
       "      <td>0</td>\n",
       "    </tr>\n",
       "    <tr>\n",
       "      <th>6</th>\n",
       "      <td>বিশ্বনন্দিত বিশ্ব জয় করা ইসলামের পাখিদের কোরআ...</td>\n",
       "      <td>2</td>\n",
       "    </tr>\n",
       "    <tr>\n",
       "      <th>7</th>\n",
       "      <td>সাপ্তাহিক মুসুল্লিদের কথাটাও তুলে ধরলে ভাই , চ...</td>\n",
       "      <td>1</td>\n",
       "    </tr>\n",
       "    <tr>\n",
       "      <th>8</th>\n",
       "      <td>আমি ভেবেছিলাম গালিগালাজ করে সেরা ছেলে সে ? গাল...</td>\n",
       "      <td>0</td>\n",
       "    </tr>\n",
       "    <tr>\n",
       "      <th>9</th>\n",
       "      <td>তুমি রেপারই হও , ডাক্তার হওয়ার দরকার নাই তোমার</td>\n",
       "      <td>0</td>\n",
       "    </tr>\n",
       "  </tbody>\n",
       "</table>\n",
       "</div>"
      ],
      "text/plain": [
       "                                                Data  Label\n",
       "0  মুগ্ধ হয়ে গেলাম মামু. আর তোমায় কি কমু. বলো তোম...      1\n",
       "1  এই কুত্তার বাচ্চাদের জন্য দেশটা আজ এমন অবস্তায়...      2\n",
       "2                          ভাই আপনার কথাই যাদু রয়েছে      1\n",
       "3                        উওরটা আমার অনেক ভাল লেগেছে       1\n",
       "4  আমার নিজের গাড়ী নিয়ে কি সাজেক যেতে পারবো না ?...      0\n",
       "5  যেমন : পরীক্ষার রেজাল্টের সময় , বিভিন্ন ব্যানি...      0\n",
       "6  বিশ্বনন্দিত বিশ্ব জয় করা ইসলামের পাখিদের কোরআ...      2\n",
       "7  সাপ্তাহিক মুসুল্লিদের কথাটাও তুলে ধরলে ভাই , চ...      1\n",
       "8  আমি ভেবেছিলাম গালিগালাজ করে সেরা ছেলে সে ? গাল...      0\n",
       "9    তুমি রেপারই হও , ডাক্তার হওয়ার দরকার নাই তোমার       0"
      ]
     },
     "execution_count": 20,
     "metadata": {},
     "output_type": "execute_result"
    }
   ],
   "source": [
    "data = pd.read_csv(\"../../ML/Coding//dataset/SentNoB Dataset/Train.csv\")\n",
    "data_test = pd.read_csv(\"../../ML/Coding/dataset/SentNoB Dataset/Test.csv\")\n",
    "data=data.append(data_test)\n",
    "data.head(10)"
   ]
  },
  {
   "cell_type": "code",
   "execution_count": 21,
   "metadata": {
    "colab": {
     "base_uri": "https://localhost:8080/"
    },
    "id": "b_0F-Y4owX_G",
    "outputId": "390af292-5857-4253-cc7f-a7e39eb7a841"
   },
   "outputs": [
    {
     "data": {
      "text/plain": [
       "(14161, 2)"
      ]
     },
     "execution_count": 21,
     "metadata": {},
     "output_type": "execute_result"
    }
   ],
   "source": [
    "data.shape"
   ]
  },
  {
   "cell_type": "code",
   "execution_count": 22,
   "metadata": {
    "colab": {
     "base_uri": "https://localhost:8080/",
     "height": 289
    },
    "id": "2IqPuMr3JAZZ",
    "outputId": "6d290d83-0687-463b-93fa-8163ae3b7416"
   },
   "outputs": [
    {
     "data": {
      "text/html": [
       "<div>\n",
       "<style scoped>\n",
       "    .dataframe tbody tr th:only-of-type {\n",
       "        vertical-align: middle;\n",
       "    }\n",
       "\n",
       "    .dataframe tbody tr th {\n",
       "        vertical-align: top;\n",
       "    }\n",
       "\n",
       "    .dataframe thead th {\n",
       "        text-align: right;\n",
       "    }\n",
       "</style>\n",
       "<table border=\"1\" class=\"dataframe\">\n",
       "  <thead>\n",
       "    <tr style=\"text-align: right;\">\n",
       "      <th></th>\n",
       "      <th>Data</th>\n",
       "      <th>Label</th>\n",
       "    </tr>\n",
       "  </thead>\n",
       "  <tbody>\n",
       "    <tr>\n",
       "      <th>0</th>\n",
       "      <td>মুগ্ধ হয়ে গেলাম মামু. আর তোমায় কি কমু. বলো তোম...</td>\n",
       "      <td>1</td>\n",
       "    </tr>\n",
       "    <tr>\n",
       "      <th>1</th>\n",
       "      <td>এই কুত্তার বাচ্চাদের জন্য দেশটা আজ এমন অবস্তায়...</td>\n",
       "      <td>2</td>\n",
       "    </tr>\n",
       "    <tr>\n",
       "      <th>2</th>\n",
       "      <td>ভাই আপনার কথাই যাদু রয়েছে</td>\n",
       "      <td>1</td>\n",
       "    </tr>\n",
       "    <tr>\n",
       "      <th>3</th>\n",
       "      <td>উওরটা আমার অনেক ভাল লেগেছে</td>\n",
       "      <td>1</td>\n",
       "    </tr>\n",
       "    <tr>\n",
       "      <th>4</th>\n",
       "      <td>আমার নিজের গাড়ী নিয়ে কি সাজেক যেতে পারবো না ?...</td>\n",
       "      <td>0</td>\n",
       "    </tr>\n",
       "  </tbody>\n",
       "</table>\n",
       "</div>"
      ],
      "text/plain": [
       "                                                Data  Label\n",
       "0  মুগ্ধ হয়ে গেলাম মামু. আর তোমায় কি কমু. বলো তোম...      1\n",
       "1  এই কুত্তার বাচ্চাদের জন্য দেশটা আজ এমন অবস্তায়...      2\n",
       "2                          ভাই আপনার কথাই যাদু রয়েছে      1\n",
       "3                        উওরটা আমার অনেক ভাল লেগেছে       1\n",
       "4  আমার নিজের গাড়ী নিয়ে কি সাজেক যেতে পারবো না ?...      0"
      ]
     },
     "execution_count": 22,
     "metadata": {},
     "output_type": "execute_result"
    }
   ],
   "source": [
    "data.head(5)"
   ]
  },
  {
   "cell_type": "markdown",
   "metadata": {
    "id": "h7ilHHdXLWsz"
   },
   "source": [
    "#Data Preprocessing"
   ]
  },
  {
   "cell_type": "markdown",
   "metadata": {
    "id": "GYLYa2ndJRjJ"
   },
   "source": [
    "**Converting Categorical Label to Numerical**"
   ]
  },
  {
   "cell_type": "code",
   "execution_count": 23,
   "metadata": {
    "colab": {
     "base_uri": "https://localhost:8080/"
    },
    "id": "JAxuDS9hJcZo",
    "outputId": "dd085bcb-249a-4f98-fbd4-2f1386affa2b"
   },
   "outputs": [
    {
     "data": {
      "text/plain": [
       "array([1, 2, 0])"
      ]
     },
     "execution_count": 23,
     "metadata": {},
     "output_type": "execute_result"
    }
   ],
   "source": [
    "data['Label'].unique()"
   ]
  },
  {
   "cell_type": "code",
   "execution_count": 24,
   "metadata": {
    "colab": {
     "base_uri": "https://localhost:8080/",
     "height": 289
    },
    "id": "H643Nlr30hIM",
    "outputId": "1b0ba851-8b17-4ba6-e5ae-759a172b2c28"
   },
   "outputs": [
    {
     "data": {
      "text/html": [
       "<div>\n",
       "<style scoped>\n",
       "    .dataframe tbody tr th:only-of-type {\n",
       "        vertical-align: middle;\n",
       "    }\n",
       "\n",
       "    .dataframe tbody tr th {\n",
       "        vertical-align: top;\n",
       "    }\n",
       "\n",
       "    .dataframe thead th {\n",
       "        text-align: right;\n",
       "    }\n",
       "</style>\n",
       "<table border=\"1\" class=\"dataframe\">\n",
       "  <thead>\n",
       "    <tr style=\"text-align: right;\">\n",
       "      <th></th>\n",
       "      <th>Data</th>\n",
       "      <th>Label</th>\n",
       "    </tr>\n",
       "  </thead>\n",
       "  <tbody>\n",
       "    <tr>\n",
       "      <th>0</th>\n",
       "      <td>মুগ্ধ হয়ে গেলাম মামু. আর তোমায় কি কমু. বলো তোম...</td>\n",
       "      <td>1</td>\n",
       "    </tr>\n",
       "    <tr>\n",
       "      <th>1</th>\n",
       "      <td>এই কুত্তার বাচ্চাদের জন্য দেশটা আজ এমন অবস্তায়...</td>\n",
       "      <td>2</td>\n",
       "    </tr>\n",
       "    <tr>\n",
       "      <th>2</th>\n",
       "      <td>ভাই আপনার কথাই যাদু রয়েছে</td>\n",
       "      <td>1</td>\n",
       "    </tr>\n",
       "    <tr>\n",
       "      <th>3</th>\n",
       "      <td>উওরটা আমার অনেক ভাল লেগেছে</td>\n",
       "      <td>1</td>\n",
       "    </tr>\n",
       "    <tr>\n",
       "      <th>4</th>\n",
       "      <td>আমার নিজের গাড়ী নিয়ে কি সাজেক যেতে পারবো না ?...</td>\n",
       "      <td>0</td>\n",
       "    </tr>\n",
       "  </tbody>\n",
       "</table>\n",
       "</div>"
      ],
      "text/plain": [
       "                                                Data  Label\n",
       "0  মুগ্ধ হয়ে গেলাম মামু. আর তোমায় কি কমু. বলো তোম...      1\n",
       "1  এই কুত্তার বাচ্চাদের জন্য দেশটা আজ এমন অবস্তায়...      2\n",
       "2                          ভাই আপনার কথাই যাদু রয়েছে      1\n",
       "3                        উওরটা আমার অনেক ভাল লেগেছে       1\n",
       "4  আমার নিজের গাড়ী নিয়ে কি সাজেক যেতে পারবো না ?...      0"
      ]
     },
     "execution_count": 24,
     "metadata": {},
     "output_type": "execute_result"
    }
   ],
   "source": [
    "data.head()"
   ]
  },
  {
   "cell_type": "code",
   "execution_count": 25,
   "metadata": {
    "colab": {
     "base_uri": "https://localhost:8080/"
    },
    "id": "X7JckpiGKFrO",
    "outputId": "0638cc4b-be95-4144-a647-56f879d4d653"
   },
   "outputs": [
    {
     "data": {
      "text/plain": [
       "Data     0\n",
       "Label    0\n",
       "dtype: int64"
      ]
     },
     "execution_count": 25,
     "metadata": {},
     "output_type": "execute_result"
    }
   ],
   "source": [
    "data.isnull().sum()"
   ]
  },
  {
   "cell_type": "code",
   "execution_count": 26,
   "metadata": {},
   "outputs": [],
   "source": [
    "data.rename(columns={\"Data\": \"Statement\", \"Label\": \"Class\"}, inplace=True)"
   ]
  },
  {
   "cell_type": "code",
   "execution_count": 27,
   "metadata": {},
   "outputs": [
    {
     "data": {
      "text/html": [
       "<div>\n",
       "<style scoped>\n",
       "    .dataframe tbody tr th:only-of-type {\n",
       "        vertical-align: middle;\n",
       "    }\n",
       "\n",
       "    .dataframe tbody tr th {\n",
       "        vertical-align: top;\n",
       "    }\n",
       "\n",
       "    .dataframe thead th {\n",
       "        text-align: right;\n",
       "    }\n",
       "</style>\n",
       "<table border=\"1\" class=\"dataframe\">\n",
       "  <thead>\n",
       "    <tr style=\"text-align: right;\">\n",
       "      <th></th>\n",
       "      <th>Statement</th>\n",
       "      <th>Class</th>\n",
       "    </tr>\n",
       "  </thead>\n",
       "  <tbody>\n",
       "    <tr>\n",
       "      <th>0</th>\n",
       "      <td>মুগ্ধ হয়ে গেলাম মামু. আর তোমায় কি কমু. বলো তোম...</td>\n",
       "      <td>1</td>\n",
       "    </tr>\n",
       "    <tr>\n",
       "      <th>1</th>\n",
       "      <td>এই কুত্তার বাচ্চাদের জন্য দেশটা আজ এমন অবস্তায়...</td>\n",
       "      <td>2</td>\n",
       "    </tr>\n",
       "    <tr>\n",
       "      <th>2</th>\n",
       "      <td>ভাই আপনার কথাই যাদু রয়েছে</td>\n",
       "      <td>1</td>\n",
       "    </tr>\n",
       "    <tr>\n",
       "      <th>3</th>\n",
       "      <td>উওরটা আমার অনেক ভাল লেগেছে</td>\n",
       "      <td>1</td>\n",
       "    </tr>\n",
       "    <tr>\n",
       "      <th>4</th>\n",
       "      <td>আমার নিজের গাড়ী নিয়ে কি সাজেক যেতে পারবো না ?...</td>\n",
       "      <td>0</td>\n",
       "    </tr>\n",
       "  </tbody>\n",
       "</table>\n",
       "</div>"
      ],
      "text/plain": [
       "                                           Statement  Class\n",
       "0  মুগ্ধ হয়ে গেলাম মামু. আর তোমায় কি কমু. বলো তোম...      1\n",
       "1  এই কুত্তার বাচ্চাদের জন্য দেশটা আজ এমন অবস্তায়...      2\n",
       "2                          ভাই আপনার কথাই যাদু রয়েছে      1\n",
       "3                        উওরটা আমার অনেক ভাল লেগেছে       1\n",
       "4  আমার নিজের গাড়ী নিয়ে কি সাজেক যেতে পারবো না ?...      0"
      ]
     },
     "execution_count": 27,
     "metadata": {},
     "output_type": "execute_result"
    }
   ],
   "source": [
    "data.head()"
   ]
  },
  {
   "cell_type": "code",
   "execution_count": 28,
   "metadata": {
    "colab": {
     "base_uri": "https://localhost:8080/",
     "height": 352
    },
    "id": "zMCtkqdXLHIW",
    "outputId": "82609c90-285b-4958-da2f-3977ca3d84b3"
   },
   "outputs": [
    {
     "data": {
      "text/plain": [
       "<AxesSubplot:xlabel='Class', ylabel='count'>"
      ]
     },
     "execution_count": 28,
     "metadata": {},
     "output_type": "execute_result"
    },
    {
     "data": {
      "image/png": "[encoded data removed]",
      "text/plain": [
       "<Figure size 432x288 with 1 Axes>"
      ]
     },
     "metadata": {
      "needs_background": "light"
     },
     "output_type": "display_data"
    }
   ],
   "source": [
    "sns.countplot(data['Class'])"
   ]
  },
  {
   "cell_type": "markdown",
   "metadata": {
    "id": "z3zZMXATMSQ-"
   },
   "source": [
    "#Defining independent and dependent variable"
   ]
  },
  {
   "cell_type": "code",
   "execution_count": 29,
   "metadata": {
    "id": "vqcwcTY0MS1a"
   },
   "outputs": [],
   "source": [
    "x = data['Statement']\n",
    "y = data['Class']\n",
    "#print(x.shape)\n",
    "#print(y.shape)"
   ]
  },
  {
   "cell_type": "markdown",
   "metadata": {
    "id": "gjPH35mVM0JT"
   },
   "source": [
    "#Regular Expression"
   ]
  },
  {
   "cell_type": "code",
   "execution_count": 30,
   "metadata": {
    "colab": {
     "base_uri": "https://localhost:8080/"
    },
    "id": "yS85UgfpMzO6",
    "outputId": "5e887116-97ad-4f4d-e66e-5a3855f7beab"
   },
   "outputs": [
    {
     "data": {
      "text/plain": [
       "0       মুগ্ধ হয়ে গেলাম মামু আর তোমায় কি কমু বলো তোমায়...\n",
       "1       এই কুত্তার বাচ্চাদের জন্য দেশটা আজ এমন অবস্তায়...\n",
       "2                               ভাই আপনার কথাই যাদু রয়েছে\n",
       "3                             উওরটা আমার অনেক ভাল লেগেছে \n",
       "4       আমার নিজের গাড়ী নিয়ে কি সাজেক যেতে পারবো না  ...\n",
       "                              ...                        \n",
       "1581         ঐ পুলিশ কুওারবাচচাদের গুলিকরে মেরে ফেলা উচিত\n",
       "1582      খিচুড়ি পর্ব মারাত্মক  বাকি টা দেখি তারপর কমেন্ট\n",
       "1583                     পাশের ফ্রেন্ডটা কি ছেলে না মেয়ে \n",
       "1584          মদ লকমান না খেলেও আমরা খাই এমনটাই মনে হচ্ছে\n",
       "1585    এইসমস্ত হায়েনা দের কোনো জেল না দিয়ে ফাঁসি দিয়ে...\n",
       "Name: Statement, Length: 14161, dtype: object"
      ]
     },
     "execution_count": 30,
     "metadata": {},
     "output_type": "execute_result"
    }
   ],
   "source": [
    "def clean(text):\n",
    "    text = re.sub('[%s]' % re.escape(punctuations), '', text)\n",
    "    text = re.sub('\\n', '', text)\n",
    "    text = re.sub('\\w*\\d\\w*', '', text)\n",
    "    text = re.sub('\\xa0', '', text)\n",
    "    \n",
    "    return text\n",
    "\n",
    "cleaned_text = x.apply(lambda x: clean(str(x)))\n",
    "cleaned_text"
   ]
  },
  {
   "cell_type": "markdown",
   "metadata": {
    "id": "zi2-OSIiNemF"
   },
   "source": [
    "#Applying TF_IDF"
   ]
  },
  {
   "cell_type": "code",
   "execution_count": 31,
   "metadata": {
    "colab": {
     "base_uri": "https://localhost:8080/"
    },
    "id": "SfFggBncNi9W",
    "outputId": "645a549c-d36d-4fa5-b81a-17d95f8fcd93"
   },
   "outputs": [
    {
     "name": "stderr",
     "output_type": "stream",
     "text": [
      "/home/ubuntu/.local/lib/python3.8/site-packages/sklearn/feature_extraction/text.py:388: UserWarning: Your stop_words may be inconsistent with your preprocessing. Tokenizing the stop words generated tokens ['অথব', 'অন', 'অবধ', 'অবশ', 'অর', 'আগ', 'আছ', 'আদ', 'আপন', 'আব', 'আম', 'আমর', 'ইত', 'ইহ', 'উই', 'উক', 'উচ', 'উন', 'এক', 'একট', 'একব', 'এখ', 'এট', 'এতট', 'এদ', 'এব', 'এমনক', 'ওক', 'ওখ', 'ওদ', 'ওয়', 'কট', 'কব', 'কর', 'করছ', 'করত', 'করব', 'করল', 'কয়', 'খত', 'চল', 'জনক', 'তথ', 'তব', 'তর', 'ধর', 'নঐ', 'নও', 'নত', 'পক', 'পষ', 'ফল', 'বদল', 'বর', 'বল', 'বলত', 'বস', 'বহ', 'বয়', 'মত', 'মধ', 'মন', 'যওজ', 'যতট', 'যথ', 'যদ', 'যন', 'যবহ', 'যভ', 'যম', 'রও', 'রণ', 'রত', 'রপর', 'রভ', 'রয়', 'ষয়ট', 'সঙ', 'সম', 'সমস', 'হইত', 'হইব', 'হইয়', 'হওয়', 'হচ', 'হব', 'হয়ত', 'হয়ন'] not in stop_words.\n",
      "  warnings.warn('Your stop_words may be inconsistent with '\n"
     ]
    },
    {
     "data": {
      "text/plain": [
       "(14161, 3070)"
      ]
     },
     "execution_count": 31,
     "metadata": {},
     "output_type": "execute_result"
    }
   ],
   "source": [
    "vector=TfidfVectorizer(use_idf=True,stop_words=stopwords, ngram_range=(1, 1))\n",
    "vector.fit(cleaned_text)\n",
    "statement_tokenized = vector.fit_transform(cleaned_text)\n",
    "statement_tokenized.shape"
   ]
  },
  {
   "cell_type": "markdown",
   "metadata": {
    "id": "mcj5lXjdNvjj"
   },
   "source": [
    "#Dataset Splitting"
   ]
  },
  {
   "cell_type": "code",
   "execution_count": 32,
   "metadata": {
    "colab": {
     "base_uri": "https://localhost:8080/"
    },
    "id": "cA_hF8Q-Nxh6",
    "outputId": "2b8de24e-8ec2-471c-87e9-ba116e69d84b"
   },
   "outputs": [
    {
     "name": "stdout",
     "output_type": "stream",
     "text": [
      "(11328, 3070)\n",
      "(2833, 3070)\n",
      "(9968, 3070)\n",
      "(1360, 3070)\n"
     ]
    }
   ],
   "source": [
    "x_train, x_test, y_train, y_test = train_test_split(statement_tokenized, y, random_state=4,test_size=0.2)\n",
    "x_val_train, x_val_test, y_val_train, y_val_test = train_test_split(x_train, y_train , random_state=4,test_size=0.12)\n",
    "print(x_train.shape)  # 80% Train set\n",
    "print(x_test.shape)   # 20% Test set\n",
    "print(x_val_train.shape)  # 70% Train_val set\n",
    "print(x_val_test.shape)     # 10% Test_val set\n",
    "\n",
    "#print(type(x_val_train))"
   ]
  },
  {
   "cell_type": "markdown",
   "metadata": {
    "id": "G9w4rP9QgNim"
   },
   "source": [
    "## SVM model testing "
   ]
  },
  {
   "cell_type": "markdown",
   "metadata": {
    "id": "y_yxayKRkDE1"
   },
   "source": [
    "**Finding best \"C\" and \"gamma\" value**"
   ]
  },
  {
   "cell_type": "code",
   "execution_count": 33,
   "metadata": {
    "colab": {
     "base_uri": "https://localhost:8080/"
    },
    "id": "fZHF6LLXiXv3",
    "outputId": "edb49893-feb3-4b01-c9fd-68c168c0d159"
   },
   "outputs": [
    {
     "name": "stdout",
     "output_type": "stream",
     "text": [
      "0.6169117647058824\n",
      "10\n",
      "1\n"
     ]
    }
   ],
   "source": [
    "C_list = [0.1, 1, 10, 100]\n",
    "gamma_list = [0.001, 0.01, 0.1, 1]\n",
    "\n",
    "\n",
    "\n",
    "best_acc = -np.inf\n",
    "\n",
    "for C in C_list:\n",
    "  for gamma in gamma_list:\n",
    "    svm_test = SVC(C=C, gamma=gamma)\n",
    "    svm_test.fit(x_val_train, y_val_train)\n",
    "    predictions = svm_test.predict(x_val_test)\n",
    "    acc = accuracy_score(y_val_test, predictions)\n",
    "    if acc > best_acc:\n",
    "      best_acc = acc\n",
    "      best_C = C\n",
    "      best_gamma = gamma\n",
    "\n",
    "print(best_acc)\n",
    "print(best_C)\n",
    "print(best_gamma)"
   ]
  },
  {
   "cell_type": "markdown",
   "metadata": {
    "id": "piajrYSZkL0p"
   },
   "source": [
    "**Training SVM**"
   ]
  },
  {
   "cell_type": "code",
   "execution_count": 34,
   "metadata": {
    "colab": {
     "base_uri": "https://localhost:8080/"
    },
    "id": "6V6beN1siE-2",
    "outputId": "d286a589-8612-4492-b11c-826346e2e1b3"
   },
   "outputs": [
    {
     "data": {
      "text/plain": [
       "SVC(C=10, gamma=1, kernel='linear')"
      ]
     },
     "execution_count": 34,
     "metadata": {},
     "output_type": "execute_result"
    }
   ],
   "source": [
    "svm = SVC(C=best_C, kernel='linear', gamma=best_gamma)\n",
    "svm.fit(x_train, y_train)"
   ]
  },
  {
   "cell_type": "code",
   "execution_count": 35,
   "metadata": {
    "colab": {
     "base_uri": "https://localhost:8080/"
    },
    "id": "4iftL5PRj-L7",
    "outputId": "dcc0f309-3b8c-475b-c504-c3ab0dfca204"
   },
   "outputs": [
    {
     "name": "stdout",
     "output_type": "stream",
     "text": [
      "Accuracy : 0.5647723261560184\n"
     ]
    }
   ],
   "source": [
    "m3 = svm.predict(x_test)\n",
    "\n",
    "a2 = accuracy_score(y_test, m3)\n",
    "print(\"Accuracy :\", a2)\n",
    "\n",
    "# ms_pre = precision_score(y_test, m3)\n",
    "# print(\"Precision :\", ms_pre)\n",
    "\n",
    "# ms_rec = recall_score(y_test, m3)\n",
    "# print(\"Recall :\", ms_rec)\n",
    "\n",
    "# ms_f3 = f1_score(y_test, m3)\n",
    "# print(\"F1 :\", ms_f3)"
   ]
  },
  {
   "cell_type": "code",
   "execution_count": 36,
   "metadata": {
    "colab": {
     "base_uri": "https://localhost:8080/",
     "height": 329
    },
    "id": "1vl-ayu4mQ6O",
    "outputId": "ca51e726-e9c0-4f1a-b24b-979624c280c9"
   },
   "outputs": [
    {
     "name": "stdout",
     "output_type": "stream",
     "text": [
      "Confusion matrix, without normalization\n"
     ]
    },
    {
     "data": {
      "image/png": "[encoded data removed]",
      "text/plain": [
       "<Figure size 432x288 with 2 Axes>"
      ]
     },
     "metadata": {
      "needs_background": "light"
     },
     "output_type": "display_data"
    }
   ],
   "source": [
    "cm = metrics.confusion_matrix(y_test, m3)\n",
    "plot_confusion_matrix(cm, classes=['0', '1','2'],extention='on Training Set')"
   ]
  },
  {
   "cell_type": "code",
   "execution_count": null,
   "metadata": {},
   "outputs": [],
   "source": []
  },
  {
   "cell_type": "code",
   "execution_count": 39,
   "metadata": {},
   "outputs": [],
   "source": [
    "# Import necessary modules\n",
    "from sklearn.neighbors import KNeighborsClassifier\n",
    "from sklearn.model_selection import train_test_split\n",
    "\n"
   ]
  },
  {
   "cell_type": "code",
   "execution_count": 50,
   "metadata": {},
   "outputs": [
    {
     "name": "stdout",
     "output_type": "stream",
     "text": [
      "Accuracy : 0.44687610307094955\n"
     ]
    }
   ],
   "source": [
    "knn = KNeighborsClassifier(n_neighbors=5)\n",
    "\n",
    "knn.fit(x_train, y_train)\n",
    "\n",
    "# # Predict on dataset which model has not seen before\n",
    "# print(knn.predict(y_test))\n",
    "\n",
    "m3 = knn.predict(x_test)\n",
    "\n",
    "a2 = accuracy_score(y_test, m3)\n",
    "print(\"Accuracy :\", a2)\n"
   ]
  },
  {
   "cell_type": "code",
   "execution_count": 45,
   "metadata": {},
   "outputs": [
    {
     "name": "stdout",
     "output_type": "stream",
     "text": [
      "Confusion matrix, without normalization\n"
     ]
    },
    {
     "data": {
      "image/png": "[encoded data removed]",
      "text/plain": [
       "<Figure size 432x288 with 2 Axes>"
      ]
     },
     "metadata": {
      "needs_background": "light"
     },
     "output_type": "display_data"
    }
   ],
   "source": [
    "cm = metrics.confusion_matrix(y_test, m3)\n",
    "plot_confusion_matrix(cm, classes=['0', '1','2'],extention='on Training Set')"
   ]
  },
  {
   "cell_type": "code",
   "execution_count": null,
   "metadata": {},
   "outputs": [],
   "source": []
  },
  {
   "cell_type": "code",
   "execution_count": null,
   "metadata": {},
   "outputs": [],
   "source": []
  }
 ],
 "metadata": {
  "colab": {
   "collapsed_sections": [
    "gGl5GhynFL3Q",
    "6Uq8UdV5E6ih",
    "SKpBJU-IIuBY",
    "h7ilHHdXLWsz",
    "z3zZMXATMSQ-",
    "gjPH35mVM0JT",
    "zi2-OSIiNemF"
   ],
   "name": "ML_Project_v1(Stopwords List).ipynb",
   "provenance": []
  },
  "kernelspec": {
   "display_name": "Python 3 (ipykernel)",
   "language": "python",
   "name": "python3"
  },
  "language_info": {
   "codemirror_mode": {
    "name": "ipython",
    "version": 3
   },
   "file_extension": ".py",
   "mimetype": "text/x-python",
   "name": "python",
   "nbconvert_exporter": "python",
   "pygments_lexer": "ipython3",
   "version": "3.8.10"
  }
 },
 "nbformat": 4,
 "nbformat_minor": 1
}
