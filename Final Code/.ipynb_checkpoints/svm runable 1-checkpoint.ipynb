{
 "cells": [
  {
   "cell_type": "markdown",
   "metadata": {
    "id": "gGl5GhynFL3Q"
   },
   "source": [
    "#Bangla Fonts & Libraries"
   ]
  },
  {
   "cell_type": "code",
   "execution_count": 1,
   "metadata": {
    "id": "4owPtM3HFDLv"
   },
   "outputs": [],
   "source": [
    "# pip install bnlp_toolkit"
   ]
  },
  {
   "cell_type": "code",
   "execution_count": 2,
   "metadata": {
    "id": "5S-AOP5CFd0v"
   },
   "outputs": [
    {
     "name": "stderr",
     "output_type": "stream",
     "text": [
      "/home/ubuntu/.local/lib/python3.8/site-packages/gensim/similarities/__init__.py:15: UserWarning: The gensim.similarities.levenshtein submodule is disabled, because the optional Levenshtein package <https://pypi.org/project/python-Levenshtein/> is unavailable. Install Levenhstein (e.g. `pip install python-Levenshtein`) to suppress this warning.\n",
      "  warnings.warn(msg)\n"
     ]
    }
   ],
   "source": [
    "import re\n",
    "from bnlp.corpus import punctuations "
   ]
  },
  {
   "cell_type": "code",
   "execution_count": 3,
   "metadata": {
    "id": "HH6K0-Htlf3O"
   },
   "outputs": [],
   "source": [
    "stopwords = [\"অবশ্য\",\"অনেক\",\"অনেকে\",\"অনেকেই\",\"অন্তত\",\"অথবা\",\"অথচ\",\"অর্থাত\",\"অন্য\",\"আজ\",\"আছে\",\"আপনার\",\"আপনি\",\"আবার\",\"আমরা\",\"আমাকে\",\"আমাদের\"\n",
    "             ,\"আমার\",\"আমি\",\"আরও\",\"আর\",\"আগে\",\"আগেই\",\"আই\",\"অতএব\",\"আগামী\",\"অবধি\",\"অনুযায়ী\",\"আদ্যভাগে\",\"এই\",\"একই\",\"একে\",\"একটি\",\"এখন\",\"এখনও\"\n",
    "             ,\"এখানে\",\"এখানেই\",\"এটি\",\"এটা\",\"এটাই\",\"এতটাই\",\"এবং\",\"একবার\",\"এবার\",\"এদের\",\"এঁদের\",\"এমন\",\"এমনকী\",\"এল\",\"এর\",\"এরা\",\"এঁরা\",\"এস\",\"এত\"\n",
    "             ,\"এতে\",\"এসে\",\"একে\",\"এ\",\"ঐ\",\" ই\",\"ইহা\",\"ইত্যাদি\",\"উনি\",\"উপর\",\"উপরে\",\"উচিত\",\"ও\",\"ওই\",\"ওর\",\"ওরা\",\"ওঁর\",\"ওঁরা\",\"ওকে\",\"ওদের\",\"ওঁদের\",\n",
    "             \"ওখানে\",\"কত\",\"কবে\",\"করতে\",\"কয়েক\",\"কয়েকটি\",\"করবে\",\"করলেন\",\"করার\",\"কারও\",\"করা\",\"করি\",\"করিয়ে\",\"করার\",\"করাই\",\"করলে\",\"করলেন\",\n",
    "             \"করিতে\",\"করিয়া\",\"করেছিলেন\",\"করছে\",\"করছেন\",\"করেছেন\",\"করেছে\",\"করেন\",\"করবেন\",\"করায়\",\"করে\",\"করেই\",\"কাছ\",\"কাছে\",\"কাজে\",\"কারণ\",\"কিছু\",\n",
    "             \"কিছুই\",\"কিন্তু\",\"কিংবা\",\"কি\",\"কী\",\"কেউ\",\"কেউই\",\"কাউকে\",\"কেন\",\"কে\",\"কোনও\",\"কোনো\",\"কোন\",\"কখনও\",\"ক্ষেত্রে\",\"খুব\tগুলি\",\"গিয়ে\",\"গিয়েছে\",\n",
    "             \"গেছে\",\"গেল\",\"গেলে\",\"গোটা\",\"চলে\",\"ছাড়া\",\"ছাড়াও\",\"ছিলেন\",\"ছিল\",'ছিলো',\"জন্য\",\"জানা\",\"ঠিক\",\"তিনি\",\"তিনঐ\",\"তিনিও\",\"তখন\",\"তবে\",\"তবু\",\"তাঁদের\",\n",
    "             \"তাঁাহারা\",\"তাঁরা\",\"তাঁর\",\"তাঁকে\",\"তাই\",\"তেমন\",\"তাকে\",\"তাহা\",\"তাহাতে\",\"তাহার\",\"তাদের\",\"তারপর\",\"তারা\",\"তারৈ\",\"তার\",\"তাহলে\",\"তিনি\",\"তা\",\n",
    "             \"তাও\",\"তাতে\",\"তো\",\"তত\",\"তুমি\",\"তোমার\",\"তথা\",\"থাকে\",\"থাকা\",\"থাকায়\",\"থেকে\",\"থেকেও\",\"থাকবে\",\"থাকেন\",\"থাকবেন\",\"থেকেই\",\"দিকে\",\"দিতে\",\n",
    "             \"দিয়ে\",\"দিয়েছে\",\"দিয়েছেন\",\"দিলেন\",\"দু\",\"দুটি\",\"দুটো\",\"দেয়\",\"দেওয়া\",\"দেওয়ার\",\"দেখা\",\"দেখে\",\"দেখতে\",\"দ্বারা\",\"ধরে\",\"ধরা\",\"নয়\",\"নানা\",\"না\",\n",
    "             \"নাকি\",\"নাগাদ\",\"নিতে\",\"নিজে\",\"নিজেই\",\"নিজের\",\"নিজেদের\",\"নিয়ে\",\"নেওয়া\",\"নেওয়ার\",\"নেই\",\"নাই\",\"পক্ষে\",\"পর্যন্ত\",\"পাওয়া\",\"পারেন\",\"পারি\",\"পারে\",\n",
    "             \"পরে\",\"পরেই\",\"পরেও\",\"পর\",\"পেয়ে\",\"প্রতি\",\"প্রভৃতি\",\"প্রায়\",\"ফের\",\"ফলে\",\"ফিরে\",\"ব্যবহার\",\"বলতে\",\"বললেন\",\"বলেছেন\",\"বলল\",\"বলা\",\"বলেন\",\"বলে\",\n",
    "             \"বহু\",\"বসে\",\"বার\",\"বা\",\"বিনা\",\"বরং\",\"বদলে\",\"বাদে\",\"বার\",\"বিশেষ\",\"বিভিন্ন\tবিষয়টি\",\"ব্যবহার\",\"ব্যাপারে\",\"ভাবে\",\"ভাবেই\",\"মধ্যে\",\"মধ্যেই\",\"মধ্যেও\",\n",
    "             \"মধ্যভাগে\",\"মাধ্যমে\",\"মাত্র\",\"মতো\",\"মতোই\",\"মোটেই\",\"যখন\",\"যদি\",\"যদিও\",\"যাবে\",\"যায়\",\"যাকে\",\"যাওয়া\",\"যাওয়ার\",\"যত\",\"যতটা\",\"যা\",\"যার\",\"যারা\",\n",
    "             \"যাঁর\",\"যাঁরা\",\"যাদের\",\"যান\",\"যাচ্ছে\",\"যেতে\",\"যাতে\",\"যেন\",\"যেমন\",\"যেখানে\",\"যিনি\",\"যে\",\"রেখে\",\"রাখা\",\"রয়েছে\",\"রকম\",\"শুধু\",\"সঙ্গে\",\"সঙ্গেও\",\n",
    "             \"সমস্ত\",\"সব\",\"সবার\",\"সহ\",\"সুতরাং\",\"সহিত\",\"সেই\",\"সেটা\",\"সেটি\",\"সেটাই\",\"সেটাও\",\"সম্প্রতি\",\"সেখান\",\"সেখানে\",\"সে\",\"স্পষ্ট\",\"স্বয়ং\",\"হইতে\",\"হইবে\",\n",
    "             \"হৈলে\",\"হইয়া\",\"হচ্ছে\",\"হত\",\"হতে\",\"হতেই\",\"হবে\",\"হবেন\",\"হয়েছিল\",\"হয়েছে\",\"হয়েছেন\",\"হয়ে\",\"হয়নি\",\"হয়\",\"হয়েই\",\"হয়তো\",\"হল\",\"হলে\",\"হলেই\",\"হলেও\",\n",
    "             \"হলো\",\"হিসাবে\",\"হওয়া\",\"হওয়ার\",\"হওয়ায়\",\"হন\",\"হোক\",\"জন\",\"জনকে\",\"জনের\",\"জানতে\",\"জানায়\",\"জানিয়ে\",\"জানানো\",\"জানিয়েছে\",\"জন্য\",\"জন্যওজে\",\n",
    "             \"জে\",\"বেশ\",\"দেন\",\"তুলে\",\"ছিলেন\",\"চান\",\"চায়\",\"চেয়ে\",\"মোট\",\"যথেষ্ট\",\"টি\"]"
   ]
  },
  {
   "cell_type": "code",
   "execution_count": 4,
   "metadata": {
    "colab": {
     "base_uri": "https://localhost:8080/"
    },
    "id": "klxwb5j3FwdQ",
    "outputId": "9bcf3f4d-81ed-4ef3-d385-d4b1445fa203"
   },
   "outputs": [],
   "source": [
    "# !wget https://www.omicronlab.com/download/fonts/kalpurush.ttf"
   ]
  },
  {
   "cell_type": "code",
   "execution_count": 5,
   "metadata": {
    "colab": {
     "base_uri": "https://localhost:8080/"
    },
    "id": "zB4TBjpdF0AS",
    "outputId": "a4a34274-57b6-4354-ad1d-7c43ee97ceb5"
   },
   "outputs": [],
   "source": [
    "# !wget https://www.omicronlab.com/download/fonts/Siyamrupali.ttf"
   ]
  },
  {
   "cell_type": "markdown",
   "metadata": {
    "id": "6Uq8UdV5E6ih"
   },
   "source": [
    "#Importing Libraries"
   ]
  },
  {
   "cell_type": "code",
   "execution_count": 6,
   "metadata": {
    "id": "aoWOPMflE-lD"
   },
   "outputs": [],
   "source": [
    "#Libraries\n",
    "import pandas as pd\n",
    "import matplotlib.pyplot as plt\n",
    "%matplotlib inline\n",
    "import seaborn as sns\n",
    "import numpy as np\n",
    "import itertools\n",
    "\n",
    "  \n",
    "#Feature extraction and splitting\n",
    "from sklearn.model_selection import train_test_split\n",
    "from sklearn.feature_extraction.text import TfidfVectorizer\n",
    "\n",
    "\n",
    "#Model\n",
    "from sklearn import naive_bayes\n",
    "from sklearn.svm import SVC\n",
    "\n",
    "#Evaluation\n",
    "from sklearn.metrics import confusion_matrix\n",
    "from sklearn import metrics\n",
    "from sklearn.metrics import accuracy_score, precision_score, recall_score, f1_score\n"
   ]
  },
  {
   "cell_type": "markdown",
   "metadata": {
    "id": "w6bqjertWZ-Y"
   },
   "source": [
    "**Confusion Matrix Library**"
   ]
  },
  {
   "cell_type": "code",
   "execution_count": 7,
   "metadata": {
    "id": "mkt2sNc9WdNf"
   },
   "outputs": [],
   "source": [
    "def plot_confusion_matrix(cm, classes, extention,\n",
    "                          normalize=False,\n",
    "                          title='Confusion matrix',\n",
    "                          cmap=plt.cm.Blues):\n",
    "    plt.imshow(cm, interpolation='nearest', cmap=cmap)\n",
    "    plt.title(title +\" \"+ extention)\n",
    "    plt.colorbar()\n",
    "    tick_marks = np.arange(len(classes))\n",
    "    plt.xticks(tick_marks, classes, rotation=45)\n",
    "    plt.yticks(tick_marks, classes)\n",
    "\n",
    "    if normalize:\n",
    "        cm = cm.astype('float') / cm.sum(axis=1)[:, np.newaxis]\n",
    "        print(\"Normalized confusion matrix\")\n",
    "    else:\n",
    "        print('Confusion matrix, without normalization')\n",
    "\n",
    "    thresh = cm.max() / 2.\n",
    "    for i, j in itertools.product(range(cm.shape[0]), range(cm.shape[1])):\n",
    "        plt.text(j, i, cm[i, j],\n",
    "                 horizontalalignment=\"center\",\n",
    "                 color=\"white\" if cm[i, j] > thresh else \"black\")\n",
    "\n",
    "    plt.tight_layout()\n",
    "    plt.ylabel('True label')\n",
    "    plt.xlabel('Predicted label')"
   ]
  },
  {
   "cell_type": "markdown",
   "metadata": {
    "id": "SKpBJU-IIuBY"
   },
   "source": [
    "#Dataset Loading"
   ]
  },
  {
   "cell_type": "code",
   "execution_count": 8,
   "metadata": {
    "colab": {
     "base_uri": "https://localhost:8080/",
     "height": 930
    },
    "id": "KHHhHPxmIs8q",
    "outputId": "20c6360b-c4dc-4874-dcbf-024ce90039d2"
   },
   "outputs": [
    {
     "ename": "FileNotFoundError",
     "evalue": "[Errno 2] No such file or directory: '../Desktop/ML/Coding/dataset/SentNoB Dataset/Train.csv'",
     "output_type": "error",
     "traceback": [
      "\u001b[0;31m---------------------------------------------------------------------------\u001b[0m",
      "\u001b[0;31mFileNotFoundError\u001b[0m                         Traceback (most recent call last)",
      "\u001b[0;32m/tmp/ipykernel_66707/1420302772.py\u001b[0m in \u001b[0;36m<module>\u001b[0;34m\u001b[0m\n\u001b[0;32m----> 1\u001b[0;31m \u001b[0mdata\u001b[0m \u001b[0;34m=\u001b[0m \u001b[0mpd\u001b[0m\u001b[0;34m.\u001b[0m\u001b[0mread_csv\u001b[0m\u001b[0;34m(\u001b[0m\u001b[0;34m\"../Desktop/ML/Coding/dataset/SentNoB Dataset/Train.csv\"\u001b[0m\u001b[0;34m)\u001b[0m\u001b[0;34m\u001b[0m\u001b[0;34m\u001b[0m\u001b[0m\n\u001b[0m\u001b[1;32m      2\u001b[0m \u001b[0mdata_test\u001b[0m \u001b[0;34m=\u001b[0m \u001b[0mpd\u001b[0m\u001b[0;34m.\u001b[0m\u001b[0mread_csv\u001b[0m\u001b[0;34m(\u001b[0m\u001b[0;34m\"../Desktop/ML/Coding/dataset/SentNoB Dataset/Train.csv\"\u001b[0m\u001b[0;34m)\u001b[0m\u001b[0;34m\u001b[0m\u001b[0;34m\u001b[0m\u001b[0m\n\u001b[1;32m      3\u001b[0m \u001b[0mdata\u001b[0m\u001b[0;34m=\u001b[0m\u001b[0mdata\u001b[0m\u001b[0;34m.\u001b[0m\u001b[0mappend\u001b[0m\u001b[0;34m(\u001b[0m\u001b[0mdata_test\u001b[0m\u001b[0;34m)\u001b[0m\u001b[0;34m;\u001b[0m\u001b[0;34m\u001b[0m\u001b[0;34m\u001b[0m\u001b[0m\n\u001b[1;32m      4\u001b[0m \u001b[0mdata\u001b[0m\u001b[0;34m.\u001b[0m\u001b[0mhead\u001b[0m\u001b[0;34m(\u001b[0m\u001b[0;36m10\u001b[0m\u001b[0;34m)\u001b[0m\u001b[0;34m\u001b[0m\u001b[0;34m\u001b[0m\u001b[0m\n",
      "\u001b[0;32m~/.local/lib/python3.8/site-packages/pandas/util/_decorators.py\u001b[0m in \u001b[0;36mwrapper\u001b[0;34m(*args, **kwargs)\u001b[0m\n\u001b[1;32m    309\u001b[0m                     \u001b[0mstacklevel\u001b[0m\u001b[0;34m=\u001b[0m\u001b[0mstacklevel\u001b[0m\u001b[0;34m,\u001b[0m\u001b[0;34m\u001b[0m\u001b[0;34m\u001b[0m\u001b[0m\n\u001b[1;32m    310\u001b[0m                 )\n\u001b[0;32m--> 311\u001b[0;31m             \u001b[0;32mreturn\u001b[0m \u001b[0mfunc\u001b[0m\u001b[0;34m(\u001b[0m\u001b[0;34m*\u001b[0m\u001b[0margs\u001b[0m\u001b[0;34m,\u001b[0m \u001b[0;34m**\u001b[0m\u001b[0mkwargs\u001b[0m\u001b[0;34m)\u001b[0m\u001b[0;34m\u001b[0m\u001b[0;34m\u001b[0m\u001b[0m\n\u001b[0m\u001b[1;32m    312\u001b[0m \u001b[0;34m\u001b[0m\u001b[0m\n\u001b[1;32m    313\u001b[0m         \u001b[0;32mreturn\u001b[0m \u001b[0mwrapper\u001b[0m\u001b[0;34m\u001b[0m\u001b[0;34m\u001b[0m\u001b[0m\n",
      "\u001b[0;32m~/.local/lib/python3.8/site-packages/pandas/io/parsers/readers.py\u001b[0m in \u001b[0;36mread_csv\u001b[0;34m(filepath_or_buffer, sep, delimiter, header, names, index_col, usecols, squeeze, prefix, mangle_dupe_cols, dtype, engine, converters, true_values, false_values, skipinitialspace, skiprows, skipfooter, nrows, na_values, keep_default_na, na_filter, verbose, skip_blank_lines, parse_dates, infer_datetime_format, keep_date_col, date_parser, dayfirst, cache_dates, iterator, chunksize, compression, thousands, decimal, lineterminator, quotechar, quoting, doublequote, escapechar, comment, encoding, encoding_errors, dialect, error_bad_lines, warn_bad_lines, on_bad_lines, delim_whitespace, low_memory, memory_map, float_precision, storage_options)\u001b[0m\n\u001b[1;32m    584\u001b[0m     \u001b[0mkwds\u001b[0m\u001b[0;34m.\u001b[0m\u001b[0mupdate\u001b[0m\u001b[0;34m(\u001b[0m\u001b[0mkwds_defaults\u001b[0m\u001b[0;34m)\u001b[0m\u001b[0;34m\u001b[0m\u001b[0;34m\u001b[0m\u001b[0m\n\u001b[1;32m    585\u001b[0m \u001b[0;34m\u001b[0m\u001b[0m\n\u001b[0;32m--> 586\u001b[0;31m     \u001b[0;32mreturn\u001b[0m \u001b[0m_read\u001b[0m\u001b[0;34m(\u001b[0m\u001b[0mfilepath_or_buffer\u001b[0m\u001b[0;34m,\u001b[0m \u001b[0mkwds\u001b[0m\u001b[0;34m)\u001b[0m\u001b[0;34m\u001b[0m\u001b[0;34m\u001b[0m\u001b[0m\n\u001b[0m\u001b[1;32m    587\u001b[0m \u001b[0;34m\u001b[0m\u001b[0m\n\u001b[1;32m    588\u001b[0m \u001b[0;34m\u001b[0m\u001b[0m\n",
      "\u001b[0;32m~/.local/lib/python3.8/site-packages/pandas/io/parsers/readers.py\u001b[0m in \u001b[0;36m_read\u001b[0;34m(filepath_or_buffer, kwds)\u001b[0m\n\u001b[1;32m    480\u001b[0m \u001b[0;34m\u001b[0m\u001b[0m\n\u001b[1;32m    481\u001b[0m     \u001b[0;31m# Create the parser.\u001b[0m\u001b[0;34m\u001b[0m\u001b[0;34m\u001b[0m\u001b[0;34m\u001b[0m\u001b[0m\n\u001b[0;32m--> 482\u001b[0;31m     \u001b[0mparser\u001b[0m \u001b[0;34m=\u001b[0m \u001b[0mTextFileReader\u001b[0m\u001b[0;34m(\u001b[0m\u001b[0mfilepath_or_buffer\u001b[0m\u001b[0;34m,\u001b[0m \u001b[0;34m**\u001b[0m\u001b[0mkwds\u001b[0m\u001b[0;34m)\u001b[0m\u001b[0;34m\u001b[0m\u001b[0;34m\u001b[0m\u001b[0m\n\u001b[0m\u001b[1;32m    483\u001b[0m \u001b[0;34m\u001b[0m\u001b[0m\n\u001b[1;32m    484\u001b[0m     \u001b[0;32mif\u001b[0m \u001b[0mchunksize\u001b[0m \u001b[0;32mor\u001b[0m \u001b[0miterator\u001b[0m\u001b[0;34m:\u001b[0m\u001b[0;34m\u001b[0m\u001b[0;34m\u001b[0m\u001b[0m\n",
      "\u001b[0;32m~/.local/lib/python3.8/site-packages/pandas/io/parsers/readers.py\u001b[0m in \u001b[0;36m__init__\u001b[0;34m(self, f, engine, **kwds)\u001b[0m\n\u001b[1;32m    809\u001b[0m             \u001b[0mself\u001b[0m\u001b[0;34m.\u001b[0m\u001b[0moptions\u001b[0m\u001b[0;34m[\u001b[0m\u001b[0;34m\"has_index_names\"\u001b[0m\u001b[0;34m]\u001b[0m \u001b[0;34m=\u001b[0m \u001b[0mkwds\u001b[0m\u001b[0;34m[\u001b[0m\u001b[0;34m\"has_index_names\"\u001b[0m\u001b[0;34m]\u001b[0m\u001b[0;34m\u001b[0m\u001b[0;34m\u001b[0m\u001b[0m\n\u001b[1;32m    810\u001b[0m \u001b[0;34m\u001b[0m\u001b[0m\n\u001b[0;32m--> 811\u001b[0;31m         \u001b[0mself\u001b[0m\u001b[0;34m.\u001b[0m\u001b[0m_engine\u001b[0m \u001b[0;34m=\u001b[0m \u001b[0mself\u001b[0m\u001b[0;34m.\u001b[0m\u001b[0m_make_engine\u001b[0m\u001b[0;34m(\u001b[0m\u001b[0mself\u001b[0m\u001b[0;34m.\u001b[0m\u001b[0mengine\u001b[0m\u001b[0;34m)\u001b[0m\u001b[0;34m\u001b[0m\u001b[0;34m\u001b[0m\u001b[0m\n\u001b[0m\u001b[1;32m    812\u001b[0m \u001b[0;34m\u001b[0m\u001b[0m\n\u001b[1;32m    813\u001b[0m     \u001b[0;32mdef\u001b[0m \u001b[0mclose\u001b[0m\u001b[0;34m(\u001b[0m\u001b[0mself\u001b[0m\u001b[0;34m)\u001b[0m\u001b[0;34m:\u001b[0m\u001b[0;34m\u001b[0m\u001b[0;34m\u001b[0m\u001b[0m\n",
      "\u001b[0;32m~/.local/lib/python3.8/site-packages/pandas/io/parsers/readers.py\u001b[0m in \u001b[0;36m_make_engine\u001b[0;34m(self, engine)\u001b[0m\n\u001b[1;32m   1038\u001b[0m             )\n\u001b[1;32m   1039\u001b[0m         \u001b[0;31m# error: Too many arguments for \"ParserBase\"\u001b[0m\u001b[0;34m\u001b[0m\u001b[0;34m\u001b[0m\u001b[0;34m\u001b[0m\u001b[0m\n\u001b[0;32m-> 1040\u001b[0;31m         \u001b[0;32mreturn\u001b[0m \u001b[0mmapping\u001b[0m\u001b[0;34m[\u001b[0m\u001b[0mengine\u001b[0m\u001b[0;34m]\u001b[0m\u001b[0;34m(\u001b[0m\u001b[0mself\u001b[0m\u001b[0;34m.\u001b[0m\u001b[0mf\u001b[0m\u001b[0;34m,\u001b[0m \u001b[0;34m**\u001b[0m\u001b[0mself\u001b[0m\u001b[0;34m.\u001b[0m\u001b[0moptions\u001b[0m\u001b[0;34m)\u001b[0m  \u001b[0;31m# type: ignore[call-arg]\u001b[0m\u001b[0;34m\u001b[0m\u001b[0;34m\u001b[0m\u001b[0m\n\u001b[0m\u001b[1;32m   1041\u001b[0m \u001b[0;34m\u001b[0m\u001b[0m\n\u001b[1;32m   1042\u001b[0m     \u001b[0;32mdef\u001b[0m \u001b[0m_failover_to_python\u001b[0m\u001b[0;34m(\u001b[0m\u001b[0mself\u001b[0m\u001b[0;34m)\u001b[0m\u001b[0;34m:\u001b[0m\u001b[0;34m\u001b[0m\u001b[0;34m\u001b[0m\u001b[0m\n",
      "\u001b[0;32m~/.local/lib/python3.8/site-packages/pandas/io/parsers/c_parser_wrapper.py\u001b[0m in \u001b[0;36m__init__\u001b[0;34m(self, src, **kwds)\u001b[0m\n\u001b[1;32m     49\u001b[0m \u001b[0;34m\u001b[0m\u001b[0m\n\u001b[1;32m     50\u001b[0m         \u001b[0;31m# open handles\u001b[0m\u001b[0;34m\u001b[0m\u001b[0;34m\u001b[0m\u001b[0;34m\u001b[0m\u001b[0m\n\u001b[0;32m---> 51\u001b[0;31m         \u001b[0mself\u001b[0m\u001b[0;34m.\u001b[0m\u001b[0m_open_handles\u001b[0m\u001b[0;34m(\u001b[0m\u001b[0msrc\u001b[0m\u001b[0;34m,\u001b[0m \u001b[0mkwds\u001b[0m\u001b[0;34m)\u001b[0m\u001b[0;34m\u001b[0m\u001b[0;34m\u001b[0m\u001b[0m\n\u001b[0m\u001b[1;32m     52\u001b[0m         \u001b[0;32massert\u001b[0m \u001b[0mself\u001b[0m\u001b[0;34m.\u001b[0m\u001b[0mhandles\u001b[0m \u001b[0;32mis\u001b[0m \u001b[0;32mnot\u001b[0m \u001b[0;32mNone\u001b[0m\u001b[0;34m\u001b[0m\u001b[0;34m\u001b[0m\u001b[0m\n\u001b[1;32m     53\u001b[0m \u001b[0;34m\u001b[0m\u001b[0m\n",
      "\u001b[0;32m~/.local/lib/python3.8/site-packages/pandas/io/parsers/base_parser.py\u001b[0m in \u001b[0;36m_open_handles\u001b[0;34m(self, src, kwds)\u001b[0m\n\u001b[1;32m    220\u001b[0m         \u001b[0mLet\u001b[0m \u001b[0mthe\u001b[0m \u001b[0mreaders\u001b[0m \u001b[0mopen\u001b[0m \u001b[0mIOHandles\u001b[0m \u001b[0mafter\u001b[0m \u001b[0mthey\u001b[0m \u001b[0mare\u001b[0m \u001b[0mdone\u001b[0m \u001b[0;32mwith\u001b[0m \u001b[0mtheir\u001b[0m \u001b[0mpotential\u001b[0m \u001b[0mraises\u001b[0m\u001b[0;34m.\u001b[0m\u001b[0;34m\u001b[0m\u001b[0;34m\u001b[0m\u001b[0m\n\u001b[1;32m    221\u001b[0m         \"\"\"\n\u001b[0;32m--> 222\u001b[0;31m         self.handles = get_handle(\n\u001b[0m\u001b[1;32m    223\u001b[0m             \u001b[0msrc\u001b[0m\u001b[0;34m,\u001b[0m\u001b[0;34m\u001b[0m\u001b[0;34m\u001b[0m\u001b[0m\n\u001b[1;32m    224\u001b[0m             \u001b[0;34m\"r\"\u001b[0m\u001b[0;34m,\u001b[0m\u001b[0;34m\u001b[0m\u001b[0;34m\u001b[0m\u001b[0m\n",
      "\u001b[0;32m~/.local/lib/python3.8/site-packages/pandas/io/common.py\u001b[0m in \u001b[0;36mget_handle\u001b[0;34m(path_or_buf, mode, encoding, compression, memory_map, is_text, errors, storage_options)\u001b[0m\n\u001b[1;32m    699\u001b[0m         \u001b[0;32mif\u001b[0m \u001b[0mioargs\u001b[0m\u001b[0;34m.\u001b[0m\u001b[0mencoding\u001b[0m \u001b[0;32mand\u001b[0m \u001b[0;34m\"b\"\u001b[0m \u001b[0;32mnot\u001b[0m \u001b[0;32min\u001b[0m \u001b[0mioargs\u001b[0m\u001b[0;34m.\u001b[0m\u001b[0mmode\u001b[0m\u001b[0;34m:\u001b[0m\u001b[0;34m\u001b[0m\u001b[0;34m\u001b[0m\u001b[0m\n\u001b[1;32m    700\u001b[0m             \u001b[0;31m# Encoding\u001b[0m\u001b[0;34m\u001b[0m\u001b[0;34m\u001b[0m\u001b[0;34m\u001b[0m\u001b[0m\n\u001b[0;32m--> 701\u001b[0;31m             handle = open(\n\u001b[0m\u001b[1;32m    702\u001b[0m                 \u001b[0mhandle\u001b[0m\u001b[0;34m,\u001b[0m\u001b[0;34m\u001b[0m\u001b[0;34m\u001b[0m\u001b[0m\n\u001b[1;32m    703\u001b[0m                 \u001b[0mioargs\u001b[0m\u001b[0;34m.\u001b[0m\u001b[0mmode\u001b[0m\u001b[0;34m,\u001b[0m\u001b[0;34m\u001b[0m\u001b[0;34m\u001b[0m\u001b[0m\n",
      "\u001b[0;31mFileNotFoundError\u001b[0m: [Errno 2] No such file or directory: '../Desktop/ML/Coding/dataset/SentNoB Dataset/Train.csv'"
     ]
    }
   ],
   "source": [
    "data = pd.read_csv(\"../Desktop/ML/Coding/dataset/SentNoB Dataset/Train.csv\")\n",
    "data_test = pd.read_csv(\"../Desktop/ML/Coding/dataset/SentNoB Dataset/Train.csv\")\n",
    "data=data.append(data_test);\n",
    "data.head(10)"
   ]
  },
  {
   "cell_type": "code",
   "execution_count": null,
   "metadata": {
    "colab": {
     "base_uri": "https://localhost:8080/"
    },
    "id": "b_0F-Y4owX_G",
    "outputId": "390af292-5857-4253-cc7f-a7e39eb7a841"
   },
   "outputs": [],
   "source": [
    "data.shape"
   ]
  },
  {
   "cell_type": "code",
   "execution_count": null,
   "metadata": {
    "colab": {
     "base_uri": "https://localhost:8080/",
     "height": 289
    },
    "id": "2IqPuMr3JAZZ",
    "outputId": "6d290d83-0687-463b-93fa-8163ae3b7416"
   },
   "outputs": [],
   "source": [
    "data.head(5)"
   ]
  },
  {
   "cell_type": "markdown",
   "metadata": {
    "id": "h7ilHHdXLWsz"
   },
   "source": [
    "#Data Preprocessing"
   ]
  },
  {
   "cell_type": "markdown",
   "metadata": {
    "id": "GYLYa2ndJRjJ"
   },
   "source": [
    "**Converting Categorical Label to Numerical**"
   ]
  },
  {
   "cell_type": "code",
   "execution_count": null,
   "metadata": {
    "colab": {
     "base_uri": "https://localhost:8080/"
    },
    "id": "JAxuDS9hJcZo",
    "outputId": "dd085bcb-249a-4f98-fbd4-2f1386affa2b"
   },
   "outputs": [],
   "source": [
    "data['Label'].unique()"
   ]
  },
  {
   "cell_type": "code",
   "execution_count": null,
   "metadata": {
    "colab": {
     "base_uri": "https://localhost:8080/",
     "height": 289
    },
    "id": "H643Nlr30hIM",
    "outputId": "1b0ba851-8b17-4ba6-e5ae-759a172b2c28"
   },
   "outputs": [],
   "source": [
    "data.head()"
   ]
  },
  {
   "cell_type": "code",
   "execution_count": null,
   "metadata": {
    "colab": {
     "base_uri": "https://localhost:8080/"
    },
    "id": "X7JckpiGKFrO",
    "outputId": "0638cc4b-be95-4144-a647-56f879d4d653"
   },
   "outputs": [],
   "source": [
    "data.isnull().sum()"
   ]
  },
  {
   "cell_type": "code",
   "execution_count": null,
   "metadata": {},
   "outputs": [],
   "source": [
    "data.rename(columns={\"Data\": \"Statement\", \"Label\": \"Class\"}, inplace=True)"
   ]
  },
  {
   "cell_type": "code",
   "execution_count": null,
   "metadata": {},
   "outputs": [],
   "source": [
    "data.head()"
   ]
  },
  {
   "cell_type": "code",
   "execution_count": null,
   "metadata": {
    "colab": {
     "base_uri": "https://localhost:8080/",
     "height": 352
    },
    "id": "zMCtkqdXLHIW",
    "outputId": "82609c90-285b-4958-da2f-3977ca3d84b3"
   },
   "outputs": [],
   "source": [
    "sns.countplot(data['Class'])"
   ]
  },
  {
   "cell_type": "markdown",
   "metadata": {
    "id": "z3zZMXATMSQ-"
   },
   "source": [
    "#Defining independent and dependent variable"
   ]
  },
  {
   "cell_type": "code",
   "execution_count": null,
   "metadata": {
    "id": "vqcwcTY0MS1a"
   },
   "outputs": [],
   "source": [
    "x = data['Statement']\n",
    "y = data['Class']\n",
    "#print(x.shape)\n",
    "#print(y.shape)"
   ]
  },
  {
   "cell_type": "markdown",
   "metadata": {
    "id": "gjPH35mVM0JT"
   },
   "source": [
    "#Regular Expression"
   ]
  },
  {
   "cell_type": "code",
   "execution_count": null,
   "metadata": {
    "colab": {
     "base_uri": "https://localhost:8080/"
    },
    "id": "yS85UgfpMzO6",
    "outputId": "5e887116-97ad-4f4d-e66e-5a3855f7beab"
   },
   "outputs": [],
   "source": [
    "def clean(text):\n",
    "    text = re.sub('[%s]' % re.escape(punctuations), '', text)\n",
    "    text = re.sub('\\n', '', text)\n",
    "    text = re.sub('\\w*\\d\\w*', '', text)\n",
    "    text = re.sub('\\xa0', '', text)\n",
    "    \n",
    "    return text\n",
    "\n",
    "cleaned_text = x.apply(lambda x: clean(str(x)))\n",
    "cleaned_text"
   ]
  },
  {
   "cell_type": "markdown",
   "metadata": {
    "id": "zi2-OSIiNemF"
   },
   "source": [
    "#Applying TF_IDF"
   ]
  },
  {
   "cell_type": "code",
   "execution_count": null,
   "metadata": {
    "colab": {
     "base_uri": "https://localhost:8080/"
    },
    "id": "SfFggBncNi9W",
    "outputId": "645a549c-d36d-4fa5-b81a-17d95f8fcd93"
   },
   "outputs": [],
   "source": [
    "vector=TfidfVectorizer(use_idf=True,stop_words=stopwords, ngram_range=(1, 1))\n",
    "vector.fit(cleaned_text)\n",
    "statement_tokenized = vector.fit_transform(cleaned_text)\n",
    "statement_tokenized.shape"
   ]
  },
  {
   "cell_type": "markdown",
   "metadata": {
    "id": "mcj5lXjdNvjj"
   },
   "source": [
    "#Dataset Splitting"
   ]
  },
  {
   "cell_type": "code",
   "execution_count": null,
   "metadata": {
    "colab": {
     "base_uri": "https://localhost:8080/"
    },
    "id": "cA_hF8Q-Nxh6",
    "outputId": "2b8de24e-8ec2-471c-87e9-ba116e69d84b"
   },
   "outputs": [],
   "source": [
    "x_train, x_test, y_train, y_test = train_test_split(statement_tokenized, y, random_state=4,test_size=0.2)\n",
    "x_val_train, x_val_test, y_val_train, y_val_test = train_test_split(x_train, y_train , random_state=4,test_size=0.12)\n",
    "print(x_train.shape)  # 80% Train set\n",
    "print(x_test.shape)   # 20% Test set\n",
    "print(x_val_train.shape)  # 70% Train_val set\n",
    "print(x_val_test.shape)     # 10% Test_val set\n",
    "\n",
    "#print(type(x_val_train))"
   ]
  },
  {
   "cell_type": "markdown",
   "metadata": {
    "id": "G9w4rP9QgNim"
   },
   "source": [
    "## SVM model testing "
   ]
  },
  {
   "cell_type": "markdown",
   "metadata": {
    "id": "y_yxayKRkDE1"
   },
   "source": [
    "**Finding best \"C\" and \"gamma\" value**"
   ]
  },
  {
   "cell_type": "code",
   "execution_count": null,
   "metadata": {
    "colab": {
     "base_uri": "https://localhost:8080/"
    },
    "id": "fZHF6LLXiXv3",
    "outputId": "edb49893-feb3-4b01-c9fd-68c168c0d159"
   },
   "outputs": [],
   "source": [
    "C_list = [0.1, 1, 10, 100]\n",
    "gamma_list = [0.001, 0.01, 0.1, 1]\n",
    "\n",
    "\n",
    "\n",
    "best_acc = -np.inf\n",
    "\n",
    "for C in C_list:\n",
    "  for gamma in gamma_list:\n",
    "    svm_test = SVC(C=C, gamma=gamma)\n",
    "    svm_test.fit(x_val_train, y_val_train)\n",
    "    predictions = svm_test.predict(x_val_test)\n",
    "    acc = accuracy_score(y_val_test, predictions)\n",
    "    if acc > best_acc:\n",
    "      best_acc = acc\n",
    "      best_C = C\n",
    "      best_gamma = gamma\n",
    "\n",
    "print(best_acc)\n",
    "print(best_C)\n",
    "print(best_gamma)"
   ]
  },
  {
   "cell_type": "markdown",
   "metadata": {
    "id": "piajrYSZkL0p"
   },
   "source": [
    "**Training SVM**"
   ]
  },
  {
   "cell_type": "code",
   "execution_count": null,
   "metadata": {
    "colab": {
     "base_uri": "https://localhost:8080/"
    },
    "id": "6V6beN1siE-2",
    "outputId": "d286a589-8612-4492-b11c-826346e2e1b3"
   },
   "outputs": [],
   "source": [
    "svm = SVC(C=best_C, kernel='linear', gamma=best_gamma)\n",
    "svm.fit(x_train, y_train)"
   ]
  },
  {
   "cell_type": "code",
   "execution_count": null,
   "metadata": {
    "colab": {
     "base_uri": "https://localhost:8080/"
    },
    "id": "4iftL5PRj-L7",
    "outputId": "dcc0f309-3b8c-475b-c504-c3ab0dfca204"
   },
   "outputs": [],
   "source": [
    "m3 = svm.predict(x_test)\n",
    "\n",
    "a2 = accuracy_score(y_test, m3)\n",
    "print(\"Accuracy :\", a2)\n",
    "\n",
    "# ms_pre = precision_score(y_test, m3)\n",
    "# print(\"Precision :\", ms_pre)\n",
    "\n",
    "# ms_rec = recall_score(y_test, m3)\n",
    "# print(\"Recall :\", ms_rec)\n",
    "\n",
    "# ms_f3 = f1_score(y_test, m3)\n",
    "# print(\"F1 :\", ms_f3)"
   ]
  },
  {
   "cell_type": "code",
   "execution_count": null,
   "metadata": {
    "colab": {
     "base_uri": "https://localhost:8080/",
     "height": 329
    },
    "id": "1vl-ayu4mQ6O",
    "outputId": "ca51e726-e9c0-4f1a-b24b-979624c280c9"
   },
   "outputs": [],
   "source": [
    "cm = metrics.confusion_matrix(y_test, m3)\n",
    "plot_confusion_matrix(cm, classes=['0', '1','2'],extention='on Training Set')"
   ]
  },
  {
   "cell_type": "code",
   "execution_count": null,
   "metadata": {},
   "outputs": [],
   "source": []
  }
 ],
 "metadata": {
  "colab": {
   "collapsed_sections": [
    "gGl5GhynFL3Q",
    "6Uq8UdV5E6ih",
    "SKpBJU-IIuBY",
    "h7ilHHdXLWsz",
    "z3zZMXATMSQ-",
    "gjPH35mVM0JT",
    "zi2-OSIiNemF"
   ],
   "name": "ML_Project_v1(Stopwords List).ipynb",
   "provenance": []
  },
  "kernelspec": {
   "display_name": "Python 3 (ipykernel)",
   "language": "python",
   "name": "python3"
  },
  "language_info": {
   "codemirror_mode": {
    "name": "ipython",
    "version": 3
   },
   "file_extension": ".py",
   "mimetype": "text/x-python",
   "name": "python",
   "nbconvert_exporter": "python",
   "pygments_lexer": "ipython3",
   "version": "3.8.10"
  }
 },
 "nbformat": 4,
 "nbformat_minor": 1
}
