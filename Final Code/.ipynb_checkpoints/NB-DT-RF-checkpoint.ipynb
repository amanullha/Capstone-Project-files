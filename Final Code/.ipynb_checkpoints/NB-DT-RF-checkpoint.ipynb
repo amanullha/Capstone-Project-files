{
 "cells": [
  {
   "cell_type": "code",
   "execution_count": 1,
   "metadata": {
    "execution": {
     "iopub.execute_input": "2022-03-17T17:20:32.485405Z",
     "iopub.status.busy": "2022-03-17T17:20:32.482687Z",
     "iopub.status.idle": "2022-03-17T17:20:32.512098Z",
     "shell.execute_reply": "2022-03-17T17:20:32.511332Z",
     "shell.execute_reply.started": "2022-03-17T17:20:32.485267Z"
    }
   },
   "outputs": [],
   "source": [
    "#Import all\n",
    "import pandas as pd\n",
    "from string import punctuation\n",
    "import re\n",
    "import numpy as np"
   ]
  },
  {
   "cell_type": "code",
   "execution_count": 2,
   "metadata": {
    "execution": {
     "iopub.execute_input": "2022-03-17T17:20:32.515251Z",
     "iopub.status.busy": "2022-03-17T17:20:32.514498Z",
     "iopub.status.idle": "2022-03-17T17:20:32.681277Z",
     "shell.execute_reply": "2022-03-17T17:20:32.679623Z",
     "shell.execute_reply.started": "2022-03-17T17:20:32.515203Z"
    }
   },
   "outputs": [],
   "source": [
    "#df = pd.read_csv('D:\\D5k.csv', encoding='utf-8')\n",
    "df_train=pd.read_csv(\"../input/sentnob-sentiment-analysis-in-noisy-bangla-texts/SentNoB Dataset/Train.csv\",encoding='utf-8')\n",
    "df_test=pd.read_csv(\"../input/sentnob-sentiment-analysis-in-noisy-bangla-texts/SentNoB Dataset/Test.csv\",encoding='utf-8')\n",
    "df_val=pd.read_csv(\"../input/sentnob-sentiment-analysis-in-noisy-bangla-texts/SentNoB Dataset/Val.csv\",encoding='utf-8')\n"
   ]
  },
  {
   "cell_type": "code",
   "execution_count": 3,
   "metadata": {
    "execution": {
     "iopub.execute_input": "2022-03-17T17:20:32.683261Z",
     "iopub.status.busy": "2022-03-17T17:20:32.682962Z",
     "iopub.status.idle": "2022-03-17T17:20:32.706692Z",
     "shell.execute_reply": "2022-03-17T17:20:32.706100Z",
     "shell.execute_reply.started": "2022-03-17T17:20:32.683225Z"
    }
   },
   "outputs": [],
   "source": [
    "df_train"
   ]
  },
  {
   "cell_type": "code",
   "execution_count": 4,
   "metadata": {
    "execution": {
     "iopub.execute_input": "2022-03-17T17:20:32.708480Z",
     "iopub.status.busy": "2022-03-17T17:20:32.708134Z",
     "iopub.status.idle": "2022-03-17T17:20:32.715725Z",
     "shell.execute_reply": "2022-03-17T17:20:32.714982Z",
     "shell.execute_reply.started": "2022-03-17T17:20:32.708450Z"
    }
   },
   "outputs": [],
   "source": [
    "df=df_train.append(df_test)\n",
    "#df.append(df_val)"
   ]
  },
  {
   "cell_type": "code",
   "execution_count": 5,
   "metadata": {
    "execution": {
     "iopub.execute_input": "2022-03-17T17:20:32.717515Z",
     "iopub.status.busy": "2022-03-17T17:20:32.717114Z",
     "iopub.status.idle": "2022-03-17T17:20:32.756234Z",
     "shell.execute_reply": "2022-03-17T17:20:32.755171Z",
     "shell.execute_reply.started": "2022-03-17T17:20:32.717482Z"
    }
   },
   "outputs": [],
   "source": [
    "df.drop_duplicates(inplace=True)"
   ]
  },
  {
   "cell_type": "code",
   "execution_count": 6,
   "metadata": {
    "execution": {
     "iopub.execute_input": "2022-03-17T17:20:32.759067Z",
     "iopub.status.busy": "2022-03-17T17:20:32.757827Z",
     "iopub.status.idle": "2022-03-17T17:20:32.763935Z",
     "shell.execute_reply": "2022-03-17T17:20:32.763184Z",
     "shell.execute_reply.started": "2022-03-17T17:20:32.759001Z"
    }
   },
   "outputs": [],
   "source": [
    "Target=df['Label']"
   ]
  },
  {
   "cell_type": "code",
   "execution_count": 7,
   "metadata": {
    "execution": {
     "iopub.execute_input": "2022-03-17T17:20:32.799321Z",
     "iopub.status.busy": "2022-03-17T17:20:32.798702Z",
     "iopub.status.idle": "2022-03-17T17:20:32.804812Z",
     "shell.execute_reply": "2022-03-17T17:20:32.803971Z",
     "shell.execute_reply.started": "2022-03-17T17:20:32.799273Z"
    }
   },
   "outputs": [],
   "source": [
    "Text=df['Data'].tolist()"
   ]
  },
  {
   "cell_type": "code",
   "execution_count": 8,
   "metadata": {
    "execution": {
     "iopub.execute_input": "2022-03-17T17:20:32.807156Z",
     "iopub.status.busy": "2022-03-17T17:20:32.806682Z",
     "iopub.status.idle": "2022-03-17T17:20:32.816598Z",
     "shell.execute_reply": "2022-03-17T17:20:32.815462Z",
     "shell.execute_reply.started": "2022-03-17T17:20:32.807097Z"
    }
   },
   "outputs": [],
   "source": [
    "#print(Text)"
   ]
  },
  {
   "cell_type": "markdown",
   "metadata": {},
   "source": [
    "# # Remove Punctuation, Digit, Eng_Characture, Extra space"
   ]
  },
  {
   "cell_type": "code",
   "execution_count": 9,
   "metadata": {
    "execution": {
     "iopub.execute_input": "2022-03-17T17:20:32.818707Z",
     "iopub.status.busy": "2022-03-17T17:20:32.818395Z",
     "iopub.status.idle": "2022-03-17T17:20:32.845011Z",
     "shell.execute_reply": "2022-03-17T17:20:32.844356Z",
     "shell.execute_reply.started": "2022-03-17T17:20:32.818670Z"
    }
   },
   "outputs": [],
   "source": [
    "\n",
    "def clean_text(plain_text):\n",
    "    \n",
    "    processed_plain_text=[]\n",
    "    \n",
    "    for i in range(len(plain_text)):\n",
    "        p=[plain_text[i]\n",
    "        .replace(\",\",\" \").replace(\";\",\"\").replace(\"।\",\" \").replace(\"?\",\"\").replace(\"!\",\"\").replace(\":\",\"\").replace(\"—\",\" \")\n",
    "        .replace(\":-\",\"\").replace(\"-\",\" \").replace(\"’\",\"\").replace(\"'\",\"\").replace(\"“\",\"\").replace(\"”\",\"\").replace(\"(\",\"\")\n",
    "        .replace(\")\",\"\").replace(\"{\",\"\").replace(\"}\",\"\").replace(\"[\",\"\").replace(\"]\",\"\").replace(\"√\",\"\").replace(\"<\",\"\")\n",
    "        .replace(\">\",\"\").replace(\"=\",\"\").replace(\"...\",\"\").replace(\".\",\"\").replace(\"*\",\"\").replace(\"|\",\"\").replace(\"/\",\"\")\n",
    "        .replace(\"$\",\"\").replace(\"@\",\"\").replace(\"+\",\"\").replace(\"0\",\"\").replace(\"1\",\"\").replace(\"2\",\"\").replace(\"3\",\"\")\n",
    "        .replace(\"4\",\"\").replace(\"5\",\"\").replace(\"6\",\"\").replace(\"7\",\"\").replace(\"8\",\"\").replace(\"9\",\"\").replace(\"A\",\"\")\n",
    "        .replace(\"B\",\"\").replace(\"C\",\"\").replace(\"D\",\"\").replace(\"E\",\"\").replace(\"F\",\"\").replace(\"G\",\"\").replace(\"H\",\"\")\n",
    "        .replace(\"I\",\"\").replace(\"J\",\"\").replace(\"K\",\"\").replace(\"L\",\"\").replace(\"M\",\"\").replace(\"N\",\"\").replace(\"O\",\"\")\n",
    "        .replace(\"P\",\"\").replace(\"Q\",\"\").replace(\"R\",\"\").replace(\"S\",\"\").replace(\"T\",\"\").replace(\"U\",\"\").replace(\"V\",\"\")\n",
    "        .replace(\"W\",\"\").replace(\"X\",\"\").replace(\"Y\",\"\").replace(\"Z\",\"\").replace(\"০\",\"\").replace(\"১\",\"\").replace(\"২\",\"\")\n",
    "        .replace(\"৩\",\"\").replace(\"৪\",\"\").replace(\"৫\",\"\").replace(\"৬\",\"\").replace(\"৭\",\"\").replace(\"৮\",\"\").replace(\"৯\",\"\")\n",
    "        .replace(\"a\",\"\").replace(\"b\",\"\").replace(\"c\",\"\").replace(\"d\",\"\").replace(\"e\",\"\").replace(\"f\",\"\").replace(\"g\",\"\")\n",
    "        .replace(\"h\",\"\").replace(\"i\",\"\").replace(\"j\",\"\").replace(\"k\",\"\").replace(\"l\",\"\").replace(\"m\",\"\").replace(\"n\",\"\")\n",
    "        .replace(\"o\",\"\").replace(\"p\",\"\").replace(\"q\",\"\").replace(\"r\",\"\").replace(\"s\",\"\").replace(\"t\",\"\").replace(\"u\",\"\")\n",
    "        .replace(\"v\",\"\").replace(\"w\",\"\").replace(\"x\",\"\").replace(\"y\",\"\").replace(\"z\",\"\").replace(\" \",\" \")]\n",
    "        processed_plain_text.append(p)\n",
    "    \n",
    "    #print(processed_plain_text)\n",
    "    return processed_plain_text\n",
    "\n",
    "\n"
   ]
  },
  {
   "cell_type": "markdown",
   "metadata": {},
   "source": [
    "# # Remove emojis and url"
   ]
  },
  {
   "cell_type": "code",
   "execution_count": 10,
   "metadata": {
    "execution": {
     "iopub.execute_input": "2022-03-17T17:20:32.846622Z",
     "iopub.status.busy": "2022-03-17T17:20:32.846149Z",
     "iopub.status.idle": "2022-03-17T17:20:32.863071Z",
     "shell.execute_reply": "2022-03-17T17:20:32.862021Z",
     "shell.execute_reply.started": "2022-03-17T17:20:32.846590Z"
    }
   },
   "outputs": [],
   "source": [
    "def remove_URL(sample):\n",
    "    \"\"\"Remove URLs from a sample string\"\"\"\n",
    "    return re.sub(r\"http\\S+\", \"\", sample)\n",
    "\n",
    "\n",
    "def remove_line_emoji(string):\n",
    "    emoji_pattern = re.compile(\"[\"\n",
    "                           u\"\\U0001F600-\\U0001F64F\"  # emoticons\n",
    "                           u\"\\U0001F300-\\U0001F5FF\"  # symbols & pictographs\n",
    "                           u\"\\U0001F680-\\U0001F6FF\"  # transport & map symbols\n",
    "                           u\"\\U0001F1E0-\\U0001F1FF\"  # flags (iOS)\n",
    "                           u\"\\U00002702-\\U000027B0\"\n",
    "                           u\"\\U000024C2-\\U0001F251\"\n",
    "                           \"]+\", flags=re.UNICODE)\n",
    "    return emoji_pattern.sub(r'', string)\n",
    "\n",
    "\n",
    "def remove_emojis(plainText):\n",
    "    processText=[]\n",
    "    for i in range(len(plainText)):\n",
    "        cleanLine=remove_line_emoji(plainText[i])\n",
    "        #plainText[i]=list(cleanLine)\n",
    "        processText.append(remove_URL(cleanLine))\n",
    "    #print(\"\\n\\nemoji removed text:\\n\\n\")\n",
    "    return processText\n",
    "    \n",
    "\n",
    "\n"
   ]
  },
  {
   "cell_type": "markdown",
   "metadata": {},
   "source": [
    "# # Tokenize the text"
   ]
  },
  {
   "cell_type": "code",
   "execution_count": 11,
   "metadata": {
    "execution": {
     "iopub.execute_input": "2022-03-17T17:20:32.865628Z",
     "iopub.status.busy": "2022-03-17T17:20:32.865086Z",
     "iopub.status.idle": "2022-03-17T17:20:32.875689Z",
     "shell.execute_reply": "2022-03-17T17:20:32.874779Z",
     "shell.execute_reply.started": "2022-03-17T17:20:32.865586Z"
    }
   },
   "outputs": [],
   "source": [
    "def tokenize_text(processed_plain_text):\n",
    "    \n",
    "    tokenization_result=[]\n",
    "    for j in processed_plain_text:\n",
    "        t=j[0].split(\" \")\n",
    "        tokenization_result.append(t)\n",
    "    #print(tokenization_result)\n",
    "    return tokenization_result"
   ]
  },
  {
   "cell_type": "markdown",
   "metadata": {},
   "source": [
    "# # Bangla Stop Word List"
   ]
  },
  {
   "cell_type": "code",
   "execution_count": 12,
   "metadata": {
    "execution": {
     "iopub.execute_input": "2022-03-17T17:20:33.105568Z",
     "iopub.status.busy": "2022-03-17T17:20:33.104408Z",
     "iopub.status.idle": "2022-03-17T17:20:33.127345Z",
     "shell.execute_reply": "2022-03-17T17:20:33.126335Z",
     "shell.execute_reply.started": "2022-03-17T17:20:33.105505Z"
    }
   },
   "outputs": [],
   "source": [
    "#Bengali_Stopwords\n",
    "li=['অতএব','অথচ','অথবা','অনুযায়ী','অনেক', 'ও', 'অনেকে', 'অনেকেই', 'অন্তত','অন্য', 'অবধি', 'অবশ্য','অর্থাত','আই','আগামী','আগে','আগেই','আছে','আজ','আদ্যভাগে','আপনার', 'আপনি', 'আবার', 'আমরা', 'আমাকে', 'আমাদের', 'আমার','আমি','আর','আরও','ই','ইত্যাদি', 'ইহা', \n",
    "    'উচিত','উত্তর','উনি','উপর','উপরে','এ','এঁদের','এঁরা','এই','একই','একটি','একবার','একে','এক্','এখন','এখনও','এখানে','এখানেই','এটা','এটাই','এটি','এত','এতটাই','এতে','এদের','এব','এবং','এবার','এমন','এমনকী','এমনি','এর','এরা','এল','এস','এসে','ঐ','ও','ওঁদের','ওঁর',\n",
    "    'ওঁরা','ওই','ওকে','ওখানে','ওদের','ওর','ওরা','কখনও','কত','কবে','কমনে','কয়েক','কয়েকটি','করছে','করছেন','করতে','করবে','করবেন',\n",
    "    'করলে','করলেন','করা','করাই','করায়','করার','করি','করিতে','করিয়া','করিয়ে','করে','করেই','করেছিলেন','করেছে','করেছেন','করেন','কাউকে',\n",
    "    'কাছ','কাছে','কাজ','কাজে','কারও','কারণ','কি','কিংবা','কিছু','কিছুই','কিন্তু','কী','কে','কেউ','কেউই','কেখা','কেন','কোটি','কোন','কোনও','কোনো','ক্ষেত্রে','কয়েক','খুব','গিয়ে','গিয়েছে','গিয়ে','গুলি','গেছে','গেল','গেলে',\n",
    "    'গোটা','চলে','চান', 'চায়','চার','চালু','চেয়ে','চেষ্টা','ছাড়া','ছাড়াও','ছিল','ছিলেন','জন','জনকে','জনের','জন্য','জন্যওজে','জানতে','জানা',\n",
    "    'জানানো','জানায়','জানিয়ে','জানিয়েছে','জে','জ্নজন','টি','ঠিক','তখন','তত','তথা','তবু','তবে','তা','তাঁকে','তাঁদের','তাঁর','তাঁরা','তাঁাহারা',\n",
    "    'তাই','তাও','তাকে','তাতে','তাদের','তার','তারপর','তারা','তারৈ','তাহলে','তাহা','তাহাতে','তাহার','তিনঐ','তিনি','তিনিও','তুমি','তুলে','তেমন',\n",
    "    'তো','তোমার','থাকবে','থাকবেন','থাকা','থাকায়','থাকে','থাকেন','থেকে','থেকেই','থেকেও','দিকে','দিন','দিতে','দিয়ে','দিয়েছে','দিয়েছেন','দিলেন',\n",
    "    'দু','দুই','দুটি','দুটো','দেওয়া','দেওয়ার','দেওয়া','দেখতে','দেখা','দেখে','দেন','দেয়','দ্বারা','ধরা','ধরে','ধামার','নতুন','নয়','না','নাই',\n",
    "    'নাকি','নাগাদ','নানা','নিজে','নিজেই','নিজেদের','নিজের','নিতে','নিয়ে','নেই','নেওয়া','নেওয়ার','নয়','পক্ষে','পর','পরে','পরেই','পরেও',\n",
    "    'পর্যন্ত','পাওয়া','পাচ','পারি','পারে','পারেন','পি','পেয়ে','প্রতি','প্রথম','প্রভৃতি','প্রাথমিক','প্রায়','ফলে','ফিরে','ফের','বক্তব্য','বদলে','বন',\n",
    "    'বরং','বলতে','বলল','বললেন','বলা','বলে','বলেছেন','বলেন','বসে','বহু','বা','বাদে','বার','বি','বিনা','বিভিন্ন','বিশেষ','বিষয়টি','বেশ',\n",
    "    'বেশি','ব্যবহার','ব্যাপারে','ভাবে','ভাবেই','মতো','মতোই','মধ্যভাগে','মধ্যে','মধ্যেই','মধ্যেও','মনে','মাত্র','মাধ্যমে','মোট','মোটেই','যখন',\n",
    "    'যত','যতটা','যথেষ্ট','যদি','যদিও','যা','যাঁর','যাঁরা','যাওয়া','যাওয়ার','যাওয়া','যাকে','যাচ্ছে','যাতে','যাদের','যান','যাবে','যায়','যার',\n",
    "    'যারা','যিনি','যে','যেখানে','যেতে','যেন','যেমন','র','রকম','রয়েছে','রাখা','রেখে','লক্ষ','শুধু','শুরু','সঙ্গে','সঙ্গেও','সব','সবার',\n",
    "    'সমস্ত','সম্প্রতি','সহ','সহিত','সাধারণ','সামনে','সি','সুতরাং','সে','সেই','সেখান','সেখানে','সেটা','সেটাই','সেটাও','সেটি','স্পষ্ট','স্বয়ং',\n",
    "    'হইতে','হইবে','হইয়া','হওয়া','হওয়ায়','হওয়ার','হচ্ছে','হত','হতে','হতেই','হন','হবে','হবেন','হয়','হয়তো','হয়নি','হয়ে','হয়েই','হয়েছিল',\n",
    "    'হয়েছে','হয়েছেন','হল','হলে','হলেই','হলেও','হলো','হাজার','হিসাবে','হৈলে','হোক','হয়','টা','তে','য়','ক','খ','গ','ঘ','ঙ','চ','ছ','জ','ঝ','ঞ','ট','ঠ','ড','ঢ','ণ','ত','থ','দ','ধ','ন','প',\n",
    "     'ফ','ব','ভ','ম','য','র','ল','শ','স','হ','অ','আ','ঈ','ঋ','এ','ঔ','এক','বেন','অব','থ্রোন্স']"
   ]
  },
  {
   "cell_type": "code",
   "execution_count": 13,
   "metadata": {
    "execution": {
     "iopub.execute_input": "2022-03-17T17:20:33.129583Z",
     "iopub.status.busy": "2022-03-17T17:20:33.128931Z",
     "iopub.status.idle": "2022-03-17T17:20:33.225798Z",
     "shell.execute_reply": "2022-03-17T17:20:33.224843Z",
     "shell.execute_reply.started": "2022-03-17T17:20:33.129545Z"
    }
   },
   "outputs": [],
   "source": [
    "# Remove emojis\n",
    "Text=remove_emojis(Text)\n"
   ]
  },
  {
   "cell_type": "code",
   "execution_count": 14,
   "metadata": {
    "execution": {
     "iopub.execute_input": "2022-03-17T17:20:33.227175Z",
     "iopub.status.busy": "2022-03-17T17:20:33.226927Z",
     "iopub.status.idle": "2022-03-17T17:20:33.573648Z",
     "shell.execute_reply": "2022-03-17T17:20:33.572932Z",
     "shell.execute_reply.started": "2022-03-17T17:20:33.227143Z"
    }
   },
   "outputs": [],
   "source": [
    "\n",
    "# Remove Punctuation, Digit, Eng_Characture\n",
    "Text=clean_text(Text)\n"
   ]
  },
  {
   "cell_type": "code",
   "execution_count": 15,
   "metadata": {
    "execution": {
     "iopub.execute_input": "2022-03-17T17:20:33.575818Z",
     "iopub.status.busy": "2022-03-17T17:20:33.574708Z",
     "iopub.status.idle": "2022-03-17T17:20:33.618846Z",
     "shell.execute_reply": "2022-03-17T17:20:33.618055Z",
     "shell.execute_reply.started": "2022-03-17T17:20:33.575759Z"
    }
   },
   "outputs": [],
   "source": [
    "# Tokenize the text\n",
    "Text=tokenize_text(Text)\n"
   ]
  },
  {
   "cell_type": "markdown",
   "metadata": {},
   "source": [
    "## Remove stop words and extra space "
   ]
  },
  {
   "cell_type": "code",
   "execution_count": 16,
   "metadata": {
    "execution": {
     "iopub.execute_input": "2022-03-17T17:20:33.621387Z",
     "iopub.status.busy": "2022-03-17T17:20:33.620790Z",
     "iopub.status.idle": "2022-03-17T17:20:34.717771Z",
     "shell.execute_reply": "2022-03-17T17:20:34.716838Z",
     "shell.execute_reply.started": "2022-03-17T17:20:33.621340Z"
    }
   },
   "outputs": [],
   "source": [
    "\n",
    "r =[]\n",
    "stop_words_removal_result = [[] for i in range(len(Text))]\n",
    "for i in range(len(Text)):\n",
    "    for j in range(len(Text[i])):\n",
    "        if Text[i][j] not in li and len(Text[i][j])>0:\n",
    "            r.append(Text[i][j])\n",
    "            stop_words_removal_result[i].append(Text[i][j])\n",
    "#print(stop_words_removal_result)\n",
    "    "
   ]
  },
  {
   "cell_type": "markdown",
   "metadata": {},
   "source": [
    "# # Count TF vectorizer"
   ]
  },
  {
   "cell_type": "code",
   "execution_count": 17,
   "metadata": {
    "execution": {
     "iopub.execute_input": "2022-03-17T17:20:34.719175Z",
     "iopub.status.busy": "2022-03-17T17:20:34.718918Z",
     "iopub.status.idle": "2022-03-17T17:20:35.027176Z",
     "shell.execute_reply": "2022-03-17T17:20:35.026411Z",
     "shell.execute_reply.started": "2022-03-17T17:20:34.719145Z"
    }
   },
   "outputs": [],
   "source": [
    "from collections import Counter\n",
    "cnt = Counter(r)\n",
    "TF = {}\n",
    "for processed_plain_text in Text:\n",
    "    for word in processed_plain_text:\n",
    "        TF[word] = round(cnt[word]/len(processed_plain_text),2)\n",
    "#print(counts)\n",
    "#print(TF)"
   ]
  },
  {
   "cell_type": "markdown",
   "metadata": {},
   "source": [
    "# # Count IDF vectorizer"
   ]
  },
  {
   "cell_type": "code",
   "execution_count": 18,
   "metadata": {
    "execution": {
     "iopub.execute_input": "2022-03-17T17:20:35.028525Z",
     "iopub.status.busy": "2022-03-17T17:20:35.028246Z",
     "iopub.status.idle": "2022-03-17T17:22:32.841763Z",
     "shell.execute_reply": "2022-03-17T17:22:32.840682Z",
     "shell.execute_reply.started": "2022-03-17T17:20:35.028492Z"
    }
   },
   "outputs": [],
   "source": [
    "n = len(Text) \n",
    "#print(n)\n",
    "terms = list(TF.keys())\n",
    "import math\n",
    "IDF = {}\n",
    "for term in terms:\n",
    "    c = 0\n",
    "    for doc in Text:\n",
    "        if term in doc:\n",
    "            c+=1\n",
    "    IDF[term] = math.log(n/(c+1))\n",
    "#print(IDF)\n"
   ]
  },
  {
   "cell_type": "markdown",
   "metadata": {},
   "source": [
    "# # Multiply TF and IDF vectorizer"
   ]
  },
  {
   "cell_type": "code",
   "execution_count": 19,
   "metadata": {
    "execution": {
     "iopub.execute_input": "2022-03-17T17:22:32.843323Z",
     "iopub.status.busy": "2022-03-17T17:22:32.843060Z",
     "iopub.status.idle": "2022-03-17T17:25:06.521561Z",
     "shell.execute_reply": "2022-03-17T17:25:06.520519Z",
     "shell.execute_reply.started": "2022-03-17T17:22:32.843295Z"
    }
   },
   "outputs": [],
   "source": [
    "#Calculate tfIdf\n",
    "tfIdf = [[] for i in range(len(Text))]\n",
    "for i in range(len(Text)):\n",
    "    for word in terms:\n",
    "        if word in Text[i]:\n",
    "            tfIdf[i].append(TF[word]*IDF[word])\n",
    "        else:\n",
    "            tfIdf[i].append(0)\n",
    "#print(tfIdf[10])"
   ]
  },
  {
   "cell_type": "markdown",
   "metadata": {},
   "source": [
    "## Splitting the Dataset"
   ]
  },
  {
   "cell_type": "code",
   "execution_count": 20,
   "metadata": {
    "execution": {
     "iopub.execute_input": "2022-03-17T17:25:06.523018Z",
     "iopub.status.busy": "2022-03-17T17:25:06.522786Z",
     "iopub.status.idle": "2022-03-17T17:25:06.529161Z",
     "shell.execute_reply": "2022-03-17T17:25:06.528172Z",
     "shell.execute_reply.started": "2022-03-17T17:25:06.522990Z"
    }
   },
   "outputs": [],
   "source": [
    "#Train Data\n",
    "\n",
    "train_x= tfIdf[:12575]\n",
    "train_y= Target[:12575]\n",
    "\n",
    "#Test Data\n",
    "test_x=tfIdf[12575:]\n",
    "test_y=Target[12575:]"
   ]
  },
  {
   "cell_type": "markdown",
   "metadata": {},
   "source": [
    "## Naive Bayes 3 type with n-gram"
   ]
  },
  {
   "cell_type": "markdown",
   "metadata": {},
   "source": [
    "Gaussian Naive Bayes"
   ]
  },
  {
   "cell_type": "code",
   "execution_count": 21,
   "metadata": {
    "execution": {
     "iopub.execute_input": "2022-03-17T17:25:06.530757Z",
     "iopub.status.busy": "2022-03-17T17:25:06.530531Z",
     "iopub.status.idle": "2022-03-17T17:25:09.830937Z",
     "shell.execute_reply": "2022-03-17T17:25:09.830181Z",
     "shell.execute_reply.started": "2022-03-17T17:25:06.530721Z"
    }
   },
   "outputs": [],
   "source": [
    "from sklearn.naive_bayes import GaussianNB\n",
    "from sklearn.metrics import classification_report, confusion_matrix, accuracy_score"
   ]
  },
  {
   "cell_type": "code",
   "execution_count": 22,
   "metadata": {
    "execution": {
     "iopub.execute_input": "2022-03-17T17:25:09.834954Z",
     "iopub.status.busy": "2022-03-17T17:25:09.834590Z",
     "iopub.status.idle": "2022-03-17T17:25:46.174754Z",
     "shell.execute_reply": "2022-03-17T17:25:46.173741Z",
     "shell.execute_reply.started": "2022-03-17T17:25:09.834902Z"
    }
   },
   "outputs": [],
   "source": [
    "GNB=GaussianNB()\n",
    "GNB.fit(train_x, train_y)"
   ]
  },
  {
   "cell_type": "code",
   "execution_count": 23,
   "metadata": {
    "execution": {
     "iopub.execute_input": "2022-03-17T17:25:46.176930Z",
     "iopub.status.busy": "2022-03-17T17:25:46.176604Z",
     "iopub.status.idle": "2022-03-17T17:26:24.852610Z",
     "shell.execute_reply": "2022-03-17T17:26:24.851514Z",
     "shell.execute_reply.started": "2022-03-17T17:25:46.176888Z"
    }
   },
   "outputs": [],
   "source": [
    "pred_train = GNB.predict(train_x)\n",
    "train_GNB=accuracy_score(train_y, pred_train)\n",
    "print('\\nTraining Accuracy using NB:',train_GNB)\n",
    "print('\\n\\tClassification Report on Training Data:\\n\\n')\n",
    "print(classification_report(train_y,pred_train)) "
   ]
  },
  {
   "cell_type": "code",
   "execution_count": 24,
   "metadata": {
    "execution": {
     "iopub.execute_input": "2022-03-17T17:26:24.854136Z",
     "iopub.status.busy": "2022-03-17T17:26:24.853910Z",
     "iopub.status.idle": "2022-03-17T17:26:28.008351Z",
     "shell.execute_reply": "2022-03-17T17:26:28.007503Z",
     "shell.execute_reply.started": "2022-03-17T17:26:24.854094Z"
    }
   },
   "outputs": [],
   "source": [
    "pred_test = GNB.predict(test_x)\n",
    "test_GNB=accuracy_score(test_y, pred_test)\n",
    "print('\\nTest Accuracy using NB:',test_GNB)\n",
    " \n",
    "print('\\nConfusion matrix:\\n\\n',confusion_matrix(test_y,pred_test))\n",
    "print('\\n\\tClassification Report on Testing Data:\\n')\n",
    "print(classification_report(test_y,pred_test))  \n"
   ]
  },
  {
   "cell_type": "markdown",
   "metadata": {},
   "source": [
    "Multinomial Naive Bayes"
   ]
  },
  {
   "cell_type": "code",
   "execution_count": 25,
   "metadata": {
    "execution": {
     "iopub.execute_input": "2022-03-17T17:26:28.013416Z",
     "iopub.status.busy": "2022-03-17T17:26:28.013019Z",
     "iopub.status.idle": "2022-03-17T17:26:28.019659Z",
     "shell.execute_reply": "2022-03-17T17:26:28.018651Z",
     "shell.execute_reply.started": "2022-03-17T17:26:28.013373Z"
    }
   },
   "outputs": [],
   "source": [
    "from sklearn.naive_bayes import MultinomialNB\n",
    "from sklearn.metrics import classification_report, confusion_matrix, accuracy_score"
   ]
  },
  {
   "cell_type": "code",
   "execution_count": 26,
   "metadata": {
    "execution": {
     "iopub.execute_input": "2022-03-17T17:26:28.043912Z",
     "iopub.status.busy": "2022-03-17T17:26:28.043716Z",
     "iopub.status.idle": "2022-03-17T17:26:57.015420Z",
     "shell.execute_reply": "2022-03-17T17:26:57.014391Z",
     "shell.execute_reply.started": "2022-03-17T17:26:28.043887Z"
    }
   },
   "outputs": [],
   "source": [
    "MNB=MultinomialNB()\n",
    "MNB.fit(train_x, train_y)"
   ]
  },
  {
   "cell_type": "code",
   "execution_count": 27,
   "metadata": {
    "execution": {
     "iopub.execute_input": "2022-03-17T17:26:57.057939Z",
     "iopub.status.busy": "2022-03-17T17:26:57.057203Z",
     "iopub.status.idle": "2022-03-17T17:27:25.383519Z",
     "shell.execute_reply": "2022-03-17T17:27:25.382535Z",
     "shell.execute_reply.started": "2022-03-17T17:26:57.057895Z"
    }
   },
   "outputs": [],
   "source": [
    "pred_train = MNB.predict(train_x)\n",
    "train_MNB=accuracy_score(train_y, pred_train)\n",
    "print('\\nTraining Accuracy using M_NB:',train_MNB)\n",
    "print('\\n\\tClassification Report on Training Data:\\n\\n')\n",
    "print(classification_report(train_y,pred_train)) "
   ]
  },
  {
   "cell_type": "code",
   "execution_count": 28,
   "metadata": {
    "execution": {
     "iopub.execute_input": "2022-03-17T17:27:25.416665Z",
     "iopub.status.busy": "2022-03-17T17:27:25.414712Z",
     "iopub.status.idle": "2022-03-17T17:27:27.880796Z",
     "shell.execute_reply": "2022-03-17T17:27:27.879600Z",
     "shell.execute_reply.started": "2022-03-17T17:27:25.416610Z"
    }
   },
   "outputs": [],
   "source": [
    "pred_test = MNB.predict(test_x)\n",
    "test_MNB=accuracy_score(test_y, pred_test)\n",
    "print('\\nTest Accuracy using NB:',test_MNB)\n",
    " \n",
    "print('\\nConfusion matrix:\\n\\n',confusion_matrix(test_y,pred_test))\n",
    "print('\\n\\tClassification Report on Testing Data:\\n')\n",
    "print(classification_report(test_y,pred_test))  \n"
   ]
  },
  {
   "cell_type": "markdown",
   "metadata": {},
   "source": [
    "Bernoulli Naive Bayes"
   ]
  },
  {
   "cell_type": "code",
   "execution_count": 29,
   "metadata": {
    "execution": {
     "iopub.execute_input": "2022-03-17T17:27:27.913250Z",
     "iopub.status.busy": "2022-03-17T17:27:27.912079Z",
     "iopub.status.idle": "2022-03-17T17:27:27.918824Z",
     "shell.execute_reply": "2022-03-17T17:27:27.917918Z",
     "shell.execute_reply.started": "2022-03-17T17:27:27.913186Z"
    }
   },
   "outputs": [],
   "source": [
    "from sklearn.naive_bayes import BernoulliNB\n",
    "from sklearn.metrics import classification_report, confusion_matrix, accuracy_score"
   ]
  },
  {
   "cell_type": "code",
   "execution_count": 30,
   "metadata": {
    "execution": {
     "iopub.execute_input": "2022-03-17T17:27:27.959667Z",
     "iopub.status.busy": "2022-03-17T17:27:27.958164Z",
     "iopub.status.idle": "2022-03-17T17:27:59.992057Z",
     "shell.execute_reply": "2022-03-17T17:27:59.991143Z",
     "shell.execute_reply.started": "2022-03-17T17:27:27.959620Z"
    }
   },
   "outputs": [],
   "source": [
    "BNB=BernoulliNB()\n",
    "BNB.fit(train_x, train_y)"
   ]
  },
  {
   "cell_type": "code",
   "execution_count": 31,
   "metadata": {
    "execution": {
     "iopub.execute_input": "2022-03-17T17:28:00.021649Z",
     "iopub.status.busy": "2022-03-17T17:28:00.021302Z",
     "iopub.status.idle": "2022-03-17T17:28:32.009846Z",
     "shell.execute_reply": "2022-03-17T17:28:32.007981Z",
     "shell.execute_reply.started": "2022-03-17T17:28:00.021612Z"
    }
   },
   "outputs": [],
   "source": [
    "pred_train = BNB.predict(train_x)\n",
    "train_BNB=accuracy_score(train_y, pred_train)\n",
    "print('\\nTraining Accuracy using M_NB:',train_BNB)\n",
    "print('\\n\\tClassification Report on Training Data:\\n\\n')\n",
    "print(classification_report(train_y,pred_train)) "
   ]
  },
  {
   "cell_type": "code",
   "execution_count": 32,
   "metadata": {
    "execution": {
     "iopub.execute_input": "2022-03-17T17:28:32.053104Z",
     "iopub.status.busy": "2022-03-17T17:28:32.052497Z",
     "iopub.status.idle": "2022-03-17T17:28:34.737907Z",
     "shell.execute_reply": "2022-03-17T17:28:34.736786Z",
     "shell.execute_reply.started": "2022-03-17T17:28:32.053063Z"
    }
   },
   "outputs": [],
   "source": [
    "pred_test = BNB.predict(test_x)\n",
    "test_BNB=accuracy_score(test_y, pred_test)\n",
    "print('\\nTest Accuracy using NB:',test_BNB)\n",
    " \n",
    "print('\\nConfusion matrix:\\n\\n',confusion_matrix(test_y,pred_test))\n",
    "print('\\n\\tClassification Report on Testing Data:\\n')\n",
    "print(classification_report(test_y,pred_test))  \n"
   ]
  },
  {
   "cell_type": "code",
   "execution_count": null,
   "metadata": {},
   "outputs": [],
   "source": []
  },
  {
   "cell_type": "markdown",
   "metadata": {},
   "source": [
    "## Model-2 Random Forest"
   ]
  },
  {
   "cell_type": "code",
   "execution_count": 33,
   "metadata": {
    "execution": {
     "iopub.execute_input": "2022-03-17T17:28:34.757910Z",
     "iopub.status.busy": "2022-03-17T17:28:34.757532Z",
     "iopub.status.idle": "2022-03-17T17:28:34.984726Z",
     "shell.execute_reply": "2022-03-17T17:28:34.983826Z",
     "shell.execute_reply.started": "2022-03-17T17:28:34.757866Z"
    }
   },
   "outputs": [],
   "source": [
    "from sklearn.ensemble import RandomForestClassifier\n",
    "from sklearn.metrics import classification_report, confusion_matrix, accuracy_score"
   ]
  },
  {
   "cell_type": "code",
   "execution_count": 34,
   "metadata": {
    "execution": {
     "iopub.execute_input": "2022-03-17T17:28:35.002296Z",
     "iopub.status.busy": "2022-03-17T17:28:35.001976Z",
     "iopub.status.idle": "2022-03-17T17:35:21.725346Z",
     "shell.execute_reply": "2022-03-17T17:35:21.724392Z",
     "shell.execute_reply.started": "2022-03-17T17:28:35.002254Z"
    }
   },
   "outputs": [],
   "source": [
    "RF = RandomForestClassifier(n_estimators=100, random_state=0) \n",
    "RF.fit(train_x, train_y)"
   ]
  },
  {
   "cell_type": "code",
   "execution_count": 35,
   "metadata": {
    "execution": {
     "iopub.execute_input": "2022-03-17T17:35:21.740325Z",
     "iopub.status.busy": "2022-03-17T17:35:21.739912Z",
     "iopub.status.idle": "2022-03-17T17:35:44.477089Z",
     "shell.execute_reply": "2022-03-17T17:35:44.476307Z",
     "shell.execute_reply.started": "2022-03-17T17:35:21.740285Z"
    }
   },
   "outputs": [],
   "source": [
    "pred_train = RF.predict(train_x)\n",
    "train_RF=accuracy_score(train_y, pred_train)\n",
    "print('\\nTraining Accuracy using RF:',train_RF)\n",
    "print('\\n\\tClassification Report on Training Data:\\n\\n')\n",
    "print(classification_report(train_y,pred_train)) \n",
    "\n"
   ]
  },
  {
   "cell_type": "code",
   "execution_count": 36,
   "metadata": {
    "execution": {
     "iopub.execute_input": "2022-03-17T17:35:44.495986Z",
     "iopub.status.busy": "2022-03-17T17:35:44.495795Z",
     "iopub.status.idle": "2022-03-17T17:35:46.442844Z",
     "shell.execute_reply": "2022-03-17T17:35:46.441911Z",
     "shell.execute_reply.started": "2022-03-17T17:35:44.495961Z"
    }
   },
   "outputs": [],
   "source": [
    "pred_test = RF.predict(test_x)\n",
    "test_RF=accuracy_score(test_y, pred_test)\n",
    "print('\\nTest Accuracy using RF:',test_RF)\n",
    " \n",
    "\n",
    "\n",
    "print('\\nConfusion matrix:\\n\\n',confusion_matrix(test_y,pred_test))\n",
    "print('\\n\\tClassification Report on Testing Data:\\n')\n",
    "print(classification_report(test_y,pred_test))  \n"
   ]
  },
  {
   "cell_type": "markdown",
   "metadata": {},
   "source": [
    "## Model-1: Decision Tree "
   ]
  },
  {
   "cell_type": "code",
   "execution_count": 37,
   "metadata": {
    "execution": {
     "iopub.execute_input": "2022-03-17T17:35:46.456537Z",
     "iopub.status.busy": "2022-03-17T17:35:46.456319Z",
     "iopub.status.idle": "2022-03-17T17:35:46.461237Z",
     "shell.execute_reply": "2022-03-17T17:35:46.460193Z",
     "shell.execute_reply.started": "2022-03-17T17:35:46.456511Z"
    }
   },
   "outputs": [],
   "source": [
    "from sklearn import tree\n",
    "from sklearn.metrics import accuracy_score\n",
    "from sklearn.metrics import classification_report, confusion_matrix, accuracy_score"
   ]
  },
  {
   "cell_type": "code",
   "execution_count": 38,
   "metadata": {
    "execution": {
     "iopub.execute_input": "2022-03-17T17:35:46.475072Z",
     "iopub.status.busy": "2022-03-17T17:35:46.474760Z",
     "iopub.status.idle": "2022-03-17T17:43:30.711981Z",
     "shell.execute_reply": "2022-03-17T17:43:30.711220Z",
     "shell.execute_reply.started": "2022-03-17T17:35:46.475043Z"
    }
   },
   "outputs": [],
   "source": [
    "DT=tree.DecisionTreeClassifier()\n",
    "DT.fit(train_x, train_y)"
   ]
  },
  {
   "cell_type": "code",
   "execution_count": 39,
   "metadata": {
    "execution": {
     "iopub.execute_input": "2022-03-17T17:43:30.733768Z",
     "iopub.status.busy": "2022-03-17T17:43:30.733546Z",
     "iopub.status.idle": "2022-03-17T17:43:47.405723Z",
     "shell.execute_reply": "2022-03-17T17:43:47.404200Z",
     "shell.execute_reply.started": "2022-03-17T17:43:30.733741Z"
    }
   },
   "outputs": [],
   "source": [
    "predictions_train = DT.predict(train_x)\n",
    "\n",
    "train_DT=accuracy_score(train_y, predictions_train)\n",
    "print('\\nTraining Accuracy using DT:',train_DT)\n",
    "print('\\n\\t')\n",
    "print('Classification Report On Training Data:\\n')\n",
    "print(classification_report(train_y,predictions_train)) "
   ]
  },
  {
   "cell_type": "code",
   "execution_count": 40,
   "metadata": {
    "execution": {
     "iopub.execute_input": "2022-03-17T17:43:47.422614Z",
     "iopub.status.busy": "2022-03-17T17:43:47.422312Z",
     "iopub.status.idle": "2022-03-17T17:43:48.894639Z",
     "shell.execute_reply": "2022-03-17T17:43:48.893836Z",
     "shell.execute_reply.started": "2022-03-17T17:43:47.422573Z"
    }
   },
   "outputs": [],
   "source": [
    "predictions_test = DT.predict(test_x)\n",
    "\n",
    "test_DT=accuracy_score(test_y, predictions_test)\n",
    "print('\\nTest Accuracy using DT:',test_DT)\n",
    " \n",
    "print('\\nConfusion matrix:\\n',confusion_matrix(test_y,predictions_test))\n",
    "print('\\n\\tClassification Report On Testing Data:\\n')\n",
    "print(classification_report(test_y,predictions_test)) "
   ]
  },
  {
   "cell_type": "code",
   "execution_count": null,
   "metadata": {},
   "outputs": [],
   "source": []
  },
  {
   "cell_type": "code",
   "execution_count": null,
   "metadata": {},
   "outputs": [],
   "source": []
  },
  {
   "cell_type": "code",
   "execution_count": null,
   "metadata": {},
   "outputs": [],
   "source": []
  },
  {
   "cell_type": "code",
   "execution_count": null,
   "metadata": {},
   "outputs": [],
   "source": []
  }
 ],
 "metadata": {
  "kernelspec": {
   "display_name": "Python 3 (ipykernel)",
   "language": "python",
   "name": "python3"
  },
  "language_info": {
   "codemirror_mode": {
    "name": "ipython",
    "version": 3
   },
   "file_extension": ".py",
   "mimetype": "text/x-python",
   "name": "python",
   "nbconvert_exporter": "python",
   "pygments_lexer": "ipython3",
   "version": "3.8.10"
  }
 },
 "nbformat": 4,
 "nbformat_minor": 4
}
