{
 "cells": [
  {
   "cell_type": "code",
   "execution_count": 60,
   "metadata": {
    "execution": {
     "iopub.execute_input": "2022-03-17T17:50:35.844966Z",
     "iopub.status.busy": "2022-03-17T17:50:35.844265Z",
     "iopub.status.idle": "2022-03-17T17:50:35.848781Z",
     "shell.execute_reply": "2022-03-17T17:50:35.847702Z",
     "shell.execute_reply.started": "2022-03-17T17:50:35.844926Z"
    }
   },
   "outputs": [],
   "source": [
    "#Import all\n",
    "import pandas as pd\n",
    "from string import punctuation\n",
    "import re\n",
    "import numpy as np"
   ]
  },
  {
   "cell_type": "code",
   "execution_count": 61,
   "metadata": {
    "execution": {
     "iopub.execute_input": "2022-03-17T17:50:35.851210Z",
     "iopub.status.busy": "2022-03-17T17:50:35.850941Z",
     "iopub.status.idle": "2022-03-17T17:50:35.925560Z",
     "shell.execute_reply": "2022-03-17T17:50:35.924878Z",
     "shell.execute_reply.started": "2022-03-17T17:50:35.851173Z"
    }
   },
   "outputs": [],
   "source": [
    "#df = pd.read_csv('D:\\D5k.csv', encoding='utf-8')\n",
    "df_train=pd.read_csv(\"../input/sentnob-sentiment-analysis-in-noisy-bangla-texts/SentNoB Dataset/Train.csv\",encoding='utf-8')\n",
    "df_test=pd.read_csv(\"../input/sentnob-sentiment-analysis-in-noisy-bangla-texts/SentNoB Dataset/Test.csv\",encoding='utf-8')\n",
    "df_val=pd.read_csv(\"../input/sentnob-sentiment-analysis-in-noisy-bangla-texts/SentNoB Dataset/Val.csv\",encoding='utf-8')\n"
   ]
  },
  {
   "cell_type": "code",
   "execution_count": 62,
   "metadata": {
    "execution": {
     "iopub.execute_input": "2022-03-17T17:50:35.927966Z",
     "iopub.status.busy": "2022-03-17T17:50:35.927534Z",
     "iopub.status.idle": "2022-03-17T17:50:35.933931Z",
     "shell.execute_reply": "2022-03-17T17:50:35.933164Z",
     "shell.execute_reply.started": "2022-03-17T17:50:35.927928Z"
    }
   },
   "outputs": [],
   "source": [
    "df_train.shape"
   ]
  },
  {
   "cell_type": "code",
   "execution_count": 63,
   "metadata": {
    "execution": {
     "iopub.execute_input": "2022-03-17T17:50:35.936953Z",
     "iopub.status.busy": "2022-03-17T17:50:35.936546Z",
     "iopub.status.idle": "2022-03-17T17:50:35.945894Z",
     "shell.execute_reply": "2022-03-17T17:50:35.945101Z",
     "shell.execute_reply.started": "2022-03-17T17:50:35.936913Z"
    }
   },
   "outputs": [],
   "source": [
    "print(df_train)"
   ]
  },
  {
   "cell_type": "code",
   "execution_count": 64,
   "metadata": {
    "execution": {
     "iopub.execute_input": "2022-03-17T17:50:35.947972Z",
     "iopub.status.busy": "2022-03-17T17:50:35.947694Z",
     "iopub.status.idle": "2022-03-17T17:50:35.956359Z",
     "shell.execute_reply": "2022-03-17T17:50:35.955577Z",
     "shell.execute_reply.started": "2022-03-17T17:50:35.947936Z"
    }
   },
   "outputs": [],
   "source": [
    "df_train['Label'].value_counts()"
   ]
  },
  {
   "cell_type": "code",
   "execution_count": 65,
   "metadata": {
    "execution": {
     "iopub.execute_input": "2022-03-17T17:50:35.958247Z",
     "iopub.status.busy": "2022-03-17T17:50:35.957914Z",
     "iopub.status.idle": "2022-03-17T17:50:35.965232Z",
     "shell.execute_reply": "2022-03-17T17:50:35.964394Z",
     "shell.execute_reply.started": "2022-03-17T17:50:35.958211Z"
    }
   },
   "outputs": [],
   "source": [
    "df_test.shape"
   ]
  },
  {
   "cell_type": "code",
   "execution_count": 66,
   "metadata": {
    "execution": {
     "iopub.execute_input": "2022-03-17T17:50:35.967310Z",
     "iopub.status.busy": "2022-03-17T17:50:35.966515Z",
     "iopub.status.idle": "2022-03-17T17:50:35.976284Z",
     "shell.execute_reply": "2022-03-17T17:50:35.975143Z",
     "shell.execute_reply.started": "2022-03-17T17:50:35.967275Z"
    }
   },
   "outputs": [],
   "source": [
    "print(df_test)"
   ]
  },
  {
   "cell_type": "code",
   "execution_count": 67,
   "metadata": {
    "execution": {
     "iopub.execute_input": "2022-03-17T17:50:35.980553Z",
     "iopub.status.busy": "2022-03-17T17:50:35.978090Z",
     "iopub.status.idle": "2022-03-17T17:50:35.986881Z",
     "shell.execute_reply": "2022-03-17T17:50:35.986035Z",
     "shell.execute_reply.started": "2022-03-17T17:50:35.980525Z"
    }
   },
   "outputs": [],
   "source": [
    "df_test['Label'].value_counts()"
   ]
  },
  {
   "cell_type": "markdown",
   "metadata": {},
   "source": [
    "## Marge train and test data"
   ]
  },
  {
   "cell_type": "code",
   "execution_count": 68,
   "metadata": {
    "execution": {
     "iopub.execute_input": "2022-03-17T17:50:35.988972Z",
     "iopub.status.busy": "2022-03-17T17:50:35.988423Z",
     "iopub.status.idle": "2022-03-17T17:50:35.997318Z",
     "shell.execute_reply": "2022-03-17T17:50:35.996579Z",
     "shell.execute_reply.started": "2022-03-17T17:50:35.988897Z"
    }
   },
   "outputs": [],
   "source": [
    "df=df_train.append(df_test)"
   ]
  },
  {
   "cell_type": "code",
   "execution_count": 69,
   "metadata": {
    "execution": {
     "iopub.execute_input": "2022-03-17T17:50:36.000404Z",
     "iopub.status.busy": "2022-03-17T17:50:36.000104Z",
     "iopub.status.idle": "2022-03-17T17:50:36.007726Z",
     "shell.execute_reply": "2022-03-17T17:50:36.007017Z",
     "shell.execute_reply.started": "2022-03-17T17:50:36.000363Z"
    }
   },
   "outputs": [],
   "source": [
    "df.shape"
   ]
  },
  {
   "cell_type": "markdown",
   "metadata": {},
   "source": [
    "## Drop duplicates value"
   ]
  },
  {
   "cell_type": "code",
   "execution_count": 70,
   "metadata": {
    "execution": {
     "iopub.execute_input": "2022-03-17T17:50:36.034630Z",
     "iopub.status.busy": "2022-03-17T17:50:36.034205Z",
     "iopub.status.idle": "2022-03-17T17:50:36.061683Z",
     "shell.execute_reply": "2022-03-17T17:50:36.061013Z",
     "shell.execute_reply.started": "2022-03-17T17:50:36.034586Z"
    }
   },
   "outputs": [],
   "source": [
    "df.drop_duplicates(inplace=True)"
   ]
  },
  {
   "cell_type": "code",
   "execution_count": 71,
   "metadata": {
    "execution": {
     "iopub.execute_input": "2022-03-17T17:50:36.063813Z",
     "iopub.status.busy": "2022-03-17T17:50:36.063170Z",
     "iopub.status.idle": "2022-03-17T17:50:36.069496Z",
     "shell.execute_reply": "2022-03-17T17:50:36.068747Z",
     "shell.execute_reply.started": "2022-03-17T17:50:36.063775Z"
    }
   },
   "outputs": [],
   "source": [
    "df.shape"
   ]
  },
  {
   "cell_type": "code",
   "execution_count": 72,
   "metadata": {
    "execution": {
     "iopub.execute_input": "2022-03-17T17:50:36.071503Z",
     "iopub.status.busy": "2022-03-17T17:50:36.070678Z",
     "iopub.status.idle": "2022-03-17T17:50:36.082345Z",
     "shell.execute_reply": "2022-03-17T17:50:36.081309Z",
     "shell.execute_reply.started": "2022-03-17T17:50:36.071462Z"
    }
   },
   "outputs": [],
   "source": [
    "print(df)"
   ]
  },
  {
   "cell_type": "code",
   "execution_count": 73,
   "metadata": {
    "execution": {
     "iopub.execute_input": "2022-03-17T17:50:36.084335Z",
     "iopub.status.busy": "2022-03-17T17:50:36.083663Z",
     "iopub.status.idle": "2022-03-17T17:50:36.094438Z",
     "shell.execute_reply": "2022-03-17T17:50:36.093651Z",
     "shell.execute_reply.started": "2022-03-17T17:50:36.084292Z"
    }
   },
   "outputs": [],
   "source": [
    "df['Label'].value_counts()"
   ]
  },
  {
   "cell_type": "code",
   "execution_count": 74,
   "metadata": {
    "execution": {
     "iopub.execute_input": "2022-03-17T17:50:36.097864Z",
     "iopub.status.busy": "2022-03-17T17:50:36.097337Z",
     "iopub.status.idle": "2022-03-17T17:50:36.105669Z",
     "shell.execute_reply": "2022-03-17T17:50:36.104790Z",
     "shell.execute_reply.started": "2022-03-17T17:50:36.097821Z"
    }
   },
   "outputs": [],
   "source": [
    "print(df.head())"
   ]
  },
  {
   "cell_type": "code",
   "execution_count": 75,
   "metadata": {
    "execution": {
     "iopub.execute_input": "2022-03-17T17:50:36.107685Z",
     "iopub.status.busy": "2022-03-17T17:50:36.107190Z",
     "iopub.status.idle": "2022-03-17T17:50:36.116016Z",
     "shell.execute_reply": "2022-03-17T17:50:36.115228Z",
     "shell.execute_reply.started": "2022-03-17T17:50:36.107646Z"
    }
   },
   "outputs": [],
   "source": [
    "print(df.tail())"
   ]
  },
  {
   "cell_type": "code",
   "execution_count": 76,
   "metadata": {
    "execution": {
     "iopub.execute_input": "2022-03-17T17:50:36.118130Z",
     "iopub.status.busy": "2022-03-17T17:50:36.117578Z",
     "iopub.status.idle": "2022-03-17T17:50:36.132260Z",
     "shell.execute_reply": "2022-03-17T17:50:36.131343Z",
     "shell.execute_reply.started": "2022-03-17T17:50:36.118090Z"
    }
   },
   "outputs": [],
   "source": [
    "print(df.describe())"
   ]
  },
  {
   "cell_type": "markdown",
   "metadata": {},
   "source": [
    "## Check null data"
   ]
  },
  {
   "cell_type": "code",
   "execution_count": 77,
   "metadata": {
    "execution": {
     "iopub.execute_input": "2022-03-17T17:50:36.134409Z",
     "iopub.status.busy": "2022-03-17T17:50:36.133602Z",
     "iopub.status.idle": "2022-03-17T17:50:36.147496Z",
     "shell.execute_reply": "2022-03-17T17:50:36.146718Z",
     "shell.execute_reply.started": "2022-03-17T17:50:36.134363Z"
    }
   },
   "outputs": [],
   "source": [
    "import seaborn as sns\n",
    "import matplotlib.pyplot as plt\n",
    "from matplotlib import style\n",
    "\n",
    "df.isnull().sum()"
   ]
  },
  {
   "cell_type": "markdown",
   "metadata": {},
   "source": [
    "## Cisualization of Missing Values"
   ]
  },
  {
   "cell_type": "code",
   "execution_count": 78,
   "metadata": {
    "execution": {
     "iopub.execute_input": "2022-03-17T17:50:36.149689Z",
     "iopub.status.busy": "2022-03-17T17:50:36.149203Z",
     "iopub.status.idle": "2022-03-17T17:50:36.548614Z",
     "shell.execute_reply": "2022-03-17T17:50:36.547976Z",
     "shell.execute_reply.started": "2022-03-17T17:50:36.149649Z"
    }
   },
   "outputs": [],
   "source": [
    "sns.heatmap(df.isnull())\n",
    "plt.title('Visualization of Missing Values')"
   ]
  },
  {
   "cell_type": "markdown",
   "metadata": {},
   "source": [
    "## Plot data"
   ]
  },
  {
   "cell_type": "code",
   "execution_count": 79,
   "metadata": {
    "execution": {
     "iopub.execute_input": "2022-03-17T17:50:36.550442Z",
     "iopub.status.busy": "2022-03-17T17:50:36.550006Z",
     "iopub.status.idle": "2022-03-17T17:50:36.719948Z",
     "shell.execute_reply": "2022-03-17T17:50:36.719185Z",
     "shell.execute_reply.started": "2022-03-17T17:50:36.550402Z"
    }
   },
   "outputs": [],
   "source": [
    "ax = sns.countplot(x=\"Label\", data=df)\n"
   ]
  },
  {
   "cell_type": "code",
   "execution_count": 80,
   "metadata": {
    "execution": {
     "iopub.execute_input": "2022-03-17T17:50:36.721833Z",
     "iopub.status.busy": "2022-03-17T17:50:36.721408Z",
     "iopub.status.idle": "2022-03-17T17:50:36.726396Z",
     "shell.execute_reply": "2022-03-17T17:50:36.725423Z",
     "shell.execute_reply.started": "2022-03-17T17:50:36.721796Z"
    }
   },
   "outputs": [],
   "source": [
    "Target=df['Label']"
   ]
  },
  {
   "cell_type": "code",
   "execution_count": 81,
   "metadata": {
    "execution": {
     "iopub.execute_input": "2022-03-17T17:50:36.728273Z",
     "iopub.status.busy": "2022-03-17T17:50:36.727765Z",
     "iopub.status.idle": "2022-03-17T17:50:36.740819Z",
     "shell.execute_reply": "2022-03-17T17:50:36.740066Z",
     "shell.execute_reply.started": "2022-03-17T17:50:36.728229Z"
    }
   },
   "outputs": [],
   "source": [
    "Text=df['Data'].tolist()"
   ]
  },
  {
   "cell_type": "code",
   "execution_count": 82,
   "metadata": {
    "execution": {
     "iopub.execute_input": "2022-03-17T17:50:36.743186Z",
     "iopub.status.busy": "2022-03-17T17:50:36.742459Z",
     "iopub.status.idle": "2022-03-17T17:50:36.789782Z",
     "shell.execute_reply": "2022-03-17T17:50:36.789185Z",
     "shell.execute_reply.started": "2022-03-17T17:50:36.743084Z"
    }
   },
   "outputs": [],
   "source": [
    "print(Text)"
   ]
  },
  {
   "cell_type": "markdown",
   "metadata": {},
   "source": [
    "# # Remove Punctuation, Digit, Eng_Characture, Extra space"
   ]
  },
  {
   "cell_type": "code",
   "execution_count": 83,
   "metadata": {
    "execution": {
     "iopub.execute_input": "2022-03-17T17:50:36.793573Z",
     "iopub.status.busy": "2022-03-17T17:50:36.793331Z",
     "iopub.status.idle": "2022-03-17T17:50:36.819016Z",
     "shell.execute_reply": "2022-03-17T17:50:36.818049Z",
     "shell.execute_reply.started": "2022-03-17T17:50:36.793543Z"
    }
   },
   "outputs": [],
   "source": [
    "\n",
    "def clean_text(plain_text):\n",
    "    \n",
    "    processed_plain_text=[]\n",
    "    \n",
    "    for i in range(len(plain_text)):\n",
    "        p=[plain_text[i]\n",
    "        .replace(\",\",\" \").replace(\";\",\"\").replace(\"।\",\" \").replace(\"?\",\"\").replace(\"!\",\"\").replace(\":\",\"\").replace(\"—\",\" \")\n",
    "        .replace(\":-\",\"\").replace(\"-\",\" \").replace(\"’\",\"\").replace(\"'\",\"\").replace(\"“\",\"\").replace(\"”\",\"\").replace(\"(\",\"\")\n",
    "        .replace(\")\",\"\").replace(\"{\",\"\").replace(\"}\",\"\").replace(\"[\",\"\").replace(\"]\",\"\").replace(\"√\",\"\").replace(\"<\",\"\")\n",
    "        .replace(\">\",\"\").replace(\"=\",\"\").replace(\"...\",\"\").replace(\".\",\"\").replace(\"*\",\"\").replace(\"|\",\"\").replace(\"/\",\"\")\n",
    "        .replace(\"$\",\"\").replace(\"@\",\"\").replace(\"+\",\"\").replace(\"0\",\"\").replace(\"1\",\"\").replace(\"2\",\"\").replace(\"3\",\"\")\n",
    "        .replace(\"4\",\"\").replace(\"5\",\"\").replace(\"6\",\"\").replace(\"7\",\"\").replace(\"8\",\"\").replace(\"9\",\"\").replace(\"A\",\"\")\n",
    "        .replace(\"B\",\"\").replace(\"C\",\"\").replace(\"D\",\"\").replace(\"E\",\"\").replace(\"F\",\"\").replace(\"G\",\"\").replace(\"H\",\"\")\n",
    "        .replace(\"I\",\"\").replace(\"J\",\"\").replace(\"K\",\"\").replace(\"L\",\"\").replace(\"M\",\"\").replace(\"N\",\"\").replace(\"O\",\"\")\n",
    "        .replace(\"P\",\"\").replace(\"Q\",\"\").replace(\"R\",\"\").replace(\"S\",\"\").replace(\"T\",\"\").replace(\"U\",\"\").replace(\"V\",\"\")\n",
    "        .replace(\"W\",\"\").replace(\"X\",\"\").replace(\"Y\",\"\").replace(\"Z\",\"\").replace(\"০\",\"\").replace(\"১\",\"\").replace(\"২\",\"\")\n",
    "        .replace(\"৩\",\"\").replace(\"৪\",\"\").replace(\"৫\",\"\").replace(\"৬\",\"\").replace(\"৭\",\"\").replace(\"৮\",\"\").replace(\"৯\",\"\")\n",
    "        .replace(\"a\",\"\").replace(\"b\",\"\").replace(\"c\",\"\").replace(\"d\",\"\").replace(\"e\",\"\").replace(\"f\",\"\").replace(\"g\",\"\")\n",
    "        .replace(\"h\",\"\").replace(\"i\",\"\").replace(\"j\",\"\").replace(\"k\",\"\").replace(\"l\",\"\").replace(\"m\",\"\").replace(\"n\",\"\")\n",
    "        .replace(\"o\",\"\").replace(\"p\",\"\").replace(\"q\",\"\").replace(\"r\",\"\").replace(\"s\",\"\").replace(\"t\",\"\").replace(\"u\",\"\")\n",
    "        .replace(\"v\",\"\").replace(\"w\",\"\").replace(\"x\",\"\").replace(\"y\",\"\").replace(\"z\",\"\").replace(\" \",\" \")]\n",
    "        processed_plain_text.append(p)\n",
    "    \n",
    "    #print(processed_plain_text)\n",
    "    return processed_plain_text\n",
    "\n",
    "\n"
   ]
  },
  {
   "cell_type": "markdown",
   "metadata": {},
   "source": [
    "# # Remove emojis"
   ]
  },
  {
   "cell_type": "code",
   "execution_count": 84,
   "metadata": {
    "execution": {
     "iopub.execute_input": "2022-03-17T17:50:36.821403Z",
     "iopub.status.busy": "2022-03-17T17:50:36.820890Z",
     "iopub.status.idle": "2022-03-17T17:50:36.832743Z",
     "shell.execute_reply": "2022-03-17T17:50:36.832048Z",
     "shell.execute_reply.started": "2022-03-17T17:50:36.821366Z"
    }
   },
   "outputs": [],
   "source": [
    "\n",
    "def remove_line_emoji(string):\n",
    "    emoji_pattern = re.compile(\"[\"\n",
    "                           u\"\\U0001F600-\\U0001F64F\"  # emoticons\n",
    "                           u\"\\U0001F300-\\U0001F5FF\"  # symbols & pictographs\n",
    "                           u\"\\U0001F680-\\U0001F6FF\"  # transport & map symbols\n",
    "                           u\"\\U0001F1E0-\\U0001F1FF\"  # flags (iOS)\n",
    "                           u\"\\U00002702-\\U000027B0\"\n",
    "                           u\"\\U000024C2-\\U0001F251\"\n",
    "                           \"]+\", flags=re.UNICODE)\n",
    "    return emoji_pattern.sub(r'', string)\n",
    "\n",
    "\n",
    "def remove_emojis(plainText):\n",
    "    processText=[]\n",
    "    for i in range(len(plainText)):\n",
    "        cleanLine=remove_line_emoji(plainText[i])\n",
    "        #plainText[i]=list(cleanLine)\n",
    "        processText.append(cleanLine)\n",
    "    #print(\"\\n\\nemoji removed text:\\n\\n\")\n",
    "    return processText\n",
    "    \n",
    "\n",
    "\n"
   ]
  },
  {
   "cell_type": "markdown",
   "metadata": {},
   "source": [
    "# # Tokenize the text"
   ]
  },
  {
   "cell_type": "code",
   "execution_count": 85,
   "metadata": {
    "execution": {
     "iopub.execute_input": "2022-03-17T17:50:36.834809Z",
     "iopub.status.busy": "2022-03-17T17:50:36.834282Z",
     "iopub.status.idle": "2022-03-17T17:50:36.844778Z",
     "shell.execute_reply": "2022-03-17T17:50:36.844038Z",
     "shell.execute_reply.started": "2022-03-17T17:50:36.834771Z"
    }
   },
   "outputs": [],
   "source": [
    "def tokenize_text(processed_plain_text):\n",
    "    \n",
    "    tokenization_result=[]\n",
    "    for j in processed_plain_text:\n",
    "        t=j[0].split(\" \")\n",
    "        tokenization_result.append(t)\n",
    "    #print(tokenization_result)\n",
    "    return tokenization_result"
   ]
  },
  {
   "cell_type": "markdown",
   "metadata": {},
   "source": [
    "# # Bangla Stop Word List"
   ]
  },
  {
   "cell_type": "code",
   "execution_count": 86,
   "metadata": {
    "execution": {
     "iopub.execute_input": "2022-03-17T17:50:36.847029Z",
     "iopub.status.busy": "2022-03-17T17:50:36.846482Z",
     "iopub.status.idle": "2022-03-17T17:50:36.880927Z",
     "shell.execute_reply": "2022-03-17T17:50:36.879894Z",
     "shell.execute_reply.started": "2022-03-17T17:50:36.846992Z"
    }
   },
   "outputs": [],
   "source": [
    "#Bengali_Stopwords\n",
    "li=['অতএব','অথচ','অথবা','অনুযায়ী','অনেক', 'ও', 'অনেকে', 'অনেকেই', 'অন্তত','অন্য', 'অবধি', 'অবশ্য','অর্থাত','আই','আগামী','আগে','আগেই','আছে','আজ','আদ্যভাগে','আপনার', 'আপনি', 'আবার', 'আমরা', 'আমাকে', 'আমাদের', 'আমার','আমি','আর','আরও','ই','ইত্যাদি', 'ইহা', \n",
    "    'উচিত','উত্তর','উনি','উপর','উপরে','এ','এঁদের','এঁরা','এই','একই','একটি','একবার','একে','এক্','এখন','এখনও','এখানে','এখানেই','এটা','এটাই','এটি','এত','এতটাই','এতে','এদের','এব','এবং','এবার','এমন','এমনকী','এমনি','এর','এরা','এল','এস','এসে','ঐ','ও','ওঁদের','ওঁর',\n",
    "    'ওঁরা','ওই','ওকে','ওখানে','ওদের','ওর','ওরা','কখনও','কত','কবে','কমনে','কয়েক','কয়েকটি','করছে','করছেন','করতে','করবে','করবেন',\n",
    "    'করলে','করলেন','করা','করাই','করায়','করার','করি','করিতে','করিয়া','করিয়ে','করে','করেই','করেছিলেন','করেছে','করেছেন','করেন','কাউকে',\n",
    "    'কাছ','কাছে','কাজ','কাজে','কারও','কারণ','কি','কিংবা','কিছু','কিছুই','কিন্তু','কী','কে','কেউ','কেউই','কেখা','কেন','কোটি','কোন','কোনও','কোনো','ক্ষেত্রে','কয়েক','খুব','গিয়ে','গিয়েছে','গিয়ে','গুলি','গেছে','গেল','গেলে',\n",
    "    'গোটা','চলে','চান', 'চায়','চার','চালু','চেয়ে','চেষ্টা','ছাড়া','ছাড়াও','ছিল','ছিলেন','জন','জনকে','জনের','জন্য','জন্যওজে','জানতে','জানা',\n",
    "    'জানানো','জানায়','জানিয়ে','জানিয়েছে','জে','জ্নজন','টি','ঠিক','তখন','তত','তথা','তবু','তবে','তা','তাঁকে','তাঁদের','তাঁর','তাঁরা','তাঁাহারা',\n",
    "    'তাই','তাও','তাকে','তাতে','তাদের','তার','তারপর','তারা','তারৈ','তাহলে','তাহা','তাহাতে','তাহার','তিনঐ','তিনি','তিনিও','তুমি','তুলে','তেমন',\n",
    "    'তো','তোমার','থাকবে','থাকবেন','থাকা','থাকায়','থাকে','থাকেন','থেকে','থেকেই','থেকেও','দিকে','দিন','দিতে','দিয়ে','দিয়েছে','দিয়েছেন','দিলেন',\n",
    "    'দু','দুই','দুটি','দুটো','দেওয়া','দেওয়ার','দেওয়া','দেখতে','দেখা','দেখে','দেন','দেয়','দ্বারা','ধরা','ধরে','ধামার','নতুন','নয়','না','নাই',\n",
    "    'নাকি','নাগাদ','নানা','নিজে','নিজেই','নিজেদের','নিজের','নিতে','নিয়ে','নেই','নেওয়া','নেওয়ার','নয়','পক্ষে','পর','পরে','পরেই','পরেও',\n",
    "    'পর্যন্ত','পাওয়া','পাচ','পারি','পারে','পারেন','পি','পেয়ে','প্রতি','প্রথম','প্রভৃতি','প্রাথমিক','প্রায়','ফলে','ফিরে','ফের','বক্তব্য','বদলে','বন',\n",
    "    'বরং','বলতে','বলল','বললেন','বলা','বলে','বলেছেন','বলেন','বসে','বহু','বা','বাদে','বার','বি','বিনা','বিভিন্ন','বিশেষ','বিষয়টি','বেশ',\n",
    "    'বেশি','ব্যবহার','ব্যাপারে','ভাবে','ভাবেই','মতো','মতোই','মধ্যভাগে','মধ্যে','মধ্যেই','মধ্যেও','মনে','মাত্র','মাধ্যমে','মোট','মোটেই','যখন',\n",
    "    'যত','যতটা','যথেষ্ট','যদি','যদিও','যা','যাঁর','যাঁরা','যাওয়া','যাওয়ার','যাওয়া','যাকে','যাচ্ছে','যাতে','যাদের','যান','যাবে','যায়','যার',\n",
    "    'যারা','যিনি','যে','যেখানে','যেতে','যেন','যেমন','র','রকম','রয়েছে','রাখা','রেখে','লক্ষ','শুধু','শুরু','সঙ্গে','সঙ্গেও','সব','সবার',\n",
    "    'সমস্ত','সম্প্রতি','সহ','সহিত','সাধারণ','সামনে','সি','সুতরাং','সে','সেই','সেখান','সেখানে','সেটা','সেটাই','সেটাও','সেটি','স্পষ্ট','স্বয়ং',\n",
    "    'হইতে','হইবে','হইয়া','হওয়া','হওয়ায়','হওয়ার','হচ্ছে','হত','হতে','হতেই','হন','হবে','হবেন','হয়','হয়তো','হয়নি','হয়ে','হয়েই','হয়েছিল',\n",
    "    'হয়েছে','হয়েছেন','হল','হলে','হলেই','হলেও','হলো','হাজার','হিসাবে','হৈলে','হোক','হয়','টা','তে','য়','ক','খ','গ','ঘ','ঙ','চ','ছ','জ','ঝ','ঞ','ট','ঠ','ড','ঢ','ণ','ত','থ','দ','ধ','ন','প',\n",
    "     'ফ','ব','ভ','ম','য','র','ল','শ','স','হ','অ','আ','ঈ','ঋ','এ','ঔ','এক','বেন','অব','থ্রোন্স']"
   ]
  },
  {
   "cell_type": "markdown",
   "metadata": {},
   "source": [
    "# # Remove Stop Words and Extra Spaces"
   ]
  },
  {
   "cell_type": "code",
   "execution_count": 87,
   "metadata": {
    "execution": {
     "iopub.execute_input": "2022-03-17T17:50:36.883925Z",
     "iopub.status.busy": "2022-03-17T17:50:36.883252Z",
     "iopub.status.idle": "2022-03-17T17:50:36.891045Z",
     "shell.execute_reply": "2022-03-17T17:50:36.890189Z",
     "shell.execute_reply.started": "2022-03-17T17:50:36.883702Z"
    }
   },
   "outputs": [],
   "source": [
    "# def remove_stop_words(tokenization_result):\n",
    "#     r =[]\n",
    "#     stop_words_removal_result = [[] for i in range(len(tokenization_result))]\n",
    "#     for i in range(len(tokenization_result)):\n",
    "#         for j in range(len(tokenization_result[i])):\n",
    "#             if tokenization_result[i][j] not in li and len(tokenization_result[i][j])>0:\n",
    "#                 r.append(tokenization_result[i][j])\n",
    "#                 stop_words_removal_result[i].append(tokenization_result[i][j])\n",
    "#     print(stop_words_removal_result)\n",
    "#     return stop_words_removal_result,r"
   ]
  },
  {
   "cell_type": "markdown",
   "metadata": {},
   "source": [
    "# # Data cleaning part"
   ]
  },
  {
   "cell_type": "code",
   "execution_count": 88,
   "metadata": {
    "execution": {
     "iopub.execute_input": "2022-03-17T17:50:36.893646Z",
     "iopub.status.busy": "2022-03-17T17:50:36.892931Z",
     "iopub.status.idle": "2022-03-17T17:50:36.998111Z",
     "shell.execute_reply": "2022-03-17T17:50:36.997419Z",
     "shell.execute_reply.started": "2022-03-17T17:50:36.893604Z"
    }
   },
   "outputs": [],
   "source": [
    "# Remove emojis\n",
    "Text=remove_emojis(Text)\n"
   ]
  },
  {
   "cell_type": "code",
   "execution_count": 89,
   "metadata": {
    "execution": {
     "iopub.execute_input": "2022-03-17T17:50:36.999747Z",
     "iopub.status.busy": "2022-03-17T17:50:36.999475Z",
     "iopub.status.idle": "2022-03-17T17:50:37.203753Z",
     "shell.execute_reply": "2022-03-17T17:50:37.203013Z",
     "shell.execute_reply.started": "2022-03-17T17:50:36.999698Z"
    }
   },
   "outputs": [],
   "source": [
    "\n",
    "# Remove Punctuation, Digit, Eng_Characture\n",
    "Text=clean_text(Text)\n"
   ]
  },
  {
   "cell_type": "code",
   "execution_count": 90,
   "metadata": {
    "execution": {
     "iopub.execute_input": "2022-03-17T17:50:37.206365Z",
     "iopub.status.busy": "2022-03-17T17:50:37.205880Z",
     "iopub.status.idle": "2022-03-17T17:50:37.243050Z",
     "shell.execute_reply": "2022-03-17T17:50:37.242319Z",
     "shell.execute_reply.started": "2022-03-17T17:50:37.206327Z"
    }
   },
   "outputs": [],
   "source": [
    "# Tokenize the text\n",
    "Text=tokenize_text(Text)\n"
   ]
  },
  {
   "cell_type": "code",
   "execution_count": 91,
   "metadata": {
    "execution": {
     "iopub.execute_input": "2022-03-17T17:50:37.244268Z",
     "iopub.status.busy": "2022-03-17T17:50:37.244073Z",
     "iopub.status.idle": "2022-03-17T17:50:37.248550Z",
     "shell.execute_reply": "2022-03-17T17:50:37.247658Z",
     "shell.execute_reply.started": "2022-03-17T17:50:37.244245Z"
    }
   },
   "outputs": [],
   "source": [
    "#Remove stop words and  Extra space\n",
    "#trainText,r=remove_stop_words(trainText)\n",
    "\n"
   ]
  },
  {
   "cell_type": "markdown",
   "metadata": {},
   "source": [
    "## Remove stop words and  Extra space"
   ]
  },
  {
   "cell_type": "code",
   "execution_count": 92,
   "metadata": {
    "execution": {
     "iopub.execute_input": "2022-03-17T17:50:37.250986Z",
     "iopub.status.busy": "2022-03-17T17:50:37.250244Z",
     "iopub.status.idle": "2022-03-17T17:50:40.181084Z",
     "shell.execute_reply": "2022-03-17T17:50:40.180415Z",
     "shell.execute_reply.started": "2022-03-17T17:50:37.250944Z"
    }
   },
   "outputs": [],
   "source": [
    "\n",
    "r =[]\n",
    "stop_words_removal_result = [[] for i in range(len(Text))]\n",
    "for i in range(len(Text)):\n",
    "    for j in range(len(Text[i])):\n",
    "        if Text[i][j] not in li and len(Text[i][j])>0:\n",
    "            r.append(Text[i][j])\n",
    "            stop_words_removal_result[i].append(Text[i][j])\n",
    "print(stop_words_removal_result)\n",
    "    "
   ]
  },
  {
   "cell_type": "markdown",
   "metadata": {},
   "source": [
    "# # Count TF vectorizer"
   ]
  },
  {
   "cell_type": "code",
   "execution_count": 93,
   "metadata": {
    "execution": {
     "iopub.execute_input": "2022-03-17T17:50:40.182529Z",
     "iopub.status.busy": "2022-03-17T17:50:40.182294Z",
     "iopub.status.idle": "2022-03-17T17:50:40.544372Z",
     "shell.execute_reply": "2022-03-17T17:50:40.543710Z",
     "shell.execute_reply.started": "2022-03-17T17:50:40.182499Z"
    }
   },
   "outputs": [],
   "source": [
    "from collections import Counter\n",
    "cnt = Counter(r)\n",
    "TF = {}\n",
    "for processed_plain_text in Text:\n",
    "    for word in processed_plain_text:\n",
    "        TF[word] = round(cnt[word]/len(processed_plain_text),2)\n",
    "#print(counts)\n",
    "print(TF)"
   ]
  },
  {
   "cell_type": "markdown",
   "metadata": {},
   "source": [
    "# # Count IDF vectorizer"
   ]
  },
  {
   "cell_type": "code",
   "execution_count": 94,
   "metadata": {
    "execution": {
     "iopub.execute_input": "2022-03-17T17:50:40.546013Z",
     "iopub.status.busy": "2022-03-17T17:50:40.545790Z",
     "iopub.status.idle": "2022-03-17T17:52:37.754168Z",
     "shell.execute_reply": "2022-03-17T17:52:37.753469Z",
     "shell.execute_reply.started": "2022-03-17T17:50:40.545983Z"
    }
   },
   "outputs": [],
   "source": [
    "n = len(Text) \n",
    "#print(n)\n",
    "terms = list(TF.keys())\n",
    "import math\n",
    "IDF = {}\n",
    "for term in terms:\n",
    "    c = 0\n",
    "    for doc in Text:\n",
    "        if term in doc:\n",
    "            c+=1\n",
    "    IDF[term] = math.log(n/(c+1))\n",
    "print(IDF)\n"
   ]
  },
  {
   "cell_type": "markdown",
   "metadata": {},
   "source": [
    "# # Multiply TF and IDF vectorizer"
   ]
  },
  {
   "cell_type": "code",
   "execution_count": 95,
   "metadata": {
    "execution": {
     "iopub.execute_input": "2022-03-17T17:52:37.755931Z",
     "iopub.status.busy": "2022-03-17T17:52:37.755675Z",
     "iopub.status.idle": "2022-03-17T17:55:07.503017Z",
     "shell.execute_reply": "2022-03-17T17:55:07.502246Z",
     "shell.execute_reply.started": "2022-03-17T17:52:37.755899Z"
    }
   },
   "outputs": [],
   "source": [
    "#Calculate tfIdf\n",
    "tfIdf = [[] for i in range(len(Text))]\n",
    "for i in range(len(Text)):\n",
    "    for word in terms:\n",
    "        if word in Text[i]:\n",
    "            tfIdf[i].append(TF[word]*IDF[word])\n",
    "        else:\n",
    "            tfIdf[i].append(0)\n",
    "print(tfIdf[10])"
   ]
  },
  {
   "cell_type": "markdown",
   "metadata": {},
   "source": [
    "## Splitting the Dataset"
   ]
  },
  {
   "cell_type": "code",
   "execution_count": 96,
   "metadata": {
    "execution": {
     "iopub.execute_input": "2022-03-17T17:55:07.505911Z",
     "iopub.status.busy": "2022-03-17T17:55:07.504149Z",
     "iopub.status.idle": "2022-03-17T17:55:08.219403Z",
     "shell.execute_reply": "2022-03-17T17:55:08.218632Z",
     "shell.execute_reply.started": "2022-03-17T17:55:07.505867Z"
    }
   },
   "outputs": [],
   "source": [
    "#Train Data\n",
    "\n",
    "train_x= tfIdf[:12575]\n",
    "train_y= Target[:12575]\n",
    "\n",
    "#Test Data\n",
    "test_x=tfIdf[12575:]\n",
    "test_y=Target[12575:]"
   ]
  },
  {
   "cell_type": "markdown",
   "metadata": {},
   "source": [
    "## Model-3 Gaussian Naive Bayes"
   ]
  },
  {
   "cell_type": "code",
   "execution_count": 97,
   "metadata": {
    "execution": {
     "iopub.execute_input": "2022-03-17T17:55:08.221163Z",
     "iopub.status.busy": "2022-03-17T17:55:08.220904Z",
     "iopub.status.idle": "2022-03-17T17:55:08.230406Z",
     "shell.execute_reply": "2022-03-17T17:55:08.229683Z",
     "shell.execute_reply.started": "2022-03-17T17:55:08.221129Z"
    }
   },
   "outputs": [],
   "source": [
    "from sklearn.naive_bayes import GaussianNB\n",
    "from sklearn.metrics import classification_report, confusion_matrix, accuracy_score"
   ]
  },
  {
   "cell_type": "code",
   "execution_count": 98,
   "metadata": {
    "execution": {
     "iopub.execute_input": "2022-03-17T17:55:08.231836Z",
     "iopub.status.busy": "2022-03-17T17:55:08.231497Z",
     "iopub.status.idle": "2022-03-17T17:56:16.507313Z",
     "shell.execute_reply": "2022-03-17T17:56:16.506633Z",
     "shell.execute_reply.started": "2022-03-17T17:55:08.231799Z"
    }
   },
   "outputs": [],
   "source": [
    "NB=GaussianNB()\n",
    "NB.fit(train_x, train_y)"
   ]
  },
  {
   "cell_type": "code",
   "execution_count": null,
   "metadata": {
    "execution": {
     "iopub.execute_input": "2022-03-17T17:56:16.508949Z",
     "iopub.status.busy": "2022-03-17T17:56:16.508391Z"
    }
   },
   "outputs": [],
   "source": [
    "pred_train = NB.predict(train_x)\n",
    "train_NB=accuracy_score(train_y, pred_train)\n",
    "print('\\nTraining Accuracy using NB:',train_NB)\n",
    "print('\\n\\tClassification Report on Training Data:\\n\\n')\n",
    "print(classification_report(train_y,pred_train)) "
   ]
  },
  {
   "cell_type": "code",
   "execution_count": null,
   "metadata": {},
   "outputs": [],
   "source": [
    "pred_test = NB.predict(test_x)\n",
    "test_NB=accuracy_score(test_y, pred_test)\n",
    "print('\\nTest Accuracy using NB:',test_NB)\n",
    " \n",
    "\n",
    "\n",
    "print('\\nConfusion matrix:\\n\\n',confusion_matrix(test_y,pred_test))\n",
    "print('\\n\\tClassification Report on Testing Data:\\n')\n",
    "print(classification_report(test_y,pred_test))  \n"
   ]
  },
  {
   "cell_type": "code",
   "execution_count": null,
   "metadata": {},
   "outputs": [],
   "source": []
  },
  {
   "cell_type": "markdown",
   "metadata": {},
   "source": [
    "**Support Vector Machine(SVM-Linear)**"
   ]
  },
  {
   "cell_type": "code",
   "execution_count": null,
   "metadata": {},
   "outputs": [],
   "source": [
    "from sklearn import svm\n",
    "from sklearn.metrics import classification_report, confusion_matrix, accuracy_score"
   ]
  },
  {
   "cell_type": "code",
   "execution_count": null,
   "metadata": {},
   "outputs": [],
   "source": [
    "SVM_MODEL = svm.SVC(kernel='linear')\n",
    "SVM_MODEL.fit(X_train, y_train)"
   ]
  },
  {
   "cell_type": "code",
   "execution_count": null,
   "metadata": {},
   "outputs": [],
   "source": [
    "pred_train = SVM_MODEL.predict(train_x)\n",
    "train_SVM=accuracy_score(train_y, pred_train)\n",
    "print('\\nTraining Accuracy using Linear SVM:',train_SVM)\n",
    "print('\\n\\tClassification Report on Training Data:\\n\\n')\n",
    "print(classification_report(train_y,pred_train)) \n",
    "\n"
   ]
  },
  {
   "cell_type": "code",
   "execution_count": null,
   "metadata": {},
   "outputs": [],
   "source": [
    "pred_test = SVM_MODEL.predict(test_x)\n",
    "test_SVM=accuracy_score(test_y, pred_test)\n",
    "print('\\nTest Accuracy using Linear SVM:',test_SVM)\n",
    "print('\\nConfusion matrix:\\n\\n',confusion_matrix(test_y,pred_test))\n",
    "print('\\n\\tClassification Report on Testing Data:\\n')\n",
    "print(classification_report(test_y,pred_test))  \n"
   ]
  },
  {
   "cell_type": "code",
   "execution_count": null,
   "metadata": {},
   "outputs": [],
   "source": [
    "\n",
    "\n",
    "# #Create a svm Classifier\n",
    "# clf = svm.SVC(kernel='linear') # Linear Kernel\n",
    "\n",
    "# #Train the model using the training sets\n",
    "# clf.fit(X_train, y_train)\n",
    "\n",
    "# #Predict the response for test dataset\n",
    "# y_pred = clf.predict(X_test)"
   ]
  },
  {
   "cell_type": "code",
   "execution_count": null,
   "metadata": {},
   "outputs": [],
   "source": []
  },
  {
   "cell_type": "code",
   "execution_count": null,
   "metadata": {},
   "outputs": [],
   "source": []
  }
 ],
 "metadata": {
  "kernelspec": {
   "display_name": "Python 3 (ipykernel)",
   "language": "python",
   "name": "python3"
  },
  "language_info": {
   "codemirror_mode": {
    "name": "ipython",
    "version": 3
   },
   "file_extension": ".py",
   "mimetype": "text/x-python",
   "name": "python",
   "nbconvert_exporter": "python",
   "pygments_lexer": "ipython3",
   "version": "3.8.10"
  }
 },
 "nbformat": 4,
 "nbformat_minor": 4
}
